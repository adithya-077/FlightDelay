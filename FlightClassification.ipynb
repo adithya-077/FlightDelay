{
 "cells": [
  {
   "cell_type": "code",
   "execution_count": 149,
   "id": "530bdca2",
   "metadata": {},
   "outputs": [],
   "source": [
    "import pandas as pd\n",
    "import numpy as np\n",
    "import os\n",
    "from sklearn.model_selection import train_test_split\n",
    "import seaborn as sns\n",
    "import matplotlib.pyplot as plt\n",
    "from sklearn.linear_model import LogisticRegression\n",
    "from sklearn.metrics import classification_report\n",
    "from imblearn.over_sampling import SMOTE\n",
    "from sklearn.tree import DecisionTreeClassifier\n",
    "from sklearn.ensemble import RandomForestClassifier\n",
    "from xgboost import XGBClassifier\n",
    "from imblearn.under_sampling import NearMiss\n",
    "from imblearn.under_sampling import RandomUnderSampler\n",
    "from sklearn.ensemble import ExtraTreesClassifier"
   ]
  },
  {
   "cell_type": "code",
   "execution_count": 121,
   "id": "ea902598",
   "metadata": {},
   "outputs": [],
   "source": [
    "df1 = pd.read_csv('./final_merged.csv')\n",
    "df1 = df1.drop(['Unnamed: 0'] , axis=1)"
   ]
  },
  {
   "cell_type": "code",
   "execution_count": 122,
   "id": "996126c2",
   "metadata": {},
   "outputs": [],
   "source": [
    "df1['DelayClass'] = df1['DepDelayMinutes'].apply(lambda x: 1 if x!=0 else 0)"
   ]
  },
  {
   "cell_type": "code",
   "execution_count": 123,
   "id": "532bf66c",
   "metadata": {},
   "outputs": [
    {
     "data": {
      "text/plain": [
       "Index(['Year', 'Quarter', 'Month', 'DayofMonth', 'FlightDate',\n",
       "       'OriginAirportID', 'Origin', 'DestAirportID', 'Dest', 'CRSDepTime',\n",
       "       'DepTime', 'DepDelayMinutes', 'DepDel15', 'CRSArrTime', 'ArrTime',\n",
       "       'ArrDelayMinutes', 'ArrDel15', 'time', 'windspeedKmph', 'DewPointF',\n",
       "       'cloudcover', 'precipMM', 'pressure', 'WindGustKmph', 'visibility',\n",
       "       'weatherCode', 'tempF', 'WindChillF', 'winddirDegree', 'humidity',\n",
       "       'date', 'airport', 'DelayClass'],\n",
       "      dtype='object')"
      ]
     },
     "execution_count": 123,
     "metadata": {},
     "output_type": "execute_result"
    }
   ],
   "source": [
    "df1.columns"
   ]
  },
  {
   "cell_type": "code",
   "execution_count": 124,
   "id": "929ee473",
   "metadata": {},
   "outputs": [],
   "source": [
    "df1=df1.dropna()"
   ]
  },
  {
   "cell_type": "code",
   "execution_count": 125,
   "id": "e7ddbd18",
   "metadata": {},
   "outputs": [],
   "source": [
    "df1 = df1.drop(['FlightDate','Origin','Dest','time','date','airport','ArrTime','ArrDel15','ArrDelayMinutes',\n",
    "       'DepTime', 'DepDelayMinutes', 'DepDel15'],axis=1)"
   ]
  },
  {
   "cell_type": "code",
   "execution_count": 126,
   "id": "09a134ec",
   "metadata": {},
   "outputs": [
    {
     "data": {
      "text/html": [
       "<div>\n",
       "<style scoped>\n",
       "    .dataframe tbody tr th:only-of-type {\n",
       "        vertical-align: middle;\n",
       "    }\n",
       "\n",
       "    .dataframe tbody tr th {\n",
       "        vertical-align: top;\n",
       "    }\n",
       "\n",
       "    .dataframe thead th {\n",
       "        text-align: right;\n",
       "    }\n",
       "</style>\n",
       "<table border=\"1\" class=\"dataframe\">\n",
       "  <thead>\n",
       "    <tr style=\"text-align: right;\">\n",
       "      <th></th>\n",
       "      <th>Year</th>\n",
       "      <th>Quarter</th>\n",
       "      <th>Month</th>\n",
       "      <th>DayofMonth</th>\n",
       "      <th>OriginAirportID</th>\n",
       "      <th>DestAirportID</th>\n",
       "      <th>CRSDepTime</th>\n",
       "      <th>CRSArrTime</th>\n",
       "      <th>windspeedKmph</th>\n",
       "      <th>DewPointF</th>\n",
       "      <th>...</th>\n",
       "      <th>precipMM</th>\n",
       "      <th>pressure</th>\n",
       "      <th>WindGustKmph</th>\n",
       "      <th>visibility</th>\n",
       "      <th>weatherCode</th>\n",
       "      <th>tempF</th>\n",
       "      <th>WindChillF</th>\n",
       "      <th>winddirDegree</th>\n",
       "      <th>humidity</th>\n",
       "      <th>DelayClass</th>\n",
       "    </tr>\n",
       "  </thead>\n",
       "  <tbody>\n",
       "    <tr>\n",
       "      <th>0</th>\n",
       "      <td>2017</td>\n",
       "      <td>3</td>\n",
       "      <td>9</td>\n",
       "      <td>25</td>\n",
       "      <td>12478</td>\n",
       "      <td>13204</td>\n",
       "      <td>1346</td>\n",
       "      <td>1642</td>\n",
       "      <td>12.0</td>\n",
       "      <td>67.0</td>\n",
       "      <td>...</td>\n",
       "      <td>0.0</td>\n",
       "      <td>1017.0</td>\n",
       "      <td>14.0</td>\n",
       "      <td>10.0</td>\n",
       "      <td>116.0</td>\n",
       "      <td>76.0</td>\n",
       "      <td>76.0</td>\n",
       "      <td>117.0</td>\n",
       "      <td>74.0</td>\n",
       "      <td>0</td>\n",
       "    </tr>\n",
       "    <tr>\n",
       "      <th>1</th>\n",
       "      <td>2017</td>\n",
       "      <td>3</td>\n",
       "      <td>9</td>\n",
       "      <td>25</td>\n",
       "      <td>12478</td>\n",
       "      <td>13930</td>\n",
       "      <td>902</td>\n",
       "      <td>1045</td>\n",
       "      <td>6.0</td>\n",
       "      <td>66.0</td>\n",
       "      <td>...</td>\n",
       "      <td>0.0</td>\n",
       "      <td>1018.0</td>\n",
       "      <td>8.0</td>\n",
       "      <td>10.0</td>\n",
       "      <td>116.0</td>\n",
       "      <td>70.0</td>\n",
       "      <td>70.0</td>\n",
       "      <td>145.0</td>\n",
       "      <td>90.0</td>\n",
       "      <td>0</td>\n",
       "    </tr>\n",
       "    <tr>\n",
       "      <th>2</th>\n",
       "      <td>2017</td>\n",
       "      <td>3</td>\n",
       "      <td>9</td>\n",
       "      <td>25</td>\n",
       "      <td>13930</td>\n",
       "      <td>12478</td>\n",
       "      <td>2044</td>\n",
       "      <td>2359</td>\n",
       "      <td>10.0</td>\n",
       "      <td>63.0</td>\n",
       "      <td>...</td>\n",
       "      <td>0.0</td>\n",
       "      <td>1013.0</td>\n",
       "      <td>12.0</td>\n",
       "      <td>10.0</td>\n",
       "      <td>113.0</td>\n",
       "      <td>85.0</td>\n",
       "      <td>85.0</td>\n",
       "      <td>151.0</td>\n",
       "      <td>48.0</td>\n",
       "      <td>1</td>\n",
       "    </tr>\n",
       "    <tr>\n",
       "      <th>3</th>\n",
       "      <td>2017</td>\n",
       "      <td>3</td>\n",
       "      <td>9</td>\n",
       "      <td>25</td>\n",
       "      <td>11057</td>\n",
       "      <td>12478</td>\n",
       "      <td>1952</td>\n",
       "      <td>2157</td>\n",
       "      <td>11.0</td>\n",
       "      <td>64.0</td>\n",
       "      <td>...</td>\n",
       "      <td>0.0</td>\n",
       "      <td>1013.0</td>\n",
       "      <td>18.0</td>\n",
       "      <td>10.0</td>\n",
       "      <td>116.0</td>\n",
       "      <td>80.0</td>\n",
       "      <td>80.0</td>\n",
       "      <td>41.0</td>\n",
       "      <td>59.0</td>\n",
       "      <td>0</td>\n",
       "    </tr>\n",
       "    <tr>\n",
       "      <th>4</th>\n",
       "      <td>2017</td>\n",
       "      <td>3</td>\n",
       "      <td>9</td>\n",
       "      <td>25</td>\n",
       "      <td>12478</td>\n",
       "      <td>11057</td>\n",
       "      <td>1658</td>\n",
       "      <td>1914</td>\n",
       "      <td>14.0</td>\n",
       "      <td>66.0</td>\n",
       "      <td>...</td>\n",
       "      <td>0.0</td>\n",
       "      <td>1017.0</td>\n",
       "      <td>17.0</td>\n",
       "      <td>10.0</td>\n",
       "      <td>143.0</td>\n",
       "      <td>72.0</td>\n",
       "      <td>72.0</td>\n",
       "      <td>134.0</td>\n",
       "      <td>82.0</td>\n",
       "      <td>0</td>\n",
       "    </tr>\n",
       "    <tr>\n",
       "      <th>...</th>\n",
       "      <td>...</td>\n",
       "      <td>...</td>\n",
       "      <td>...</td>\n",
       "      <td>...</td>\n",
       "      <td>...</td>\n",
       "      <td>...</td>\n",
       "      <td>...</td>\n",
       "      <td>...</td>\n",
       "      <td>...</td>\n",
       "      <td>...</td>\n",
       "      <td>...</td>\n",
       "      <td>...</td>\n",
       "      <td>...</td>\n",
       "      <td>...</td>\n",
       "      <td>...</td>\n",
       "      <td>...</td>\n",
       "      <td>...</td>\n",
       "      <td>...</td>\n",
       "      <td>...</td>\n",
       "      <td>...</td>\n",
       "      <td>...</td>\n",
       "    </tr>\n",
       "    <tr>\n",
       "      <th>1877291</th>\n",
       "      <td>2016</td>\n",
       "      <td>1</td>\n",
       "      <td>1</td>\n",
       "      <td>3</td>\n",
       "      <td>13204</td>\n",
       "      <td>13930</td>\n",
       "      <td>1130</td>\n",
       "      <td>1330</td>\n",
       "      <td>16.0</td>\n",
       "      <td>56.0</td>\n",
       "      <td>...</td>\n",
       "      <td>1.9</td>\n",
       "      <td>1017.0</td>\n",
       "      <td>20.0</td>\n",
       "      <td>6.0</td>\n",
       "      <td>302.0</td>\n",
       "      <td>61.0</td>\n",
       "      <td>60.0</td>\n",
       "      <td>331.0</td>\n",
       "      <td>87.0</td>\n",
       "      <td>0</td>\n",
       "    </tr>\n",
       "    <tr>\n",
       "      <th>1877292</th>\n",
       "      <td>2016</td>\n",
       "      <td>1</td>\n",
       "      <td>1</td>\n",
       "      <td>3</td>\n",
       "      <td>14107</td>\n",
       "      <td>11292</td>\n",
       "      <td>2110</td>\n",
       "      <td>2259</td>\n",
       "      <td>17.0</td>\n",
       "      <td>38.0</td>\n",
       "      <td>...</td>\n",
       "      <td>0.0</td>\n",
       "      <td>1013.0</td>\n",
       "      <td>27.0</td>\n",
       "      <td>10.0</td>\n",
       "      <td>122.0</td>\n",
       "      <td>62.0</td>\n",
       "      <td>62.0</td>\n",
       "      <td>76.0</td>\n",
       "      <td>42.0</td>\n",
       "      <td>1</td>\n",
       "    </tr>\n",
       "    <tr>\n",
       "      <th>1877293</th>\n",
       "      <td>2016</td>\n",
       "      <td>1</td>\n",
       "      <td>1</td>\n",
       "      <td>3</td>\n",
       "      <td>11292</td>\n",
       "      <td>14107</td>\n",
       "      <td>1830</td>\n",
       "      <td>2024</td>\n",
       "      <td>4.0</td>\n",
       "      <td>26.0</td>\n",
       "      <td>...</td>\n",
       "      <td>0.0</td>\n",
       "      <td>1029.0</td>\n",
       "      <td>8.0</td>\n",
       "      <td>0.0</td>\n",
       "      <td>260.0</td>\n",
       "      <td>26.0</td>\n",
       "      <td>24.0</td>\n",
       "      <td>158.0</td>\n",
       "      <td>100.0</td>\n",
       "      <td>1</td>\n",
       "    </tr>\n",
       "    <tr>\n",
       "      <th>1877294</th>\n",
       "      <td>2016</td>\n",
       "      <td>1</td>\n",
       "      <td>1</td>\n",
       "      <td>3</td>\n",
       "      <td>13930</td>\n",
       "      <td>13204</td>\n",
       "      <td>925</td>\n",
       "      <td>1312</td>\n",
       "      <td>19.0</td>\n",
       "      <td>21.0</td>\n",
       "      <td>...</td>\n",
       "      <td>0.0</td>\n",
       "      <td>1022.0</td>\n",
       "      <td>28.0</td>\n",
       "      <td>10.0</td>\n",
       "      <td>122.0</td>\n",
       "      <td>24.0</td>\n",
       "      <td>12.0</td>\n",
       "      <td>333.0</td>\n",
       "      <td>89.0</td>\n",
       "      <td>1</td>\n",
       "    </tr>\n",
       "    <tr>\n",
       "      <th>1877295</th>\n",
       "      <td>2016</td>\n",
       "      <td>1</td>\n",
       "      <td>1</td>\n",
       "      <td>3</td>\n",
       "      <td>13204</td>\n",
       "      <td>13930</td>\n",
       "      <td>630</td>\n",
       "      <td>835</td>\n",
       "      <td>17.0</td>\n",
       "      <td>58.0</td>\n",
       "      <td>...</td>\n",
       "      <td>0.1</td>\n",
       "      <td>1016.0</td>\n",
       "      <td>23.0</td>\n",
       "      <td>7.0</td>\n",
       "      <td>122.0</td>\n",
       "      <td>64.0</td>\n",
       "      <td>64.0</td>\n",
       "      <td>344.0</td>\n",
       "      <td>82.0</td>\n",
       "      <td>0</td>\n",
       "    </tr>\n",
       "  </tbody>\n",
       "</table>\n",
       "<p>1834018 rows × 21 columns</p>\n",
       "</div>"
      ],
      "text/plain": [
       "         Year  Quarter  Month  DayofMonth  OriginAirportID  DestAirportID  \\\n",
       "0        2017        3      9          25            12478          13204   \n",
       "1        2017        3      9          25            12478          13930   \n",
       "2        2017        3      9          25            13930          12478   \n",
       "3        2017        3      9          25            11057          12478   \n",
       "4        2017        3      9          25            12478          11057   \n",
       "...       ...      ...    ...         ...              ...            ...   \n",
       "1877291  2016        1      1           3            13204          13930   \n",
       "1877292  2016        1      1           3            14107          11292   \n",
       "1877293  2016        1      1           3            11292          14107   \n",
       "1877294  2016        1      1           3            13930          13204   \n",
       "1877295  2016        1      1           3            13204          13930   \n",
       "\n",
       "         CRSDepTime  CRSArrTime  windspeedKmph  DewPointF  ...  precipMM  \\\n",
       "0              1346        1642           12.0       67.0  ...       0.0   \n",
       "1               902        1045            6.0       66.0  ...       0.0   \n",
       "2              2044        2359           10.0       63.0  ...       0.0   \n",
       "3              1952        2157           11.0       64.0  ...       0.0   \n",
       "4              1658        1914           14.0       66.0  ...       0.0   \n",
       "...             ...         ...            ...        ...  ...       ...   \n",
       "1877291        1130        1330           16.0       56.0  ...       1.9   \n",
       "1877292        2110        2259           17.0       38.0  ...       0.0   \n",
       "1877293        1830        2024            4.0       26.0  ...       0.0   \n",
       "1877294         925        1312           19.0       21.0  ...       0.0   \n",
       "1877295         630         835           17.0       58.0  ...       0.1   \n",
       "\n",
       "         pressure  WindGustKmph  visibility  weatherCode  tempF  WindChillF  \\\n",
       "0          1017.0          14.0        10.0        116.0   76.0        76.0   \n",
       "1          1018.0           8.0        10.0        116.0   70.0        70.0   \n",
       "2          1013.0          12.0        10.0        113.0   85.0        85.0   \n",
       "3          1013.0          18.0        10.0        116.0   80.0        80.0   \n",
       "4          1017.0          17.0        10.0        143.0   72.0        72.0   \n",
       "...           ...           ...         ...          ...    ...         ...   \n",
       "1877291    1017.0          20.0         6.0        302.0   61.0        60.0   \n",
       "1877292    1013.0          27.0        10.0        122.0   62.0        62.0   \n",
       "1877293    1029.0           8.0         0.0        260.0   26.0        24.0   \n",
       "1877294    1022.0          28.0        10.0        122.0   24.0        12.0   \n",
       "1877295    1016.0          23.0         7.0        122.0   64.0        64.0   \n",
       "\n",
       "         winddirDegree  humidity  DelayClass  \n",
       "0                117.0      74.0           0  \n",
       "1                145.0      90.0           0  \n",
       "2                151.0      48.0           1  \n",
       "3                 41.0      59.0           0  \n",
       "4                134.0      82.0           0  \n",
       "...                ...       ...         ...  \n",
       "1877291          331.0      87.0           0  \n",
       "1877292           76.0      42.0           1  \n",
       "1877293          158.0     100.0           1  \n",
       "1877294          333.0      89.0           1  \n",
       "1877295          344.0      82.0           0  \n",
       "\n",
       "[1834018 rows x 21 columns]"
      ]
     },
     "execution_count": 126,
     "metadata": {},
     "output_type": "execute_result"
    }
   ],
   "source": [
    "df1"
   ]
  },
  {
   "cell_type": "code",
   "execution_count": 127,
   "id": "c5a1eacc",
   "metadata": {},
   "outputs": [
    {
     "data": {
      "text/html": [
       "<div>\n",
       "<style scoped>\n",
       "    .dataframe tbody tr th:only-of-type {\n",
       "        vertical-align: middle;\n",
       "    }\n",
       "\n",
       "    .dataframe tbody tr th {\n",
       "        vertical-align: top;\n",
       "    }\n",
       "\n",
       "    .dataframe thead th {\n",
       "        text-align: right;\n",
       "    }\n",
       "</style>\n",
       "<table border=\"1\" class=\"dataframe\">\n",
       "  <thead>\n",
       "    <tr style=\"text-align: right;\">\n",
       "      <th></th>\n",
       "      <th>Year</th>\n",
       "      <th>Quarter</th>\n",
       "      <th>Month</th>\n",
       "      <th>DayofMonth</th>\n",
       "      <th>OriginAirportID</th>\n",
       "      <th>DestAirportID</th>\n",
       "      <th>CRSDepTime</th>\n",
       "      <th>CRSArrTime</th>\n",
       "      <th>windspeedKmph</th>\n",
       "      <th>DewPointF</th>\n",
       "      <th>...</th>\n",
       "      <th>precipMM</th>\n",
       "      <th>pressure</th>\n",
       "      <th>WindGustKmph</th>\n",
       "      <th>visibility</th>\n",
       "      <th>weatherCode</th>\n",
       "      <th>tempF</th>\n",
       "      <th>WindChillF</th>\n",
       "      <th>winddirDegree</th>\n",
       "      <th>humidity</th>\n",
       "      <th>DelayClass</th>\n",
       "    </tr>\n",
       "  </thead>\n",
       "  <tbody>\n",
       "    <tr>\n",
       "      <th>Year</th>\n",
       "      <td>1.000000</td>\n",
       "      <td>-0.001482</td>\n",
       "      <td>-0.002123</td>\n",
       "      <td>0.000229</td>\n",
       "      <td>0.000413</td>\n",
       "      <td>0.000245</td>\n",
       "      <td>0.001934</td>\n",
       "      <td>0.000027</td>\n",
       "      <td>0.027998</td>\n",
       "      <td>-0.017579</td>\n",
       "      <td>...</td>\n",
       "      <td>0.009171</td>\n",
       "      <td>-0.043726</td>\n",
       "      <td>0.040949</td>\n",
       "      <td>0.057806</td>\n",
       "      <td>-0.022994</td>\n",
       "      <td>-0.011376</td>\n",
       "      <td>0.003672</td>\n",
       "      <td>0.000174</td>\n",
       "      <td>-0.043741</td>\n",
       "      <td>-0.016817</td>\n",
       "    </tr>\n",
       "    <tr>\n",
       "      <th>Quarter</th>\n",
       "      <td>-0.001482</td>\n",
       "      <td>1.000000</td>\n",
       "      <td>0.970570</td>\n",
       "      <td>0.010586</td>\n",
       "      <td>0.002955</td>\n",
       "      <td>0.003532</td>\n",
       "      <td>-0.003222</td>\n",
       "      <td>-0.003149</td>\n",
       "      <td>-0.098277</td>\n",
       "      <td>0.134336</td>\n",
       "      <td>...</td>\n",
       "      <td>-0.038070</td>\n",
       "      <td>0.037999</td>\n",
       "      <td>-0.093351</td>\n",
       "      <td>0.119100</td>\n",
       "      <td>-0.087895</td>\n",
       "      <td>0.153333</td>\n",
       "      <td>0.149413</td>\n",
       "      <td>-0.046475</td>\n",
       "      <td>-0.054573</td>\n",
       "      <td>-0.020482</td>\n",
       "    </tr>\n",
       "    <tr>\n",
       "      <th>Month</th>\n",
       "      <td>-0.002123</td>\n",
       "      <td>0.970570</td>\n",
       "      <td>1.000000</td>\n",
       "      <td>0.010398</td>\n",
       "      <td>0.002982</td>\n",
       "      <td>0.003583</td>\n",
       "      <td>-0.002821</td>\n",
       "      <td>-0.003825</td>\n",
       "      <td>-0.094867</td>\n",
       "      <td>0.123628</td>\n",
       "      <td>...</td>\n",
       "      <td>-0.040719</td>\n",
       "      <td>0.043222</td>\n",
       "      <td>-0.090576</td>\n",
       "      <td>0.120283</td>\n",
       "      <td>-0.088409</td>\n",
       "      <td>0.142851</td>\n",
       "      <td>0.138489</td>\n",
       "      <td>-0.047825</td>\n",
       "      <td>-0.053722</td>\n",
       "      <td>-0.020575</td>\n",
       "    </tr>\n",
       "    <tr>\n",
       "      <th>DayofMonth</th>\n",
       "      <td>0.000229</td>\n",
       "      <td>0.010586</td>\n",
       "      <td>0.010398</td>\n",
       "      <td>1.000000</td>\n",
       "      <td>0.000303</td>\n",
       "      <td>0.000310</td>\n",
       "      <td>-0.000143</td>\n",
       "      <td>-0.001545</td>\n",
       "      <td>0.009261</td>\n",
       "      <td>0.018220</td>\n",
       "      <td>...</td>\n",
       "      <td>-0.002196</td>\n",
       "      <td>-0.033402</td>\n",
       "      <td>0.006058</td>\n",
       "      <td>0.024988</td>\n",
       "      <td>-0.009631</td>\n",
       "      <td>0.016581</td>\n",
       "      <td>0.016114</td>\n",
       "      <td>0.001036</td>\n",
       "      <td>-0.001323</td>\n",
       "      <td>-0.005709</td>\n",
       "    </tr>\n",
       "    <tr>\n",
       "      <th>OriginAirportID</th>\n",
       "      <td>0.000413</td>\n",
       "      <td>0.002955</td>\n",
       "      <td>0.002982</td>\n",
       "      <td>0.000303</td>\n",
       "      <td>1.000000</td>\n",
       "      <td>-0.026355</td>\n",
       "      <td>-0.052992</td>\n",
       "      <td>-0.021444</td>\n",
       "      <td>-0.040186</td>\n",
       "      <td>-0.018118</td>\n",
       "      <td>...</td>\n",
       "      <td>-0.029471</td>\n",
       "      <td>-0.057966</td>\n",
       "      <td>-0.045199</td>\n",
       "      <td>-0.019767</td>\n",
       "      <td>-0.026933</td>\n",
       "      <td>-0.050995</td>\n",
       "      <td>-0.047370</td>\n",
       "      <td>0.011149</td>\n",
       "      <td>0.098838</td>\n",
       "      <td>0.002408</td>\n",
       "    </tr>\n",
       "    <tr>\n",
       "      <th>DestAirportID</th>\n",
       "      <td>0.000245</td>\n",
       "      <td>0.003532</td>\n",
       "      <td>0.003583</td>\n",
       "      <td>0.000310</td>\n",
       "      <td>-0.026355</td>\n",
       "      <td>1.000000</td>\n",
       "      <td>0.067229</td>\n",
       "      <td>0.008753</td>\n",
       "      <td>0.006616</td>\n",
       "      <td>-0.057240</td>\n",
       "      <td>...</td>\n",
       "      <td>-0.010468</td>\n",
       "      <td>-0.029394</td>\n",
       "      <td>0.002146</td>\n",
       "      <td>0.014307</td>\n",
       "      <td>-0.018354</td>\n",
       "      <td>-0.029965</td>\n",
       "      <td>-0.028656</td>\n",
       "      <td>0.029591</td>\n",
       "      <td>-0.025567</td>\n",
       "      <td>0.028415</td>\n",
       "    </tr>\n",
       "    <tr>\n",
       "      <th>CRSDepTime</th>\n",
       "      <td>0.001934</td>\n",
       "      <td>-0.003222</td>\n",
       "      <td>-0.002821</td>\n",
       "      <td>-0.000143</td>\n",
       "      <td>-0.052992</td>\n",
       "      <td>0.067229</td>\n",
       "      <td>1.000000</td>\n",
       "      <td>0.535206</td>\n",
       "      <td>0.174511</td>\n",
       "      <td>0.035480</td>\n",
       "      <td>...</td>\n",
       "      <td>0.036494</td>\n",
       "      <td>-0.077309</td>\n",
       "      <td>0.124090</td>\n",
       "      <td>0.113659</td>\n",
       "      <td>0.015472</td>\n",
       "      <td>0.164287</td>\n",
       "      <td>0.162883</td>\n",
       "      <td>0.054194</td>\n",
       "      <td>-0.208309</td>\n",
       "      <td>0.174892</td>\n",
       "    </tr>\n",
       "    <tr>\n",
       "      <th>CRSArrTime</th>\n",
       "      <td>0.000027</td>\n",
       "      <td>-0.003149</td>\n",
       "      <td>-0.003825</td>\n",
       "      <td>-0.001545</td>\n",
       "      <td>-0.021444</td>\n",
       "      <td>0.008753</td>\n",
       "      <td>0.535206</td>\n",
       "      <td>1.000000</td>\n",
       "      <td>0.159443</td>\n",
       "      <td>0.003448</td>\n",
       "      <td>...</td>\n",
       "      <td>0.029463</td>\n",
       "      <td>-0.062992</td>\n",
       "      <td>0.089311</td>\n",
       "      <td>0.095796</td>\n",
       "      <td>0.011922</td>\n",
       "      <td>0.143195</td>\n",
       "      <td>0.133718</td>\n",
       "      <td>0.020320</td>\n",
       "      <td>-0.211462</td>\n",
       "      <td>0.135698</td>\n",
       "    </tr>\n",
       "    <tr>\n",
       "      <th>windspeedKmph</th>\n",
       "      <td>0.027998</td>\n",
       "      <td>-0.098277</td>\n",
       "      <td>-0.094867</td>\n",
       "      <td>0.009261</td>\n",
       "      <td>-0.040186</td>\n",
       "      <td>0.006616</td>\n",
       "      <td>0.174511</td>\n",
       "      <td>0.159443</td>\n",
       "      <td>1.000000</td>\n",
       "      <td>-0.055102</td>\n",
       "      <td>...</td>\n",
       "      <td>0.129822</td>\n",
       "      <td>-0.203971</td>\n",
       "      <td>0.911154</td>\n",
       "      <td>0.035715</td>\n",
       "      <td>0.117083</td>\n",
       "      <td>-0.097024</td>\n",
       "      <td>-0.127465</td>\n",
       "      <td>0.120536</td>\n",
       "      <td>0.014481</td>\n",
       "      <td>0.081886</td>\n",
       "    </tr>\n",
       "    <tr>\n",
       "      <th>DewPointF</th>\n",
       "      <td>-0.017579</td>\n",
       "      <td>0.134336</td>\n",
       "      <td>0.123628</td>\n",
       "      <td>0.018220</td>\n",
       "      <td>-0.018118</td>\n",
       "      <td>-0.057240</td>\n",
       "      <td>0.035480</td>\n",
       "      <td>0.003448</td>\n",
       "      <td>-0.055102</td>\n",
       "      <td>1.000000</td>\n",
       "      <td>...</td>\n",
       "      <td>0.142190</td>\n",
       "      <td>-0.199114</td>\n",
       "      <td>-0.066857</td>\n",
       "      <td>-0.077349</td>\n",
       "      <td>0.208527</td>\n",
       "      <td>0.651798</td>\n",
       "      <td>0.662072</td>\n",
       "      <td>-0.080022</td>\n",
       "      <td>0.350513</td>\n",
       "      <td>0.029591</td>\n",
       "    </tr>\n",
       "    <tr>\n",
       "      <th>cloudcover</th>\n",
       "      <td>-0.089723</td>\n",
       "      <td>-0.086720</td>\n",
       "      <td>-0.084063</td>\n",
       "      <td>-0.015432</td>\n",
       "      <td>0.073512</td>\n",
       "      <td>-0.014363</td>\n",
       "      <td>-0.059108</td>\n",
       "      <td>-0.035452</td>\n",
       "      <td>0.090055</td>\n",
       "      <td>0.136783</td>\n",
       "      <td>...</td>\n",
       "      <td>0.264214</td>\n",
       "      <td>-0.043351</td>\n",
       "      <td>0.130407</td>\n",
       "      <td>-0.361171</td>\n",
       "      <td>0.452187</td>\n",
       "      <td>-0.246342</td>\n",
       "      <td>-0.242657</td>\n",
       "      <td>-0.078573</td>\n",
       "      <td>0.530327</td>\n",
       "      <td>0.027344</td>\n",
       "    </tr>\n",
       "    <tr>\n",
       "      <th>precipMM</th>\n",
       "      <td>0.009171</td>\n",
       "      <td>-0.038070</td>\n",
       "      <td>-0.040719</td>\n",
       "      <td>-0.002196</td>\n",
       "      <td>-0.029471</td>\n",
       "      <td>-0.010468</td>\n",
       "      <td>0.036494</td>\n",
       "      <td>0.029463</td>\n",
       "      <td>0.129822</td>\n",
       "      <td>0.142190</td>\n",
       "      <td>...</td>\n",
       "      <td>1.000000</td>\n",
       "      <td>-0.142028</td>\n",
       "      <td>0.204758</td>\n",
       "      <td>-0.270158</td>\n",
       "      <td>0.546578</td>\n",
       "      <td>-0.004616</td>\n",
       "      <td>-0.005771</td>\n",
       "      <td>-0.061257</td>\n",
       "      <td>0.201670</td>\n",
       "      <td>0.073861</td>\n",
       "    </tr>\n",
       "    <tr>\n",
       "      <th>pressure</th>\n",
       "      <td>-0.043726</td>\n",
       "      <td>0.037999</td>\n",
       "      <td>0.043222</td>\n",
       "      <td>-0.033402</td>\n",
       "      <td>-0.057966</td>\n",
       "      <td>-0.029394</td>\n",
       "      <td>-0.077309</td>\n",
       "      <td>-0.062992</td>\n",
       "      <td>-0.203971</td>\n",
       "      <td>-0.199114</td>\n",
       "      <td>...</td>\n",
       "      <td>-0.142028</td>\n",
       "      <td>1.000000</td>\n",
       "      <td>-0.212795</td>\n",
       "      <td>0.023758</td>\n",
       "      <td>-0.146363</td>\n",
       "      <td>-0.345882</td>\n",
       "      <td>-0.343534</td>\n",
       "      <td>-0.134666</td>\n",
       "      <td>0.132320</td>\n",
       "      <td>-0.051390</td>\n",
       "    </tr>\n",
       "    <tr>\n",
       "      <th>WindGustKmph</th>\n",
       "      <td>0.040949</td>\n",
       "      <td>-0.093351</td>\n",
       "      <td>-0.090576</td>\n",
       "      <td>0.006058</td>\n",
       "      <td>-0.045199</td>\n",
       "      <td>0.002146</td>\n",
       "      <td>0.124090</td>\n",
       "      <td>0.089311</td>\n",
       "      <td>0.911154</td>\n",
       "      <td>-0.066857</td>\n",
       "      <td>...</td>\n",
       "      <td>0.204758</td>\n",
       "      <td>-0.212795</td>\n",
       "      <td>1.000000</td>\n",
       "      <td>-0.014268</td>\n",
       "      <td>0.186084</td>\n",
       "      <td>-0.144962</td>\n",
       "      <td>-0.171694</td>\n",
       "      <td>0.085651</td>\n",
       "      <td>0.074794</td>\n",
       "      <td>0.065553</td>\n",
       "    </tr>\n",
       "    <tr>\n",
       "      <th>visibility</th>\n",
       "      <td>0.057806</td>\n",
       "      <td>0.119100</td>\n",
       "      <td>0.120283</td>\n",
       "      <td>0.024988</td>\n",
       "      <td>-0.019767</td>\n",
       "      <td>0.014307</td>\n",
       "      <td>0.113659</td>\n",
       "      <td>0.095796</td>\n",
       "      <td>0.035715</td>\n",
       "      <td>-0.077349</td>\n",
       "      <td>...</td>\n",
       "      <td>-0.270158</td>\n",
       "      <td>0.023758</td>\n",
       "      <td>-0.014268</td>\n",
       "      <td>1.000000</td>\n",
       "      <td>-0.374828</td>\n",
       "      <td>0.150242</td>\n",
       "      <td>0.143227</td>\n",
       "      <td>0.050540</td>\n",
       "      <td>-0.359066</td>\n",
       "      <td>-0.005523</td>\n",
       "    </tr>\n",
       "    <tr>\n",
       "      <th>weatherCode</th>\n",
       "      <td>-0.022994</td>\n",
       "      <td>-0.087895</td>\n",
       "      <td>-0.088409</td>\n",
       "      <td>-0.009631</td>\n",
       "      <td>-0.026933</td>\n",
       "      <td>-0.018354</td>\n",
       "      <td>0.015472</td>\n",
       "      <td>0.011922</td>\n",
       "      <td>0.117083</td>\n",
       "      <td>0.208527</td>\n",
       "      <td>...</td>\n",
       "      <td>0.546578</td>\n",
       "      <td>-0.146363</td>\n",
       "      <td>0.186084</td>\n",
       "      <td>-0.374828</td>\n",
       "      <td>1.000000</td>\n",
       "      <td>-0.013855</td>\n",
       "      <td>-0.012203</td>\n",
       "      <td>-0.079636</td>\n",
       "      <td>0.289044</td>\n",
       "      <td>0.072763</td>\n",
       "    </tr>\n",
       "    <tr>\n",
       "      <th>tempF</th>\n",
       "      <td>-0.011376</td>\n",
       "      <td>0.153333</td>\n",
       "      <td>0.142851</td>\n",
       "      <td>0.016581</td>\n",
       "      <td>-0.050995</td>\n",
       "      <td>-0.029965</td>\n",
       "      <td>0.164287</td>\n",
       "      <td>0.143195</td>\n",
       "      <td>-0.097024</td>\n",
       "      <td>0.651798</td>\n",
       "      <td>...</td>\n",
       "      <td>-0.004616</td>\n",
       "      <td>-0.345882</td>\n",
       "      <td>-0.144962</td>\n",
       "      <td>0.150242</td>\n",
       "      <td>-0.013855</td>\n",
       "      <td>1.000000</td>\n",
       "      <td>0.993142</td>\n",
       "      <td>-0.082617</td>\n",
       "      <td>-0.425840</td>\n",
       "      <td>0.040526</td>\n",
       "    </tr>\n",
       "    <tr>\n",
       "      <th>WindChillF</th>\n",
       "      <td>0.003672</td>\n",
       "      <td>0.149413</td>\n",
       "      <td>0.138489</td>\n",
       "      <td>0.016114</td>\n",
       "      <td>-0.047370</td>\n",
       "      <td>-0.028656</td>\n",
       "      <td>0.162883</td>\n",
       "      <td>0.133718</td>\n",
       "      <td>-0.127465</td>\n",
       "      <td>0.662072</td>\n",
       "      <td>...</td>\n",
       "      <td>-0.005771</td>\n",
       "      <td>-0.343534</td>\n",
       "      <td>-0.171694</td>\n",
       "      <td>0.143227</td>\n",
       "      <td>-0.012203</td>\n",
       "      <td>0.993142</td>\n",
       "      <td>1.000000</td>\n",
       "      <td>-0.091642</td>\n",
       "      <td>-0.413256</td>\n",
       "      <td>0.035699</td>\n",
       "    </tr>\n",
       "    <tr>\n",
       "      <th>winddirDegree</th>\n",
       "      <td>0.000174</td>\n",
       "      <td>-0.046475</td>\n",
       "      <td>-0.047825</td>\n",
       "      <td>0.001036</td>\n",
       "      <td>0.011149</td>\n",
       "      <td>0.029591</td>\n",
       "      <td>0.054194</td>\n",
       "      <td>0.020320</td>\n",
       "      <td>0.120536</td>\n",
       "      <td>-0.080022</td>\n",
       "      <td>...</td>\n",
       "      <td>-0.061257</td>\n",
       "      <td>-0.134666</td>\n",
       "      <td>0.085651</td>\n",
       "      <td>0.050540</td>\n",
       "      <td>-0.079636</td>\n",
       "      <td>-0.082617</td>\n",
       "      <td>-0.091642</td>\n",
       "      <td>1.000000</td>\n",
       "      <td>0.008698</td>\n",
       "      <td>0.022689</td>\n",
       "    </tr>\n",
       "    <tr>\n",
       "      <th>humidity</th>\n",
       "      <td>-0.043741</td>\n",
       "      <td>-0.054573</td>\n",
       "      <td>-0.053722</td>\n",
       "      <td>-0.001323</td>\n",
       "      <td>0.098838</td>\n",
       "      <td>-0.025567</td>\n",
       "      <td>-0.208309</td>\n",
       "      <td>-0.211462</td>\n",
       "      <td>0.014481</td>\n",
       "      <td>0.350513</td>\n",
       "      <td>...</td>\n",
       "      <td>0.201670</td>\n",
       "      <td>0.132320</td>\n",
       "      <td>0.074794</td>\n",
       "      <td>-0.359066</td>\n",
       "      <td>0.289044</td>\n",
       "      <td>-0.425840</td>\n",
       "      <td>-0.413256</td>\n",
       "      <td>0.008698</td>\n",
       "      <td>1.000000</td>\n",
       "      <td>-0.020091</td>\n",
       "    </tr>\n",
       "    <tr>\n",
       "      <th>DelayClass</th>\n",
       "      <td>-0.016817</td>\n",
       "      <td>-0.020482</td>\n",
       "      <td>-0.020575</td>\n",
       "      <td>-0.005709</td>\n",
       "      <td>0.002408</td>\n",
       "      <td>0.028415</td>\n",
       "      <td>0.174892</td>\n",
       "      <td>0.135698</td>\n",
       "      <td>0.081886</td>\n",
       "      <td>0.029591</td>\n",
       "      <td>...</td>\n",
       "      <td>0.073861</td>\n",
       "      <td>-0.051390</td>\n",
       "      <td>0.065553</td>\n",
       "      <td>-0.005523</td>\n",
       "      <td>0.072763</td>\n",
       "      <td>0.040526</td>\n",
       "      <td>0.035699</td>\n",
       "      <td>0.022689</td>\n",
       "      <td>-0.020091</td>\n",
       "      <td>1.000000</td>\n",
       "    </tr>\n",
       "  </tbody>\n",
       "</table>\n",
       "<p>21 rows × 21 columns</p>\n",
       "</div>"
      ],
      "text/plain": [
       "                     Year   Quarter     Month  DayofMonth  OriginAirportID  \\\n",
       "Year             1.000000 -0.001482 -0.002123    0.000229         0.000413   \n",
       "Quarter         -0.001482  1.000000  0.970570    0.010586         0.002955   \n",
       "Month           -0.002123  0.970570  1.000000    0.010398         0.002982   \n",
       "DayofMonth       0.000229  0.010586  0.010398    1.000000         0.000303   \n",
       "OriginAirportID  0.000413  0.002955  0.002982    0.000303         1.000000   \n",
       "DestAirportID    0.000245  0.003532  0.003583    0.000310        -0.026355   \n",
       "CRSDepTime       0.001934 -0.003222 -0.002821   -0.000143        -0.052992   \n",
       "CRSArrTime       0.000027 -0.003149 -0.003825   -0.001545        -0.021444   \n",
       "windspeedKmph    0.027998 -0.098277 -0.094867    0.009261        -0.040186   \n",
       "DewPointF       -0.017579  0.134336  0.123628    0.018220        -0.018118   \n",
       "cloudcover      -0.089723 -0.086720 -0.084063   -0.015432         0.073512   \n",
       "precipMM         0.009171 -0.038070 -0.040719   -0.002196        -0.029471   \n",
       "pressure        -0.043726  0.037999  0.043222   -0.033402        -0.057966   \n",
       "WindGustKmph     0.040949 -0.093351 -0.090576    0.006058        -0.045199   \n",
       "visibility       0.057806  0.119100  0.120283    0.024988        -0.019767   \n",
       "weatherCode     -0.022994 -0.087895 -0.088409   -0.009631        -0.026933   \n",
       "tempF           -0.011376  0.153333  0.142851    0.016581        -0.050995   \n",
       "WindChillF       0.003672  0.149413  0.138489    0.016114        -0.047370   \n",
       "winddirDegree    0.000174 -0.046475 -0.047825    0.001036         0.011149   \n",
       "humidity        -0.043741 -0.054573 -0.053722   -0.001323         0.098838   \n",
       "DelayClass      -0.016817 -0.020482 -0.020575   -0.005709         0.002408   \n",
       "\n",
       "                 DestAirportID  CRSDepTime  CRSArrTime  windspeedKmph  \\\n",
       "Year                  0.000245    0.001934    0.000027       0.027998   \n",
       "Quarter               0.003532   -0.003222   -0.003149      -0.098277   \n",
       "Month                 0.003583   -0.002821   -0.003825      -0.094867   \n",
       "DayofMonth            0.000310   -0.000143   -0.001545       0.009261   \n",
       "OriginAirportID      -0.026355   -0.052992   -0.021444      -0.040186   \n",
       "DestAirportID         1.000000    0.067229    0.008753       0.006616   \n",
       "CRSDepTime            0.067229    1.000000    0.535206       0.174511   \n",
       "CRSArrTime            0.008753    0.535206    1.000000       0.159443   \n",
       "windspeedKmph         0.006616    0.174511    0.159443       1.000000   \n",
       "DewPointF            -0.057240    0.035480    0.003448      -0.055102   \n",
       "cloudcover           -0.014363   -0.059108   -0.035452       0.090055   \n",
       "precipMM             -0.010468    0.036494    0.029463       0.129822   \n",
       "pressure             -0.029394   -0.077309   -0.062992      -0.203971   \n",
       "WindGustKmph          0.002146    0.124090    0.089311       0.911154   \n",
       "visibility            0.014307    0.113659    0.095796       0.035715   \n",
       "weatherCode          -0.018354    0.015472    0.011922       0.117083   \n",
       "tempF                -0.029965    0.164287    0.143195      -0.097024   \n",
       "WindChillF           -0.028656    0.162883    0.133718      -0.127465   \n",
       "winddirDegree         0.029591    0.054194    0.020320       0.120536   \n",
       "humidity             -0.025567   -0.208309   -0.211462       0.014481   \n",
       "DelayClass            0.028415    0.174892    0.135698       0.081886   \n",
       "\n",
       "                 DewPointF  ...  precipMM  pressure  WindGustKmph  visibility  \\\n",
       "Year             -0.017579  ...  0.009171 -0.043726      0.040949    0.057806   \n",
       "Quarter           0.134336  ... -0.038070  0.037999     -0.093351    0.119100   \n",
       "Month             0.123628  ... -0.040719  0.043222     -0.090576    0.120283   \n",
       "DayofMonth        0.018220  ... -0.002196 -0.033402      0.006058    0.024988   \n",
       "OriginAirportID  -0.018118  ... -0.029471 -0.057966     -0.045199   -0.019767   \n",
       "DestAirportID    -0.057240  ... -0.010468 -0.029394      0.002146    0.014307   \n",
       "CRSDepTime        0.035480  ...  0.036494 -0.077309      0.124090    0.113659   \n",
       "CRSArrTime        0.003448  ...  0.029463 -0.062992      0.089311    0.095796   \n",
       "windspeedKmph    -0.055102  ...  0.129822 -0.203971      0.911154    0.035715   \n",
       "DewPointF         1.000000  ...  0.142190 -0.199114     -0.066857   -0.077349   \n",
       "cloudcover        0.136783  ...  0.264214 -0.043351      0.130407   -0.361171   \n",
       "precipMM          0.142190  ...  1.000000 -0.142028      0.204758   -0.270158   \n",
       "pressure         -0.199114  ... -0.142028  1.000000     -0.212795    0.023758   \n",
       "WindGustKmph     -0.066857  ...  0.204758 -0.212795      1.000000   -0.014268   \n",
       "visibility       -0.077349  ... -0.270158  0.023758     -0.014268    1.000000   \n",
       "weatherCode       0.208527  ...  0.546578 -0.146363      0.186084   -0.374828   \n",
       "tempF             0.651798  ... -0.004616 -0.345882     -0.144962    0.150242   \n",
       "WindChillF        0.662072  ... -0.005771 -0.343534     -0.171694    0.143227   \n",
       "winddirDegree    -0.080022  ... -0.061257 -0.134666      0.085651    0.050540   \n",
       "humidity          0.350513  ...  0.201670  0.132320      0.074794   -0.359066   \n",
       "DelayClass        0.029591  ...  0.073861 -0.051390      0.065553   -0.005523   \n",
       "\n",
       "                 weatherCode     tempF  WindChillF  winddirDegree  humidity  \\\n",
       "Year               -0.022994 -0.011376    0.003672       0.000174 -0.043741   \n",
       "Quarter            -0.087895  0.153333    0.149413      -0.046475 -0.054573   \n",
       "Month              -0.088409  0.142851    0.138489      -0.047825 -0.053722   \n",
       "DayofMonth         -0.009631  0.016581    0.016114       0.001036 -0.001323   \n",
       "OriginAirportID    -0.026933 -0.050995   -0.047370       0.011149  0.098838   \n",
       "DestAirportID      -0.018354 -0.029965   -0.028656       0.029591 -0.025567   \n",
       "CRSDepTime          0.015472  0.164287    0.162883       0.054194 -0.208309   \n",
       "CRSArrTime          0.011922  0.143195    0.133718       0.020320 -0.211462   \n",
       "windspeedKmph       0.117083 -0.097024   -0.127465       0.120536  0.014481   \n",
       "DewPointF           0.208527  0.651798    0.662072      -0.080022  0.350513   \n",
       "cloudcover          0.452187 -0.246342   -0.242657      -0.078573  0.530327   \n",
       "precipMM            0.546578 -0.004616   -0.005771      -0.061257  0.201670   \n",
       "pressure           -0.146363 -0.345882   -0.343534      -0.134666  0.132320   \n",
       "WindGustKmph        0.186084 -0.144962   -0.171694       0.085651  0.074794   \n",
       "visibility         -0.374828  0.150242    0.143227       0.050540 -0.359066   \n",
       "weatherCode         1.000000 -0.013855   -0.012203      -0.079636  0.289044   \n",
       "tempF              -0.013855  1.000000    0.993142      -0.082617 -0.425840   \n",
       "WindChillF         -0.012203  0.993142    1.000000      -0.091642 -0.413256   \n",
       "winddirDegree      -0.079636 -0.082617   -0.091642       1.000000  0.008698   \n",
       "humidity            0.289044 -0.425840   -0.413256       0.008698  1.000000   \n",
       "DelayClass          0.072763  0.040526    0.035699       0.022689 -0.020091   \n",
       "\n",
       "                 DelayClass  \n",
       "Year              -0.016817  \n",
       "Quarter           -0.020482  \n",
       "Month             -0.020575  \n",
       "DayofMonth        -0.005709  \n",
       "OriginAirportID    0.002408  \n",
       "DestAirportID      0.028415  \n",
       "CRSDepTime         0.174892  \n",
       "CRSArrTime         0.135698  \n",
       "windspeedKmph      0.081886  \n",
       "DewPointF          0.029591  \n",
       "cloudcover         0.027344  \n",
       "precipMM           0.073861  \n",
       "pressure          -0.051390  \n",
       "WindGustKmph       0.065553  \n",
       "visibility        -0.005523  \n",
       "weatherCode        0.072763  \n",
       "tempF              0.040526  \n",
       "WindChillF         0.035699  \n",
       "winddirDegree      0.022689  \n",
       "humidity          -0.020091  \n",
       "DelayClass         1.000000  \n",
       "\n",
       "[21 rows x 21 columns]"
      ]
     },
     "execution_count": 127,
     "metadata": {},
     "output_type": "execute_result"
    }
   ],
   "source": [
    "cor= df1.corr() \n",
    "cor"
   ]
  },
  {
   "cell_type": "code",
   "execution_count": 128,
   "id": "899ee6c7",
   "metadata": {},
   "outputs": [
    {
     "data": {
      "text/plain": [
       "<AxesSubplot:>"
      ]
     },
     "execution_count": 128,
     "metadata": {},
     "output_type": "execute_result"
    },
    {
     "data": {
      "image/png": "[encoded data removed]",
      "text/plain": [
       "<Figure size 1800x1800 with 2 Axes>"
      ]
     },
     "metadata": {
      "needs_background": "light"
     },
     "output_type": "display_data"
    }
   ],
   "source": [
    "plt.figure(figsize=(25,25))\n",
    "sns.heatmap(cor,annot=True)"
   ]
  },
  {
   "cell_type": "code",
   "execution_count": 129,
   "id": "67435ff9",
   "metadata": {},
   "outputs": [],
   "source": [
    "#month and quarter are positivly correlated\n",
    "#windspeedkmph and windGustKmph are positivly correlated\n",
    "#WindChillF and tempF are positivly correlated\n",
    "df1 = df1.drop(['Quarter','WindGustKmph','WindChillF'],axis=1)"
   ]
  },
  {
   "cell_type": "code",
   "execution_count": 130,
   "id": "8f493c52",
   "metadata": {},
   "outputs": [
    {
     "data": {
      "text/html": [
       "<div>\n",
       "<style scoped>\n",
       "    .dataframe tbody tr th:only-of-type {\n",
       "        vertical-align: middle;\n",
       "    }\n",
       "\n",
       "    .dataframe tbody tr th {\n",
       "        vertical-align: top;\n",
       "    }\n",
       "\n",
       "    .dataframe thead th {\n",
       "        text-align: right;\n",
       "    }\n",
       "</style>\n",
       "<table border=\"1\" class=\"dataframe\">\n",
       "  <thead>\n",
       "    <tr style=\"text-align: right;\">\n",
       "      <th></th>\n",
       "      <th>Year</th>\n",
       "      <th>Month</th>\n",
       "      <th>DayofMonth</th>\n",
       "      <th>OriginAirportID</th>\n",
       "      <th>DestAirportID</th>\n",
       "      <th>CRSDepTime</th>\n",
       "      <th>CRSArrTime</th>\n",
       "      <th>windspeedKmph</th>\n",
       "      <th>DewPointF</th>\n",
       "      <th>cloudcover</th>\n",
       "      <th>precipMM</th>\n",
       "      <th>pressure</th>\n",
       "      <th>visibility</th>\n",
       "      <th>weatherCode</th>\n",
       "      <th>tempF</th>\n",
       "      <th>winddirDegree</th>\n",
       "      <th>humidity</th>\n",
       "      <th>DelayClass</th>\n",
       "    </tr>\n",
       "  </thead>\n",
       "  <tbody>\n",
       "    <tr>\n",
       "      <th>0</th>\n",
       "      <td>2017</td>\n",
       "      <td>9</td>\n",
       "      <td>25</td>\n",
       "      <td>12478</td>\n",
       "      <td>13204</td>\n",
       "      <td>1346</td>\n",
       "      <td>1642</td>\n",
       "      <td>12.0</td>\n",
       "      <td>67.0</td>\n",
       "      <td>39.0</td>\n",
       "      <td>0.0</td>\n",
       "      <td>1017.0</td>\n",
       "      <td>10.0</td>\n",
       "      <td>116.0</td>\n",
       "      <td>76.0</td>\n",
       "      <td>117.0</td>\n",
       "      <td>74.0</td>\n",
       "      <td>0</td>\n",
       "    </tr>\n",
       "    <tr>\n",
       "      <th>1</th>\n",
       "      <td>2017</td>\n",
       "      <td>9</td>\n",
       "      <td>25</td>\n",
       "      <td>12478</td>\n",
       "      <td>13930</td>\n",
       "      <td>902</td>\n",
       "      <td>1045</td>\n",
       "      <td>6.0</td>\n",
       "      <td>66.0</td>\n",
       "      <td>55.0</td>\n",
       "      <td>0.0</td>\n",
       "      <td>1018.0</td>\n",
       "      <td>10.0</td>\n",
       "      <td>116.0</td>\n",
       "      <td>70.0</td>\n",
       "      <td>145.0</td>\n",
       "      <td>90.0</td>\n",
       "      <td>0</td>\n",
       "    </tr>\n",
       "    <tr>\n",
       "      <th>2</th>\n",
       "      <td>2017</td>\n",
       "      <td>9</td>\n",
       "      <td>25</td>\n",
       "      <td>13930</td>\n",
       "      <td>12478</td>\n",
       "      <td>2044</td>\n",
       "      <td>2359</td>\n",
       "      <td>10.0</td>\n",
       "      <td>63.0</td>\n",
       "      <td>5.0</td>\n",
       "      <td>0.0</td>\n",
       "      <td>1013.0</td>\n",
       "      <td>10.0</td>\n",
       "      <td>113.0</td>\n",
       "      <td>85.0</td>\n",
       "      <td>151.0</td>\n",
       "      <td>48.0</td>\n",
       "      <td>1</td>\n",
       "    </tr>\n",
       "    <tr>\n",
       "      <th>3</th>\n",
       "      <td>2017</td>\n",
       "      <td>9</td>\n",
       "      <td>25</td>\n",
       "      <td>11057</td>\n",
       "      <td>12478</td>\n",
       "      <td>1952</td>\n",
       "      <td>2157</td>\n",
       "      <td>11.0</td>\n",
       "      <td>64.0</td>\n",
       "      <td>32.0</td>\n",
       "      <td>0.0</td>\n",
       "      <td>1013.0</td>\n",
       "      <td>10.0</td>\n",
       "      <td>116.0</td>\n",
       "      <td>80.0</td>\n",
       "      <td>41.0</td>\n",
       "      <td>59.0</td>\n",
       "      <td>0</td>\n",
       "    </tr>\n",
       "    <tr>\n",
       "      <th>4</th>\n",
       "      <td>2017</td>\n",
       "      <td>9</td>\n",
       "      <td>25</td>\n",
       "      <td>12478</td>\n",
       "      <td>11057</td>\n",
       "      <td>1658</td>\n",
       "      <td>1914</td>\n",
       "      <td>14.0</td>\n",
       "      <td>66.0</td>\n",
       "      <td>47.0</td>\n",
       "      <td>0.0</td>\n",
       "      <td>1017.0</td>\n",
       "      <td>10.0</td>\n",
       "      <td>143.0</td>\n",
       "      <td>72.0</td>\n",
       "      <td>134.0</td>\n",
       "      <td>82.0</td>\n",
       "      <td>0</td>\n",
       "    </tr>\n",
       "    <tr>\n",
       "      <th>...</th>\n",
       "      <td>...</td>\n",
       "      <td>...</td>\n",
       "      <td>...</td>\n",
       "      <td>...</td>\n",
       "      <td>...</td>\n",
       "      <td>...</td>\n",
       "      <td>...</td>\n",
       "      <td>...</td>\n",
       "      <td>...</td>\n",
       "      <td>...</td>\n",
       "      <td>...</td>\n",
       "      <td>...</td>\n",
       "      <td>...</td>\n",
       "      <td>...</td>\n",
       "      <td>...</td>\n",
       "      <td>...</td>\n",
       "      <td>...</td>\n",
       "      <td>...</td>\n",
       "    </tr>\n",
       "    <tr>\n",
       "      <th>1877291</th>\n",
       "      <td>2016</td>\n",
       "      <td>1</td>\n",
       "      <td>3</td>\n",
       "      <td>13204</td>\n",
       "      <td>13930</td>\n",
       "      <td>1130</td>\n",
       "      <td>1330</td>\n",
       "      <td>16.0</td>\n",
       "      <td>56.0</td>\n",
       "      <td>100.0</td>\n",
       "      <td>1.9</td>\n",
       "      <td>1017.0</td>\n",
       "      <td>6.0</td>\n",
       "      <td>302.0</td>\n",
       "      <td>61.0</td>\n",
       "      <td>331.0</td>\n",
       "      <td>87.0</td>\n",
       "      <td>0</td>\n",
       "    </tr>\n",
       "    <tr>\n",
       "      <th>1877292</th>\n",
       "      <td>2016</td>\n",
       "      <td>1</td>\n",
       "      <td>3</td>\n",
       "      <td>14107</td>\n",
       "      <td>11292</td>\n",
       "      <td>2110</td>\n",
       "      <td>2259</td>\n",
       "      <td>17.0</td>\n",
       "      <td>38.0</td>\n",
       "      <td>99.0</td>\n",
       "      <td>0.0</td>\n",
       "      <td>1013.0</td>\n",
       "      <td>10.0</td>\n",
       "      <td>122.0</td>\n",
       "      <td>62.0</td>\n",
       "      <td>76.0</td>\n",
       "      <td>42.0</td>\n",
       "      <td>1</td>\n",
       "    </tr>\n",
       "    <tr>\n",
       "      <th>1877293</th>\n",
       "      <td>2016</td>\n",
       "      <td>1</td>\n",
       "      <td>3</td>\n",
       "      <td>11292</td>\n",
       "      <td>14107</td>\n",
       "      <td>1830</td>\n",
       "      <td>2024</td>\n",
       "      <td>4.0</td>\n",
       "      <td>26.0</td>\n",
       "      <td>100.0</td>\n",
       "      <td>0.0</td>\n",
       "      <td>1029.0</td>\n",
       "      <td>0.0</td>\n",
       "      <td>260.0</td>\n",
       "      <td>26.0</td>\n",
       "      <td>158.0</td>\n",
       "      <td>100.0</td>\n",
       "      <td>1</td>\n",
       "    </tr>\n",
       "    <tr>\n",
       "      <th>1877294</th>\n",
       "      <td>2016</td>\n",
       "      <td>1</td>\n",
       "      <td>3</td>\n",
       "      <td>13930</td>\n",
       "      <td>13204</td>\n",
       "      <td>925</td>\n",
       "      <td>1312</td>\n",
       "      <td>19.0</td>\n",
       "      <td>21.0</td>\n",
       "      <td>100.0</td>\n",
       "      <td>0.0</td>\n",
       "      <td>1022.0</td>\n",
       "      <td>10.0</td>\n",
       "      <td>122.0</td>\n",
       "      <td>24.0</td>\n",
       "      <td>333.0</td>\n",
       "      <td>89.0</td>\n",
       "      <td>1</td>\n",
       "    </tr>\n",
       "    <tr>\n",
       "      <th>1877295</th>\n",
       "      <td>2016</td>\n",
       "      <td>1</td>\n",
       "      <td>3</td>\n",
       "      <td>13204</td>\n",
       "      <td>13930</td>\n",
       "      <td>630</td>\n",
       "      <td>835</td>\n",
       "      <td>17.0</td>\n",
       "      <td>58.0</td>\n",
       "      <td>100.0</td>\n",
       "      <td>0.1</td>\n",
       "      <td>1016.0</td>\n",
       "      <td>7.0</td>\n",
       "      <td>122.0</td>\n",
       "      <td>64.0</td>\n",
       "      <td>344.0</td>\n",
       "      <td>82.0</td>\n",
       "      <td>0</td>\n",
       "    </tr>\n",
       "  </tbody>\n",
       "</table>\n",
       "<p>1834018 rows × 18 columns</p>\n",
       "</div>"
      ],
      "text/plain": [
       "         Year  Month  DayofMonth  OriginAirportID  DestAirportID  CRSDepTime  \\\n",
       "0        2017      9          25            12478          13204        1346   \n",
       "1        2017      9          25            12478          13930         902   \n",
       "2        2017      9          25            13930          12478        2044   \n",
       "3        2017      9          25            11057          12478        1952   \n",
       "4        2017      9          25            12478          11057        1658   \n",
       "...       ...    ...         ...              ...            ...         ...   \n",
       "1877291  2016      1           3            13204          13930        1130   \n",
       "1877292  2016      1           3            14107          11292        2110   \n",
       "1877293  2016      1           3            11292          14107        1830   \n",
       "1877294  2016      1           3            13930          13204         925   \n",
       "1877295  2016      1           3            13204          13930         630   \n",
       "\n",
       "         CRSArrTime  windspeedKmph  DewPointF  cloudcover  precipMM  pressure  \\\n",
       "0              1642           12.0       67.0        39.0       0.0    1017.0   \n",
       "1              1045            6.0       66.0        55.0       0.0    1018.0   \n",
       "2              2359           10.0       63.0         5.0       0.0    1013.0   \n",
       "3              2157           11.0       64.0        32.0       0.0    1013.0   \n",
       "4              1914           14.0       66.0        47.0       0.0    1017.0   \n",
       "...             ...            ...        ...         ...       ...       ...   \n",
       "1877291        1330           16.0       56.0       100.0       1.9    1017.0   \n",
       "1877292        2259           17.0       38.0        99.0       0.0    1013.0   \n",
       "1877293        2024            4.0       26.0       100.0       0.0    1029.0   \n",
       "1877294        1312           19.0       21.0       100.0       0.0    1022.0   \n",
       "1877295         835           17.0       58.0       100.0       0.1    1016.0   \n",
       "\n",
       "         visibility  weatherCode  tempF  winddirDegree  humidity  DelayClass  \n",
       "0              10.0        116.0   76.0          117.0      74.0           0  \n",
       "1              10.0        116.0   70.0          145.0      90.0           0  \n",
       "2              10.0        113.0   85.0          151.0      48.0           1  \n",
       "3              10.0        116.0   80.0           41.0      59.0           0  \n",
       "4              10.0        143.0   72.0          134.0      82.0           0  \n",
       "...             ...          ...    ...            ...       ...         ...  \n",
       "1877291         6.0        302.0   61.0          331.0      87.0           0  \n",
       "1877292        10.0        122.0   62.0           76.0      42.0           1  \n",
       "1877293         0.0        260.0   26.0          158.0     100.0           1  \n",
       "1877294        10.0        122.0   24.0          333.0      89.0           1  \n",
       "1877295         7.0        122.0   64.0          344.0      82.0           0  \n",
       "\n",
       "[1834018 rows x 18 columns]"
      ]
     },
     "execution_count": 130,
     "metadata": {},
     "output_type": "execute_result"
    }
   ],
   "source": [
    "df1"
   ]
  },
  {
   "cell_type": "code",
   "execution_count": 131,
   "id": "f198df37",
   "metadata": {},
   "outputs": [],
   "source": [
    "X = df1.drop('DelayClass',axis=1)\n",
    "y = df1['DelayClass']"
   ]
  },
  {
   "cell_type": "code",
   "execution_count": 132,
   "id": "3d0af097",
   "metadata": {},
   "outputs": [],
   "source": [
    "X_train , X_test , y_train , y_test = train_test_split(X,y,test_size=0.2,stratify=y)"
   ]
  },
  {
   "cell_type": "markdown",
   "id": "ee93424a",
   "metadata": {},
   "source": [
    "# FIXING CLASS IMBALANCE"
   ]
  },
  {
   "cell_type": "code",
   "execution_count": 133,
   "id": "4f2bf6f9",
   "metadata": {},
   "outputs": [
    {
     "data": {
      "text/plain": [
       "0    894458\n",
       "1    572756\n",
       "Name: DelayClass, dtype: int64"
      ]
     },
     "execution_count": 133,
     "metadata": {},
     "output_type": "execute_result"
    }
   ],
   "source": [
    "\n",
    "y_train.value_counts()"
   ]
  },
  {
   "cell_type": "markdown",
   "id": "64320421",
   "metadata": {},
   "source": [
    "# oversampling usign SMOTE"
   ]
  },
  {
   "cell_type": "code",
   "execution_count": 95,
   "id": "4ceef7e9",
   "metadata": {},
   "outputs": [],
   "source": [
    "sm = SMOTE(random_state=10)\n",
    "X_train , y_train = sm.fit_resample(X_train , y_train)"
   ]
  },
  {
   "cell_type": "code",
   "execution_count": 96,
   "id": "59f3804e",
   "metadata": {},
   "outputs": [
    {
     "data": {
      "text/plain": [
       "0    894458\n",
       "1    894458\n",
       "Name: DelayClass, dtype: int64"
      ]
     },
     "execution_count": 96,
     "metadata": {},
     "output_type": "execute_result"
    }
   ],
   "source": [
    "#after smote\n",
    "y_train.value_counts()"
   ]
  },
  {
   "cell_type": "code",
   "execution_count": null,
   "id": "b93528fa",
   "metadata": {},
   "outputs": [],
   "source": []
  },
  {
   "cell_type": "markdown",
   "id": "035d0f39",
   "metadata": {},
   "source": [
    "# Logistic Regression with smote"
   ]
  },
  {
   "cell_type": "code",
   "execution_count": 101,
   "id": "8451e6c8",
   "metadata": {},
   "outputs": [
    {
     "data": {
      "text/html": [
       "<style>#sk-container-id-6 {color: black;background-color: white;}#sk-container-id-6 pre{padding: 0;}#sk-container-id-6 div.sk-toggleable {background-color: white;}#sk-container-id-6 label.sk-toggleable__label {cursor: pointer;display: block;width: 100%;margin-bottom: 0;padding: 0.3em;box-sizing: border-box;text-align: center;}#sk-container-id-6 label.sk-toggleable__label-arrow:before {content: \"▸\";float: left;margin-right: 0.25em;color: #696969;}#sk-container-id-6 label.sk-toggleable__label-arrow:hover:before {color: black;}#sk-container-id-6 div.sk-estimator:hover label.sk-toggleable__label-arrow:before {color: black;}#sk-container-id-6 div.sk-toggleable__content {max-height: 0;max-width: 0;overflow: hidden;text-align: left;background-color: #f0f8ff;}#sk-container-id-6 div.sk-toggleable__content pre {margin: 0.2em;color: black;border-radius: 0.25em;background-color: #f0f8ff;}#sk-container-id-6 input.sk-toggleable__control:checked~div.sk-toggleable__content {max-height: 200px;max-width: 100%;overflow: auto;}#sk-container-id-6 input.sk-toggleable__control:checked~label.sk-toggleable__label-arrow:before {content: \"▾\";}#sk-container-id-6 div.sk-estimator input.sk-toggleable__control:checked~label.sk-toggleable__label {background-color: #d4ebff;}#sk-container-id-6 div.sk-label input.sk-toggleable__control:checked~label.sk-toggleable__label {background-color: #d4ebff;}#sk-container-id-6 input.sk-hidden--visually {border: 0;clip: rect(1px 1px 1px 1px);clip: rect(1px, 1px, 1px, 1px);height: 1px;margin: -1px;overflow: hidden;padding: 0;position: absolute;width: 1px;}#sk-container-id-6 div.sk-estimator {font-family: monospace;background-color: #f0f8ff;border: 1px dotted black;border-radius: 0.25em;box-sizing: border-box;margin-bottom: 0.5em;}#sk-container-id-6 div.sk-estimator:hover {background-color: #d4ebff;}#sk-container-id-6 div.sk-parallel-item::after {content: \"\";width: 100%;border-bottom: 1px solid gray;flex-grow: 1;}#sk-container-id-6 div.sk-label:hover label.sk-toggleable__label {background-color: #d4ebff;}#sk-container-id-6 div.sk-serial::before {content: \"\";position: absolute;border-left: 1px solid gray;box-sizing: border-box;top: 0;bottom: 0;left: 50%;z-index: 0;}#sk-container-id-6 div.sk-serial {display: flex;flex-direction: column;align-items: center;background-color: white;padding-right: 0.2em;padding-left: 0.2em;position: relative;}#sk-container-id-6 div.sk-item {position: relative;z-index: 1;}#sk-container-id-6 div.sk-parallel {display: flex;align-items: stretch;justify-content: center;background-color: white;position: relative;}#sk-container-id-6 div.sk-item::before, #sk-container-id-6 div.sk-parallel-item::before {content: \"\";position: absolute;border-left: 1px solid gray;box-sizing: border-box;top: 0;bottom: 0;left: 50%;z-index: -1;}#sk-container-id-6 div.sk-parallel-item {display: flex;flex-direction: column;z-index: 1;position: relative;background-color: white;}#sk-container-id-6 div.sk-parallel-item:first-child::after {align-self: flex-end;width: 50%;}#sk-container-id-6 div.sk-parallel-item:last-child::after {align-self: flex-start;width: 50%;}#sk-container-id-6 div.sk-parallel-item:only-child::after {width: 0;}#sk-container-id-6 div.sk-dashed-wrapped {border: 1px dashed gray;margin: 0 0.4em 0.5em 0.4em;box-sizing: border-box;padding-bottom: 0.4em;background-color: white;}#sk-container-id-6 div.sk-label label {font-family: monospace;font-weight: bold;display: inline-block;line-height: 1.2em;}#sk-container-id-6 div.sk-label-container {text-align: center;}#sk-container-id-6 div.sk-container {/* jupyter's `normalize.less` sets `[hidden] { display: none; }` but bootstrap.min.css set `[hidden] { display: none !important; }` so we also need the `!important` here to be able to override the default hidden behavior on the sphinx rendered scikit-learn.org. See: https://github.com/scikit-learn/scikit-learn/issues/21755 */display: inline-block !important;position: relative;}#sk-container-id-6 div.sk-text-repr-fallback {display: none;}</style><div id=\"sk-container-id-6\" class=\"sk-top-container\"><div class=\"sk-text-repr-fallback\"><pre>LogisticRegression(max_iter=3000)</pre><b>In a Jupyter environment, please rerun this cell to show the HTML representation or trust the notebook. <br />On GitHub, the HTML representation is unable to render, please try loading this page with nbviewer.org.</b></div><div class=\"sk-container\" hidden><div class=\"sk-item\"><div class=\"sk-estimator sk-toggleable\"><input class=\"sk-toggleable__control sk-hidden--visually\" id=\"sk-estimator-id-6\" type=\"checkbox\" checked><label for=\"sk-estimator-id-6\" class=\"sk-toggleable__label sk-toggleable__label-arrow\">LogisticRegression</label><div class=\"sk-toggleable__content\"><pre>LogisticRegression(max_iter=3000)</pre></div></div></div></div></div>"
      ],
      "text/plain": [
       "LogisticRegression(max_iter=3000)"
      ]
     },
     "execution_count": 101,
     "metadata": {},
     "output_type": "execute_result"
    }
   ],
   "source": [
    "model_LR = LogisticRegression(solver='lbfgs', max_iter=3000)\n",
    "model_LR.fit(X_train,y_train)"
   ]
  },
  {
   "cell_type": "code",
   "execution_count": 109,
   "id": "f741f7af",
   "metadata": {},
   "outputs": [
    {
     "data": {
      "text/plain": [
       "0.5828535130478403"
      ]
     },
     "execution_count": 109,
     "metadata": {},
     "output_type": "execute_result"
    }
   ],
   "source": [
    "res = model_LR.predict(X_test)\n",
    "model_LR.score(X_test,y_test)"
   ]
  },
  {
   "cell_type": "code",
   "execution_count": 110,
   "id": "ca4825a8",
   "metadata": {},
   "outputs": [
    {
     "name": "stdout",
     "output_type": "stream",
     "text": [
      "              precision    recall  f1-score   support\n",
      "\n",
      "           0       0.69      0.57      0.63    223615\n",
      "           1       0.47      0.60      0.53    143189\n",
      "\n",
      "    accuracy                           0.58    366804\n",
      "   macro avg       0.58      0.59      0.58    366804\n",
      "weighted avg       0.61      0.58      0.59    366804\n",
      "\n"
     ]
    }
   ],
   "source": [
    "print(classification_report(y_test,res))"
   ]
  },
  {
   "cell_type": "markdown",
   "id": "9ca2c841",
   "metadata": {},
   "source": [
    "# DecisionTreeClassifier with smote"
   ]
  },
  {
   "cell_type": "code",
   "execution_count": 98,
   "id": "e01ae8db",
   "metadata": {},
   "outputs": [
    {
     "data": {
      "text/html": [
       "<style>#sk-container-id-5 {color: black;background-color: white;}#sk-container-id-5 pre{padding: 0;}#sk-container-id-5 div.sk-toggleable {background-color: white;}#sk-container-id-5 label.sk-toggleable__label {cursor: pointer;display: block;width: 100%;margin-bottom: 0;padding: 0.3em;box-sizing: border-box;text-align: center;}#sk-container-id-5 label.sk-toggleable__label-arrow:before {content: \"▸\";float: left;margin-right: 0.25em;color: #696969;}#sk-container-id-5 label.sk-toggleable__label-arrow:hover:before {color: black;}#sk-container-id-5 div.sk-estimator:hover label.sk-toggleable__label-arrow:before {color: black;}#sk-container-id-5 div.sk-toggleable__content {max-height: 0;max-width: 0;overflow: hidden;text-align: left;background-color: #f0f8ff;}#sk-container-id-5 div.sk-toggleable__content pre {margin: 0.2em;color: black;border-radius: 0.25em;background-color: #f0f8ff;}#sk-container-id-5 input.sk-toggleable__control:checked~div.sk-toggleable__content {max-height: 200px;max-width: 100%;overflow: auto;}#sk-container-id-5 input.sk-toggleable__control:checked~label.sk-toggleable__label-arrow:before {content: \"▾\";}#sk-container-id-5 div.sk-estimator input.sk-toggleable__control:checked~label.sk-toggleable__label {background-color: #d4ebff;}#sk-container-id-5 div.sk-label input.sk-toggleable__control:checked~label.sk-toggleable__label {background-color: #d4ebff;}#sk-container-id-5 input.sk-hidden--visually {border: 0;clip: rect(1px 1px 1px 1px);clip: rect(1px, 1px, 1px, 1px);height: 1px;margin: -1px;overflow: hidden;padding: 0;position: absolute;width: 1px;}#sk-container-id-5 div.sk-estimator {font-family: monospace;background-color: #f0f8ff;border: 1px dotted black;border-radius: 0.25em;box-sizing: border-box;margin-bottom: 0.5em;}#sk-container-id-5 div.sk-estimator:hover {background-color: #d4ebff;}#sk-container-id-5 div.sk-parallel-item::after {content: \"\";width: 100%;border-bottom: 1px solid gray;flex-grow: 1;}#sk-container-id-5 div.sk-label:hover label.sk-toggleable__label {background-color: #d4ebff;}#sk-container-id-5 div.sk-serial::before {content: \"\";position: absolute;border-left: 1px solid gray;box-sizing: border-box;top: 0;bottom: 0;left: 50%;z-index: 0;}#sk-container-id-5 div.sk-serial {display: flex;flex-direction: column;align-items: center;background-color: white;padding-right: 0.2em;padding-left: 0.2em;position: relative;}#sk-container-id-5 div.sk-item {position: relative;z-index: 1;}#sk-container-id-5 div.sk-parallel {display: flex;align-items: stretch;justify-content: center;background-color: white;position: relative;}#sk-container-id-5 div.sk-item::before, #sk-container-id-5 div.sk-parallel-item::before {content: \"\";position: absolute;border-left: 1px solid gray;box-sizing: border-box;top: 0;bottom: 0;left: 50%;z-index: -1;}#sk-container-id-5 div.sk-parallel-item {display: flex;flex-direction: column;z-index: 1;position: relative;background-color: white;}#sk-container-id-5 div.sk-parallel-item:first-child::after {align-self: flex-end;width: 50%;}#sk-container-id-5 div.sk-parallel-item:last-child::after {align-self: flex-start;width: 50%;}#sk-container-id-5 div.sk-parallel-item:only-child::after {width: 0;}#sk-container-id-5 div.sk-dashed-wrapped {border: 1px dashed gray;margin: 0 0.4em 0.5em 0.4em;box-sizing: border-box;padding-bottom: 0.4em;background-color: white;}#sk-container-id-5 div.sk-label label {font-family: monospace;font-weight: bold;display: inline-block;line-height: 1.2em;}#sk-container-id-5 div.sk-label-container {text-align: center;}#sk-container-id-5 div.sk-container {/* jupyter's `normalize.less` sets `[hidden] { display: none; }` but bootstrap.min.css set `[hidden] { display: none !important; }` so we also need the `!important` here to be able to override the default hidden behavior on the sphinx rendered scikit-learn.org. See: https://github.com/scikit-learn/scikit-learn/issues/21755 */display: inline-block !important;position: relative;}#sk-container-id-5 div.sk-text-repr-fallback {display: none;}</style><div id=\"sk-container-id-5\" class=\"sk-top-container\"><div class=\"sk-text-repr-fallback\"><pre>DecisionTreeClassifier()</pre><b>In a Jupyter environment, please rerun this cell to show the HTML representation or trust the notebook. <br />On GitHub, the HTML representation is unable to render, please try loading this page with nbviewer.org.</b></div><div class=\"sk-container\" hidden><div class=\"sk-item\"><div class=\"sk-estimator sk-toggleable\"><input class=\"sk-toggleable__control sk-hidden--visually\" id=\"sk-estimator-id-5\" type=\"checkbox\" checked><label for=\"sk-estimator-id-5\" class=\"sk-toggleable__label sk-toggleable__label-arrow\">DecisionTreeClassifier</label><div class=\"sk-toggleable__content\"><pre>DecisionTreeClassifier()</pre></div></div></div></div></div>"
      ],
      "text/plain": [
       "DecisionTreeClassifier()"
      ]
     },
     "execution_count": 98,
     "metadata": {},
     "output_type": "execute_result"
    }
   ],
   "source": [
    "model_DTC = DecisionTreeClassifier()\n",
    "model_DTC.fit(X_train,y_train)"
   ]
  },
  {
   "cell_type": "code",
   "execution_count": 111,
   "id": "f1bc9a9e",
   "metadata": {},
   "outputs": [
    {
     "data": {
      "text/plain": [
       "0.5909177653460704"
      ]
     },
     "execution_count": 111,
     "metadata": {},
     "output_type": "execute_result"
    }
   ],
   "source": [
    "res = model_DTC.predict(X_test)\n",
    "model_DTC.score(X_test,y_test)"
   ]
  },
  {
   "cell_type": "code",
   "execution_count": 112,
   "id": "5287b6a8",
   "metadata": {},
   "outputs": [
    {
     "name": "stdout",
     "output_type": "stream",
     "text": [
      "              precision    recall  f1-score   support\n",
      "\n",
      "           0       0.67      0.65      0.66    223615\n",
      "           1       0.48      0.50      0.49    143189\n",
      "\n",
      "    accuracy                           0.59    366804\n",
      "   macro avg       0.57      0.57      0.57    366804\n",
      "weighted avg       0.59      0.59      0.59    366804\n",
      "\n"
     ]
    }
   ],
   "source": [
    "print(classification_report(y_test,res))"
   ]
  },
  {
   "cell_type": "markdown",
   "id": "7ae74411",
   "metadata": {},
   "source": [
    "# RandomForestClassifier with smote"
   ]
  },
  {
   "cell_type": "code",
   "execution_count": 104,
   "id": "ead189d3",
   "metadata": {},
   "outputs": [
    {
     "data": {
      "text/html": [
       "<style>#sk-container-id-7 {color: black;background-color: white;}#sk-container-id-7 pre{padding: 0;}#sk-container-id-7 div.sk-toggleable {background-color: white;}#sk-container-id-7 label.sk-toggleable__label {cursor: pointer;display: block;width: 100%;margin-bottom: 0;padding: 0.3em;box-sizing: border-box;text-align: center;}#sk-container-id-7 label.sk-toggleable__label-arrow:before {content: \"▸\";float: left;margin-right: 0.25em;color: #696969;}#sk-container-id-7 label.sk-toggleable__label-arrow:hover:before {color: black;}#sk-container-id-7 div.sk-estimator:hover label.sk-toggleable__label-arrow:before {color: black;}#sk-container-id-7 div.sk-toggleable__content {max-height: 0;max-width: 0;overflow: hidden;text-align: left;background-color: #f0f8ff;}#sk-container-id-7 div.sk-toggleable__content pre {margin: 0.2em;color: black;border-radius: 0.25em;background-color: #f0f8ff;}#sk-container-id-7 input.sk-toggleable__control:checked~div.sk-toggleable__content {max-height: 200px;max-width: 100%;overflow: auto;}#sk-container-id-7 input.sk-toggleable__control:checked~label.sk-toggleable__label-arrow:before {content: \"▾\";}#sk-container-id-7 div.sk-estimator input.sk-toggleable__control:checked~label.sk-toggleable__label {background-color: #d4ebff;}#sk-container-id-7 div.sk-label input.sk-toggleable__control:checked~label.sk-toggleable__label {background-color: #d4ebff;}#sk-container-id-7 input.sk-hidden--visually {border: 0;clip: rect(1px 1px 1px 1px);clip: rect(1px, 1px, 1px, 1px);height: 1px;margin: -1px;overflow: hidden;padding: 0;position: absolute;width: 1px;}#sk-container-id-7 div.sk-estimator {font-family: monospace;background-color: #f0f8ff;border: 1px dotted black;border-radius: 0.25em;box-sizing: border-box;margin-bottom: 0.5em;}#sk-container-id-7 div.sk-estimator:hover {background-color: #d4ebff;}#sk-container-id-7 div.sk-parallel-item::after {content: \"\";width: 100%;border-bottom: 1px solid gray;flex-grow: 1;}#sk-container-id-7 div.sk-label:hover label.sk-toggleable__label {background-color: #d4ebff;}#sk-container-id-7 div.sk-serial::before {content: \"\";position: absolute;border-left: 1px solid gray;box-sizing: border-box;top: 0;bottom: 0;left: 50%;z-index: 0;}#sk-container-id-7 div.sk-serial {display: flex;flex-direction: column;align-items: center;background-color: white;padding-right: 0.2em;padding-left: 0.2em;position: relative;}#sk-container-id-7 div.sk-item {position: relative;z-index: 1;}#sk-container-id-7 div.sk-parallel {display: flex;align-items: stretch;justify-content: center;background-color: white;position: relative;}#sk-container-id-7 div.sk-item::before, #sk-container-id-7 div.sk-parallel-item::before {content: \"\";position: absolute;border-left: 1px solid gray;box-sizing: border-box;top: 0;bottom: 0;left: 50%;z-index: -1;}#sk-container-id-7 div.sk-parallel-item {display: flex;flex-direction: column;z-index: 1;position: relative;background-color: white;}#sk-container-id-7 div.sk-parallel-item:first-child::after {align-self: flex-end;width: 50%;}#sk-container-id-7 div.sk-parallel-item:last-child::after {align-self: flex-start;width: 50%;}#sk-container-id-7 div.sk-parallel-item:only-child::after {width: 0;}#sk-container-id-7 div.sk-dashed-wrapped {border: 1px dashed gray;margin: 0 0.4em 0.5em 0.4em;box-sizing: border-box;padding-bottom: 0.4em;background-color: white;}#sk-container-id-7 div.sk-label label {font-family: monospace;font-weight: bold;display: inline-block;line-height: 1.2em;}#sk-container-id-7 div.sk-label-container {text-align: center;}#sk-container-id-7 div.sk-container {/* jupyter's `normalize.less` sets `[hidden] { display: none; }` but bootstrap.min.css set `[hidden] { display: none !important; }` so we also need the `!important` here to be able to override the default hidden behavior on the sphinx rendered scikit-learn.org. See: https://github.com/scikit-learn/scikit-learn/issues/21755 */display: inline-block !important;position: relative;}#sk-container-id-7 div.sk-text-repr-fallback {display: none;}</style><div id=\"sk-container-id-7\" class=\"sk-top-container\"><div class=\"sk-text-repr-fallback\"><pre>RandomForestClassifier()</pre><b>In a Jupyter environment, please rerun this cell to show the HTML representation or trust the notebook. <br />On GitHub, the HTML representation is unable to render, please try loading this page with nbviewer.org.</b></div><div class=\"sk-container\" hidden><div class=\"sk-item\"><div class=\"sk-estimator sk-toggleable\"><input class=\"sk-toggleable__control sk-hidden--visually\" id=\"sk-estimator-id-7\" type=\"checkbox\" checked><label for=\"sk-estimator-id-7\" class=\"sk-toggleable__label sk-toggleable__label-arrow\">RandomForestClassifier</label><div class=\"sk-toggleable__content\"><pre>RandomForestClassifier()</pre></div></div></div></div></div>"
      ],
      "text/plain": [
       "RandomForestClassifier()"
      ]
     },
     "execution_count": 104,
     "metadata": {},
     "output_type": "execute_result"
    }
   ],
   "source": [
    "\n",
    "model_RFC = RandomForestClassifier()\n",
    "model_RFC.fit(X_train,y_train)"
   ]
  },
  {
   "cell_type": "code",
   "execution_count": 113,
   "id": "0ef7ce08",
   "metadata": {},
   "outputs": [
    {
     "data": {
      "text/plain": [
       "0.6384363311196171"
      ]
     },
     "execution_count": 113,
     "metadata": {},
     "output_type": "execute_result"
    }
   ],
   "source": [
    "res = model_RFC.predict(X_test)\n",
    "model_RFC.score(X_test,y_test)"
   ]
  },
  {
   "cell_type": "code",
   "execution_count": 114,
   "id": "2ae27bb9",
   "metadata": {},
   "outputs": [
    {
     "name": "stdout",
     "output_type": "stream",
     "text": [
      "              precision    recall  f1-score   support\n",
      "\n",
      "           0       0.69      0.74      0.71    223615\n",
      "           1       0.54      0.47      0.51    143189\n",
      "\n",
      "    accuracy                           0.64    366804\n",
      "   macro avg       0.62      0.61      0.61    366804\n",
      "weighted avg       0.63      0.64      0.63    366804\n",
      "\n"
     ]
    }
   ],
   "source": [
    "print(classification_report(y_test,res))"
   ]
  },
  {
   "cell_type": "markdown",
   "id": "972da2d7",
   "metadata": {},
   "source": [
    "# XGBOOST with smote"
   ]
  },
  {
   "cell_type": "code",
   "execution_count": 116,
   "id": "0023a844",
   "metadata": {},
   "outputs": [
    {
     "data": {
      "text/html": [
       "<style>#sk-container-id-8 {color: black;background-color: white;}#sk-container-id-8 pre{padding: 0;}#sk-container-id-8 div.sk-toggleable {background-color: white;}#sk-container-id-8 label.sk-toggleable__label {cursor: pointer;display: block;width: 100%;margin-bottom: 0;padding: 0.3em;box-sizing: border-box;text-align: center;}#sk-container-id-8 label.sk-toggleable__label-arrow:before {content: \"▸\";float: left;margin-right: 0.25em;color: #696969;}#sk-container-id-8 label.sk-toggleable__label-arrow:hover:before {color: black;}#sk-container-id-8 div.sk-estimator:hover label.sk-toggleable__label-arrow:before {color: black;}#sk-container-id-8 div.sk-toggleable__content {max-height: 0;max-width: 0;overflow: hidden;text-align: left;background-color: #f0f8ff;}#sk-container-id-8 div.sk-toggleable__content pre {margin: 0.2em;color: black;border-radius: 0.25em;background-color: #f0f8ff;}#sk-container-id-8 input.sk-toggleable__control:checked~div.sk-toggleable__content {max-height: 200px;max-width: 100%;overflow: auto;}#sk-container-id-8 input.sk-toggleable__control:checked~label.sk-toggleable__label-arrow:before {content: \"▾\";}#sk-container-id-8 div.sk-estimator input.sk-toggleable__control:checked~label.sk-toggleable__label {background-color: #d4ebff;}#sk-container-id-8 div.sk-label input.sk-toggleable__control:checked~label.sk-toggleable__label {background-color: #d4ebff;}#sk-container-id-8 input.sk-hidden--visually {border: 0;clip: rect(1px 1px 1px 1px);clip: rect(1px, 1px, 1px, 1px);height: 1px;margin: -1px;overflow: hidden;padding: 0;position: absolute;width: 1px;}#sk-container-id-8 div.sk-estimator {font-family: monospace;background-color: #f0f8ff;border: 1px dotted black;border-radius: 0.25em;box-sizing: border-box;margin-bottom: 0.5em;}#sk-container-id-8 div.sk-estimator:hover {background-color: #d4ebff;}#sk-container-id-8 div.sk-parallel-item::after {content: \"\";width: 100%;border-bottom: 1px solid gray;flex-grow: 1;}#sk-container-id-8 div.sk-label:hover label.sk-toggleable__label {background-color: #d4ebff;}#sk-container-id-8 div.sk-serial::before {content: \"\";position: absolute;border-left: 1px solid gray;box-sizing: border-box;top: 0;bottom: 0;left: 50%;z-index: 0;}#sk-container-id-8 div.sk-serial {display: flex;flex-direction: column;align-items: center;background-color: white;padding-right: 0.2em;padding-left: 0.2em;position: relative;}#sk-container-id-8 div.sk-item {position: relative;z-index: 1;}#sk-container-id-8 div.sk-parallel {display: flex;align-items: stretch;justify-content: center;background-color: white;position: relative;}#sk-container-id-8 div.sk-item::before, #sk-container-id-8 div.sk-parallel-item::before {content: \"\";position: absolute;border-left: 1px solid gray;box-sizing: border-box;top: 0;bottom: 0;left: 50%;z-index: -1;}#sk-container-id-8 div.sk-parallel-item {display: flex;flex-direction: column;z-index: 1;position: relative;background-color: white;}#sk-container-id-8 div.sk-parallel-item:first-child::after {align-self: flex-end;width: 50%;}#sk-container-id-8 div.sk-parallel-item:last-child::after {align-self: flex-start;width: 50%;}#sk-container-id-8 div.sk-parallel-item:only-child::after {width: 0;}#sk-container-id-8 div.sk-dashed-wrapped {border: 1px dashed gray;margin: 0 0.4em 0.5em 0.4em;box-sizing: border-box;padding-bottom: 0.4em;background-color: white;}#sk-container-id-8 div.sk-label label {font-family: monospace;font-weight: bold;display: inline-block;line-height: 1.2em;}#sk-container-id-8 div.sk-label-container {text-align: center;}#sk-container-id-8 div.sk-container {/* jupyter's `normalize.less` sets `[hidden] { display: none; }` but bootstrap.min.css set `[hidden] { display: none !important; }` so we also need the `!important` here to be able to override the default hidden behavior on the sphinx rendered scikit-learn.org. See: https://github.com/scikit-learn/scikit-learn/issues/21755 */display: inline-block !important;position: relative;}#sk-container-id-8 div.sk-text-repr-fallback {display: none;}</style><div id=\"sk-container-id-8\" class=\"sk-top-container\"><div class=\"sk-text-repr-fallback\"><pre>XGBClassifier(base_score=None, booster=None, callbacks=None,\n",
       "              colsample_bylevel=None, colsample_bynode=None,\n",
       "              colsample_bytree=None, early_stopping_rounds=None,\n",
       "              enable_categorical=False, eval_metric=None, feature_types=None,\n",
       "              gamma=None, gpu_id=None, grow_policy=None, importance_type=None,\n",
       "              interaction_constraints=None, learning_rate=None, max_bin=None,\n",
       "              max_cat_threshold=None, max_cat_to_onehot=None,\n",
       "              max_delta_step=None, max_depth=None, max_leaves=None,\n",
       "              min_child_weight=None, missing=nan, monotone_constraints=None,\n",
       "              n_estimators=500, n_jobs=None, num_parallel_tree=None,\n",
       "              predictor=None, random_state=None, ...)</pre><b>In a Jupyter environment, please rerun this cell to show the HTML representation or trust the notebook. <br />On GitHub, the HTML representation is unable to render, please try loading this page with nbviewer.org.</b></div><div class=\"sk-container\" hidden><div class=\"sk-item\"><div class=\"sk-estimator sk-toggleable\"><input class=\"sk-toggleable__control sk-hidden--visually\" id=\"sk-estimator-id-8\" type=\"checkbox\" checked><label for=\"sk-estimator-id-8\" class=\"sk-toggleable__label sk-toggleable__label-arrow\">XGBClassifier</label><div class=\"sk-toggleable__content\"><pre>XGBClassifier(base_score=None, booster=None, callbacks=None,\n",
       "              colsample_bylevel=None, colsample_bynode=None,\n",
       "              colsample_bytree=None, early_stopping_rounds=None,\n",
       "              enable_categorical=False, eval_metric=None, feature_types=None,\n",
       "              gamma=None, gpu_id=None, grow_policy=None, importance_type=None,\n",
       "              interaction_constraints=None, learning_rate=None, max_bin=None,\n",
       "              max_cat_threshold=None, max_cat_to_onehot=None,\n",
       "              max_delta_step=None, max_depth=None, max_leaves=None,\n",
       "              min_child_weight=None, missing=nan, monotone_constraints=None,\n",
       "              n_estimators=500, n_jobs=None, num_parallel_tree=None,\n",
       "              predictor=None, random_state=None, ...)</pre></div></div></div></div></div>"
      ],
      "text/plain": [
       "XGBClassifier(base_score=None, booster=None, callbacks=None,\n",
       "              colsample_bylevel=None, colsample_bynode=None,\n",
       "              colsample_bytree=None, early_stopping_rounds=None,\n",
       "              enable_categorical=False, eval_metric=None, feature_types=None,\n",
       "              gamma=None, gpu_id=None, grow_policy=None, importance_type=None,\n",
       "              interaction_constraints=None, learning_rate=None, max_bin=None,\n",
       "              max_cat_threshold=None, max_cat_to_onehot=None,\n",
       "              max_delta_step=None, max_depth=None, max_leaves=None,\n",
       "              min_child_weight=None, missing=nan, monotone_constraints=None,\n",
       "              n_estimators=500, n_jobs=None, num_parallel_tree=None,\n",
       "              predictor=None, random_state=None, ...)"
      ]
     },
     "execution_count": 116,
     "metadata": {},
     "output_type": "execute_result"
    }
   ],
   "source": [
    "model_XG = XGBClassifier(n_estimators=500)\n",
    "model_XG.fit(X_train,y_train)"
   ]
  },
  {
   "cell_type": "code",
   "execution_count": 117,
   "id": "e515cc3c",
   "metadata": {},
   "outputs": [
    {
     "name": "stdout",
     "output_type": "stream",
     "text": [
      "              precision    recall  f1-score   support\n",
      "\n",
      "           0       0.69      0.84      0.76    223615\n",
      "           1       0.63      0.42      0.50    143189\n",
      "\n",
      "    accuracy                           0.68    366804\n",
      "   macro avg       0.66      0.63      0.63    366804\n",
      "weighted avg       0.67      0.68      0.66    366804\n",
      "\n"
     ]
    }
   ],
   "source": [
    "res = model_XG.predict(X_test)\n",
    "print(classification_report(y_test,res))"
   ]
  },
  {
   "cell_type": "code",
   "execution_count": 119,
   "id": "7b8b44db",
   "metadata": {},
   "outputs": [
    {
     "data": {
      "text/plain": [
       "0.6761431173051548"
      ]
     },
     "execution_count": 119,
     "metadata": {},
     "output_type": "execute_result"
    }
   ],
   "source": [
    "model_XG.score(X_test,y_test)"
   ]
  },
  {
   "cell_type": "markdown",
   "id": "5a5b11a5",
   "metadata": {},
   "source": [
    "# ExtraTreesClassifier with undersampling"
   ]
  },
  {
   "cell_type": "code",
   "execution_count": null,
   "id": "0113a8af",
   "metadata": {},
   "outputs": [],
   "source": [
    "model_ETC = ExtraTreesClassifier()\n",
    "model_ETC.fit(X_train,y_train)"
   ]
  },
  {
   "cell_type": "code",
   "execution_count": null,
   "id": "fe01f2d0",
   "metadata": {},
   "outputs": [],
   "source": [
    "res = model_ETC.predict(X_test)\n",
    "print(classification_report(y_test,res))"
   ]
  },
  {
   "cell_type": "code",
   "execution_count": null,
   "id": "8d03218b",
   "metadata": {},
   "outputs": [],
   "source": [
    "model_ETC.score(X_test,y_test)"
   ]
  },
  {
   "cell_type": "markdown",
   "id": "c599b49e",
   "metadata": {},
   "source": [
    "# UNDERSAMPLING"
   ]
  },
  {
   "cell_type": "code",
   "execution_count": 134,
   "id": "be9b3a3f",
   "metadata": {},
   "outputs": [],
   "source": [
    "undersample = NearMiss(version=3, n_neighbors_ver3=3)\n",
    "X_train , y_train = undersample.fit_resample(X_train , y_train)"
   ]
  },
  {
   "cell_type": "code",
   "execution_count": 136,
   "id": "49c613d6",
   "metadata": {},
   "outputs": [
    {
     "data": {
      "text/plain": [
       "0    572756\n",
       "1    572756\n",
       "Name: DelayClass, dtype: int64"
      ]
     },
     "execution_count": 136,
     "metadata": {},
     "output_type": "execute_result"
    }
   ],
   "source": [
    "y_train.value_counts()"
   ]
  },
  {
   "cell_type": "markdown",
   "id": "c6f2d0ec",
   "metadata": {},
   "source": [
    "# RandomForestClassifier with undersampling"
   ]
  },
  {
   "cell_type": "code",
   "execution_count": 137,
   "id": "f19b8a66",
   "metadata": {},
   "outputs": [
    {
     "data": {
      "text/html": [
       "<style>#sk-container-id-9 {color: black;background-color: white;}#sk-container-id-9 pre{padding: 0;}#sk-container-id-9 div.sk-toggleable {background-color: white;}#sk-container-id-9 label.sk-toggleable__label {cursor: pointer;display: block;width: 100%;margin-bottom: 0;padding: 0.3em;box-sizing: border-box;text-align: center;}#sk-container-id-9 label.sk-toggleable__label-arrow:before {content: \"▸\";float: left;margin-right: 0.25em;color: #696969;}#sk-container-id-9 label.sk-toggleable__label-arrow:hover:before {color: black;}#sk-container-id-9 div.sk-estimator:hover label.sk-toggleable__label-arrow:before {color: black;}#sk-container-id-9 div.sk-toggleable__content {max-height: 0;max-width: 0;overflow: hidden;text-align: left;background-color: #f0f8ff;}#sk-container-id-9 div.sk-toggleable__content pre {margin: 0.2em;color: black;border-radius: 0.25em;background-color: #f0f8ff;}#sk-container-id-9 input.sk-toggleable__control:checked~div.sk-toggleable__content {max-height: 200px;max-width: 100%;overflow: auto;}#sk-container-id-9 input.sk-toggleable__control:checked~label.sk-toggleable__label-arrow:before {content: \"▾\";}#sk-container-id-9 div.sk-estimator input.sk-toggleable__control:checked~label.sk-toggleable__label {background-color: #d4ebff;}#sk-container-id-9 div.sk-label input.sk-toggleable__control:checked~label.sk-toggleable__label {background-color: #d4ebff;}#sk-container-id-9 input.sk-hidden--visually {border: 0;clip: rect(1px 1px 1px 1px);clip: rect(1px, 1px, 1px, 1px);height: 1px;margin: -1px;overflow: hidden;padding: 0;position: absolute;width: 1px;}#sk-container-id-9 div.sk-estimator {font-family: monospace;background-color: #f0f8ff;border: 1px dotted black;border-radius: 0.25em;box-sizing: border-box;margin-bottom: 0.5em;}#sk-container-id-9 div.sk-estimator:hover {background-color: #d4ebff;}#sk-container-id-9 div.sk-parallel-item::after {content: \"\";width: 100%;border-bottom: 1px solid gray;flex-grow: 1;}#sk-container-id-9 div.sk-label:hover label.sk-toggleable__label {background-color: #d4ebff;}#sk-container-id-9 div.sk-serial::before {content: \"\";position: absolute;border-left: 1px solid gray;box-sizing: border-box;top: 0;bottom: 0;left: 50%;z-index: 0;}#sk-container-id-9 div.sk-serial {display: flex;flex-direction: column;align-items: center;background-color: white;padding-right: 0.2em;padding-left: 0.2em;position: relative;}#sk-container-id-9 div.sk-item {position: relative;z-index: 1;}#sk-container-id-9 div.sk-parallel {display: flex;align-items: stretch;justify-content: center;background-color: white;position: relative;}#sk-container-id-9 div.sk-item::before, #sk-container-id-9 div.sk-parallel-item::before {content: \"\";position: absolute;border-left: 1px solid gray;box-sizing: border-box;top: 0;bottom: 0;left: 50%;z-index: -1;}#sk-container-id-9 div.sk-parallel-item {display: flex;flex-direction: column;z-index: 1;position: relative;background-color: white;}#sk-container-id-9 div.sk-parallel-item:first-child::after {align-self: flex-end;width: 50%;}#sk-container-id-9 div.sk-parallel-item:last-child::after {align-self: flex-start;width: 50%;}#sk-container-id-9 div.sk-parallel-item:only-child::after {width: 0;}#sk-container-id-9 div.sk-dashed-wrapped {border: 1px dashed gray;margin: 0 0.4em 0.5em 0.4em;box-sizing: border-box;padding-bottom: 0.4em;background-color: white;}#sk-container-id-9 div.sk-label label {font-family: monospace;font-weight: bold;display: inline-block;line-height: 1.2em;}#sk-container-id-9 div.sk-label-container {text-align: center;}#sk-container-id-9 div.sk-container {/* jupyter's `normalize.less` sets `[hidden] { display: none; }` but bootstrap.min.css set `[hidden] { display: none !important; }` so we also need the `!important` here to be able to override the default hidden behavior on the sphinx rendered scikit-learn.org. See: https://github.com/scikit-learn/scikit-learn/issues/21755 */display: inline-block !important;position: relative;}#sk-container-id-9 div.sk-text-repr-fallback {display: none;}</style><div id=\"sk-container-id-9\" class=\"sk-top-container\"><div class=\"sk-text-repr-fallback\"><pre>RandomForestClassifier()</pre><b>In a Jupyter environment, please rerun this cell to show the HTML representation or trust the notebook. <br />On GitHub, the HTML representation is unable to render, please try loading this page with nbviewer.org.</b></div><div class=\"sk-container\" hidden><div class=\"sk-item\"><div class=\"sk-estimator sk-toggleable\"><input class=\"sk-toggleable__control sk-hidden--visually\" id=\"sk-estimator-id-9\" type=\"checkbox\" checked><label for=\"sk-estimator-id-9\" class=\"sk-toggleable__label sk-toggleable__label-arrow\">RandomForestClassifier</label><div class=\"sk-toggleable__content\"><pre>RandomForestClassifier()</pre></div></div></div></div></div>"
      ],
      "text/plain": [
       "RandomForestClassifier()"
      ]
     },
     "execution_count": 137,
     "metadata": {},
     "output_type": "execute_result"
    }
   ],
   "source": [
    "model_RFC = RandomForestClassifier()\n",
    "model_RFC.fit(X_train,y_train)"
   ]
  },
  {
   "cell_type": "code",
   "execution_count": 138,
   "id": "6d272103",
   "metadata": {},
   "outputs": [
    {
     "name": "stdout",
     "output_type": "stream",
     "text": [
      "              precision    recall  f1-score   support\n",
      "\n",
      "           0       0.70      0.63      0.66    223615\n",
      "           1       0.50      0.58      0.53    143189\n",
      "\n",
      "    accuracy                           0.61    366804\n",
      "   macro avg       0.60      0.60      0.60    366804\n",
      "weighted avg       0.62      0.61      0.61    366804\n",
      "\n"
     ]
    }
   ],
   "source": [
    "res = model_RFC.predict(X_test)\n",
    "print(classification_report(y_test,res))"
   ]
  },
  {
   "cell_type": "code",
   "execution_count": 139,
   "id": "fc1463b1",
   "metadata": {},
   "outputs": [
    {
     "data": {
      "text/plain": [
       "0.6081122343267794"
      ]
     },
     "execution_count": 139,
     "metadata": {},
     "output_type": "execute_result"
    }
   ],
   "source": [
    "model_RFC.score(X_test,y_test)"
   ]
  },
  {
   "cell_type": "markdown",
   "id": "343a8d61",
   "metadata": {},
   "source": [
    "# Logistic regression with undersampling"
   ]
  },
  {
   "cell_type": "code",
   "execution_count": 140,
   "id": "2523d21c",
   "metadata": {},
   "outputs": [
    {
     "data": {
      "text/html": [
       "<style>#sk-container-id-10 {color: black;background-color: white;}#sk-container-id-10 pre{padding: 0;}#sk-container-id-10 div.sk-toggleable {background-color: white;}#sk-container-id-10 label.sk-toggleable__label {cursor: pointer;display: block;width: 100%;margin-bottom: 0;padding: 0.3em;box-sizing: border-box;text-align: center;}#sk-container-id-10 label.sk-toggleable__label-arrow:before {content: \"▸\";float: left;margin-right: 0.25em;color: #696969;}#sk-container-id-10 label.sk-toggleable__label-arrow:hover:before {color: black;}#sk-container-id-10 div.sk-estimator:hover label.sk-toggleable__label-arrow:before {color: black;}#sk-container-id-10 div.sk-toggleable__content {max-height: 0;max-width: 0;overflow: hidden;text-align: left;background-color: #f0f8ff;}#sk-container-id-10 div.sk-toggleable__content pre {margin: 0.2em;color: black;border-radius: 0.25em;background-color: #f0f8ff;}#sk-container-id-10 input.sk-toggleable__control:checked~div.sk-toggleable__content {max-height: 200px;max-width: 100%;overflow: auto;}#sk-container-id-10 input.sk-toggleable__control:checked~label.sk-toggleable__label-arrow:before {content: \"▾\";}#sk-container-id-10 div.sk-estimator input.sk-toggleable__control:checked~label.sk-toggleable__label {background-color: #d4ebff;}#sk-container-id-10 div.sk-label input.sk-toggleable__control:checked~label.sk-toggleable__label {background-color: #d4ebff;}#sk-container-id-10 input.sk-hidden--visually {border: 0;clip: rect(1px 1px 1px 1px);clip: rect(1px, 1px, 1px, 1px);height: 1px;margin: -1px;overflow: hidden;padding: 0;position: absolute;width: 1px;}#sk-container-id-10 div.sk-estimator {font-family: monospace;background-color: #f0f8ff;border: 1px dotted black;border-radius: 0.25em;box-sizing: border-box;margin-bottom: 0.5em;}#sk-container-id-10 div.sk-estimator:hover {background-color: #d4ebff;}#sk-container-id-10 div.sk-parallel-item::after {content: \"\";width: 100%;border-bottom: 1px solid gray;flex-grow: 1;}#sk-container-id-10 div.sk-label:hover label.sk-toggleable__label {background-color: #d4ebff;}#sk-container-id-10 div.sk-serial::before {content: \"\";position: absolute;border-left: 1px solid gray;box-sizing: border-box;top: 0;bottom: 0;left: 50%;z-index: 0;}#sk-container-id-10 div.sk-serial {display: flex;flex-direction: column;align-items: center;background-color: white;padding-right: 0.2em;padding-left: 0.2em;position: relative;}#sk-container-id-10 div.sk-item {position: relative;z-index: 1;}#sk-container-id-10 div.sk-parallel {display: flex;align-items: stretch;justify-content: center;background-color: white;position: relative;}#sk-container-id-10 div.sk-item::before, #sk-container-id-10 div.sk-parallel-item::before {content: \"\";position: absolute;border-left: 1px solid gray;box-sizing: border-box;top: 0;bottom: 0;left: 50%;z-index: -1;}#sk-container-id-10 div.sk-parallel-item {display: flex;flex-direction: column;z-index: 1;position: relative;background-color: white;}#sk-container-id-10 div.sk-parallel-item:first-child::after {align-self: flex-end;width: 50%;}#sk-container-id-10 div.sk-parallel-item:last-child::after {align-self: flex-start;width: 50%;}#sk-container-id-10 div.sk-parallel-item:only-child::after {width: 0;}#sk-container-id-10 div.sk-dashed-wrapped {border: 1px dashed gray;margin: 0 0.4em 0.5em 0.4em;box-sizing: border-box;padding-bottom: 0.4em;background-color: white;}#sk-container-id-10 div.sk-label label {font-family: monospace;font-weight: bold;display: inline-block;line-height: 1.2em;}#sk-container-id-10 div.sk-label-container {text-align: center;}#sk-container-id-10 div.sk-container {/* jupyter's `normalize.less` sets `[hidden] { display: none; }` but bootstrap.min.css set `[hidden] { display: none !important; }` so we also need the `!important` here to be able to override the default hidden behavior on the sphinx rendered scikit-learn.org. See: https://github.com/scikit-learn/scikit-learn/issues/21755 */display: inline-block !important;position: relative;}#sk-container-id-10 div.sk-text-repr-fallback {display: none;}</style><div id=\"sk-container-id-10\" class=\"sk-top-container\"><div class=\"sk-text-repr-fallback\"><pre>LogisticRegression(max_iter=3000)</pre><b>In a Jupyter environment, please rerun this cell to show the HTML representation or trust the notebook. <br />On GitHub, the HTML representation is unable to render, please try loading this page with nbviewer.org.</b></div><div class=\"sk-container\" hidden><div class=\"sk-item\"><div class=\"sk-estimator sk-toggleable\"><input class=\"sk-toggleable__control sk-hidden--visually\" id=\"sk-estimator-id-10\" type=\"checkbox\" checked><label for=\"sk-estimator-id-10\" class=\"sk-toggleable__label sk-toggleable__label-arrow\">LogisticRegression</label><div class=\"sk-toggleable__content\"><pre>LogisticRegression(max_iter=3000)</pre></div></div></div></div></div>"
      ],
      "text/plain": [
       "LogisticRegression(max_iter=3000)"
      ]
     },
     "execution_count": 140,
     "metadata": {},
     "output_type": "execute_result"
    }
   ],
   "source": [
    "model_LR = LogisticRegression(solver='lbfgs', max_iter=3000)\n",
    "model_LR.fit(X_train,y_train)"
   ]
  },
  {
   "cell_type": "code",
   "execution_count": 141,
   "id": "d9289a1c",
   "metadata": {},
   "outputs": [
    {
     "data": {
      "text/plain": [
       "0.5870028680167064"
      ]
     },
     "execution_count": 141,
     "metadata": {},
     "output_type": "execute_result"
    }
   ],
   "source": [
    "res = model_LR.predict(X_test)\n",
    "model_LR.score(X_test,y_test)"
   ]
  },
  {
   "cell_type": "code",
   "execution_count": 142,
   "id": "fceecb8e",
   "metadata": {},
   "outputs": [
    {
     "name": "stdout",
     "output_type": "stream",
     "text": [
      "              precision    recall  f1-score   support\n",
      "\n",
      "           0       0.68      0.60      0.64    223615\n",
      "           1       0.48      0.57      0.52    143189\n",
      "\n",
      "    accuracy                           0.59    366804\n",
      "   macro avg       0.58      0.58      0.58    366804\n",
      "weighted avg       0.60      0.59      0.59    366804\n",
      "\n"
     ]
    }
   ],
   "source": [
    "print(classification_report(y_test,res))"
   ]
  },
  {
   "cell_type": "markdown",
   "id": "79f03976",
   "metadata": {},
   "source": [
    "# DecisionTreeClassifier with undersampling"
   ]
  },
  {
   "cell_type": "code",
   "execution_count": 143,
   "id": "bda760c0",
   "metadata": {},
   "outputs": [
    {
     "data": {
      "text/html": [
       "<style>#sk-container-id-11 {color: black;background-color: white;}#sk-container-id-11 pre{padding: 0;}#sk-container-id-11 div.sk-toggleable {background-color: white;}#sk-container-id-11 label.sk-toggleable__label {cursor: pointer;display: block;width: 100%;margin-bottom: 0;padding: 0.3em;box-sizing: border-box;text-align: center;}#sk-container-id-11 label.sk-toggleable__label-arrow:before {content: \"▸\";float: left;margin-right: 0.25em;color: #696969;}#sk-container-id-11 label.sk-toggleable__label-arrow:hover:before {color: black;}#sk-container-id-11 div.sk-estimator:hover label.sk-toggleable__label-arrow:before {color: black;}#sk-container-id-11 div.sk-toggleable__content {max-height: 0;max-width: 0;overflow: hidden;text-align: left;background-color: #f0f8ff;}#sk-container-id-11 div.sk-toggleable__content pre {margin: 0.2em;color: black;border-radius: 0.25em;background-color: #f0f8ff;}#sk-container-id-11 input.sk-toggleable__control:checked~div.sk-toggleable__content {max-height: 200px;max-width: 100%;overflow: auto;}#sk-container-id-11 input.sk-toggleable__control:checked~label.sk-toggleable__label-arrow:before {content: \"▾\";}#sk-container-id-11 div.sk-estimator input.sk-toggleable__control:checked~label.sk-toggleable__label {background-color: #d4ebff;}#sk-container-id-11 div.sk-label input.sk-toggleable__control:checked~label.sk-toggleable__label {background-color: #d4ebff;}#sk-container-id-11 input.sk-hidden--visually {border: 0;clip: rect(1px 1px 1px 1px);clip: rect(1px, 1px, 1px, 1px);height: 1px;margin: -1px;overflow: hidden;padding: 0;position: absolute;width: 1px;}#sk-container-id-11 div.sk-estimator {font-family: monospace;background-color: #f0f8ff;border: 1px dotted black;border-radius: 0.25em;box-sizing: border-box;margin-bottom: 0.5em;}#sk-container-id-11 div.sk-estimator:hover {background-color: #d4ebff;}#sk-container-id-11 div.sk-parallel-item::after {content: \"\";width: 100%;border-bottom: 1px solid gray;flex-grow: 1;}#sk-container-id-11 div.sk-label:hover label.sk-toggleable__label {background-color: #d4ebff;}#sk-container-id-11 div.sk-serial::before {content: \"\";position: absolute;border-left: 1px solid gray;box-sizing: border-box;top: 0;bottom: 0;left: 50%;z-index: 0;}#sk-container-id-11 div.sk-serial {display: flex;flex-direction: column;align-items: center;background-color: white;padding-right: 0.2em;padding-left: 0.2em;position: relative;}#sk-container-id-11 div.sk-item {position: relative;z-index: 1;}#sk-container-id-11 div.sk-parallel {display: flex;align-items: stretch;justify-content: center;background-color: white;position: relative;}#sk-container-id-11 div.sk-item::before, #sk-container-id-11 div.sk-parallel-item::before {content: \"\";position: absolute;border-left: 1px solid gray;box-sizing: border-box;top: 0;bottom: 0;left: 50%;z-index: -1;}#sk-container-id-11 div.sk-parallel-item {display: flex;flex-direction: column;z-index: 1;position: relative;background-color: white;}#sk-container-id-11 div.sk-parallel-item:first-child::after {align-self: flex-end;width: 50%;}#sk-container-id-11 div.sk-parallel-item:last-child::after {align-self: flex-start;width: 50%;}#sk-container-id-11 div.sk-parallel-item:only-child::after {width: 0;}#sk-container-id-11 div.sk-dashed-wrapped {border: 1px dashed gray;margin: 0 0.4em 0.5em 0.4em;box-sizing: border-box;padding-bottom: 0.4em;background-color: white;}#sk-container-id-11 div.sk-label label {font-family: monospace;font-weight: bold;display: inline-block;line-height: 1.2em;}#sk-container-id-11 div.sk-label-container {text-align: center;}#sk-container-id-11 div.sk-container {/* jupyter's `normalize.less` sets `[hidden] { display: none; }` but bootstrap.min.css set `[hidden] { display: none !important; }` so we also need the `!important` here to be able to override the default hidden behavior on the sphinx rendered scikit-learn.org. See: https://github.com/scikit-learn/scikit-learn/issues/21755 */display: inline-block !important;position: relative;}#sk-container-id-11 div.sk-text-repr-fallback {display: none;}</style><div id=\"sk-container-id-11\" class=\"sk-top-container\"><div class=\"sk-text-repr-fallback\"><pre>DecisionTreeClassifier()</pre><b>In a Jupyter environment, please rerun this cell to show the HTML representation or trust the notebook. <br />On GitHub, the HTML representation is unable to render, please try loading this page with nbviewer.org.</b></div><div class=\"sk-container\" hidden><div class=\"sk-item\"><div class=\"sk-estimator sk-toggleable\"><input class=\"sk-toggleable__control sk-hidden--visually\" id=\"sk-estimator-id-11\" type=\"checkbox\" checked><label for=\"sk-estimator-id-11\" class=\"sk-toggleable__label sk-toggleable__label-arrow\">DecisionTreeClassifier</label><div class=\"sk-toggleable__content\"><pre>DecisionTreeClassifier()</pre></div></div></div></div></div>"
      ],
      "text/plain": [
       "DecisionTreeClassifier()"
      ]
     },
     "execution_count": 143,
     "metadata": {},
     "output_type": "execute_result"
    }
   ],
   "source": [
    "\n",
    "model_DTC = DecisionTreeClassifier()\n",
    "model_DTC.fit(X_train,y_train)"
   ]
  },
  {
   "cell_type": "code",
   "execution_count": 144,
   "id": "b2dafdc3",
   "metadata": {},
   "outputs": [
    {
     "data": {
      "text/plain": [
       "0.5647457497737212"
      ]
     },
     "execution_count": 144,
     "metadata": {},
     "output_type": "execute_result"
    }
   ],
   "source": [
    "res = model_DTC.predict(X_test)\n",
    "model_DTC.score(X_test,y_test)"
   ]
  },
  {
   "cell_type": "code",
   "execution_count": 145,
   "id": "9171ff08",
   "metadata": {},
   "outputs": [
    {
     "name": "stdout",
     "output_type": "stream",
     "text": [
      "              precision    recall  f1-score   support\n",
      "\n",
      "           0       0.67      0.56      0.61    223615\n",
      "           1       0.45      0.57      0.50    143189\n",
      "\n",
      "    accuracy                           0.56    366804\n",
      "   macro avg       0.56      0.57      0.56    366804\n",
      "weighted avg       0.59      0.56      0.57    366804\n",
      "\n"
     ]
    }
   ],
   "source": [
    "print(classification_report(y_test,res))"
   ]
  },
  {
   "cell_type": "markdown",
   "id": "bb4246e7",
   "metadata": {},
   "source": [
    "# XGBOOST WITH undersampling"
   ]
  },
  {
   "cell_type": "code",
   "execution_count": 146,
   "id": "65d2e01d",
   "metadata": {},
   "outputs": [
    {
     "data": {
      "text/html": [
       "<style>#sk-container-id-12 {color: black;background-color: white;}#sk-container-id-12 pre{padding: 0;}#sk-container-id-12 div.sk-toggleable {background-color: white;}#sk-container-id-12 label.sk-toggleable__label {cursor: pointer;display: block;width: 100%;margin-bottom: 0;padding: 0.3em;box-sizing: border-box;text-align: center;}#sk-container-id-12 label.sk-toggleable__label-arrow:before {content: \"▸\";float: left;margin-right: 0.25em;color: #696969;}#sk-container-id-12 label.sk-toggleable__label-arrow:hover:before {color: black;}#sk-container-id-12 div.sk-estimator:hover label.sk-toggleable__label-arrow:before {color: black;}#sk-container-id-12 div.sk-toggleable__content {max-height: 0;max-width: 0;overflow: hidden;text-align: left;background-color: #f0f8ff;}#sk-container-id-12 div.sk-toggleable__content pre {margin: 0.2em;color: black;border-radius: 0.25em;background-color: #f0f8ff;}#sk-container-id-12 input.sk-toggleable__control:checked~div.sk-toggleable__content {max-height: 200px;max-width: 100%;overflow: auto;}#sk-container-id-12 input.sk-toggleable__control:checked~label.sk-toggleable__label-arrow:before {content: \"▾\";}#sk-container-id-12 div.sk-estimator input.sk-toggleable__control:checked~label.sk-toggleable__label {background-color: #d4ebff;}#sk-container-id-12 div.sk-label input.sk-toggleable__control:checked~label.sk-toggleable__label {background-color: #d4ebff;}#sk-container-id-12 input.sk-hidden--visually {border: 0;clip: rect(1px 1px 1px 1px);clip: rect(1px, 1px, 1px, 1px);height: 1px;margin: -1px;overflow: hidden;padding: 0;position: absolute;width: 1px;}#sk-container-id-12 div.sk-estimator {font-family: monospace;background-color: #f0f8ff;border: 1px dotted black;border-radius: 0.25em;box-sizing: border-box;margin-bottom: 0.5em;}#sk-container-id-12 div.sk-estimator:hover {background-color: #d4ebff;}#sk-container-id-12 div.sk-parallel-item::after {content: \"\";width: 100%;border-bottom: 1px solid gray;flex-grow: 1;}#sk-container-id-12 div.sk-label:hover label.sk-toggleable__label {background-color: #d4ebff;}#sk-container-id-12 div.sk-serial::before {content: \"\";position: absolute;border-left: 1px solid gray;box-sizing: border-box;top: 0;bottom: 0;left: 50%;z-index: 0;}#sk-container-id-12 div.sk-serial {display: flex;flex-direction: column;align-items: center;background-color: white;padding-right: 0.2em;padding-left: 0.2em;position: relative;}#sk-container-id-12 div.sk-item {position: relative;z-index: 1;}#sk-container-id-12 div.sk-parallel {display: flex;align-items: stretch;justify-content: center;background-color: white;position: relative;}#sk-container-id-12 div.sk-item::before, #sk-container-id-12 div.sk-parallel-item::before {content: \"\";position: absolute;border-left: 1px solid gray;box-sizing: border-box;top: 0;bottom: 0;left: 50%;z-index: -1;}#sk-container-id-12 div.sk-parallel-item {display: flex;flex-direction: column;z-index: 1;position: relative;background-color: white;}#sk-container-id-12 div.sk-parallel-item:first-child::after {align-self: flex-end;width: 50%;}#sk-container-id-12 div.sk-parallel-item:last-child::after {align-self: flex-start;width: 50%;}#sk-container-id-12 div.sk-parallel-item:only-child::after {width: 0;}#sk-container-id-12 div.sk-dashed-wrapped {border: 1px dashed gray;margin: 0 0.4em 0.5em 0.4em;box-sizing: border-box;padding-bottom: 0.4em;background-color: white;}#sk-container-id-12 div.sk-label label {font-family: monospace;font-weight: bold;display: inline-block;line-height: 1.2em;}#sk-container-id-12 div.sk-label-container {text-align: center;}#sk-container-id-12 div.sk-container {/* jupyter's `normalize.less` sets `[hidden] { display: none; }` but bootstrap.min.css set `[hidden] { display: none !important; }` so we also need the `!important` here to be able to override the default hidden behavior on the sphinx rendered scikit-learn.org. See: https://github.com/scikit-learn/scikit-learn/issues/21755 */display: inline-block !important;position: relative;}#sk-container-id-12 div.sk-text-repr-fallback {display: none;}</style><div id=\"sk-container-id-12\" class=\"sk-top-container\"><div class=\"sk-text-repr-fallback\"><pre>XGBClassifier(base_score=None, booster=None, callbacks=None,\n",
       "              colsample_bylevel=None, colsample_bynode=None,\n",
       "              colsample_bytree=None, early_stopping_rounds=None,\n",
       "              enable_categorical=False, eval_metric=None, feature_types=None,\n",
       "              gamma=None, gpu_id=None, grow_policy=None, importance_type=None,\n",
       "              interaction_constraints=None, learning_rate=None, max_bin=None,\n",
       "              max_cat_threshold=None, max_cat_to_onehot=None,\n",
       "              max_delta_step=None, max_depth=None, max_leaves=None,\n",
       "              min_child_weight=None, missing=nan, monotone_constraints=None,\n",
       "              n_estimators=500, n_jobs=None, num_parallel_tree=None,\n",
       "              predictor=None, random_state=None, ...)</pre><b>In a Jupyter environment, please rerun this cell to show the HTML representation or trust the notebook. <br />On GitHub, the HTML representation is unable to render, please try loading this page with nbviewer.org.</b></div><div class=\"sk-container\" hidden><div class=\"sk-item\"><div class=\"sk-estimator sk-toggleable\"><input class=\"sk-toggleable__control sk-hidden--visually\" id=\"sk-estimator-id-12\" type=\"checkbox\" checked><label for=\"sk-estimator-id-12\" class=\"sk-toggleable__label sk-toggleable__label-arrow\">XGBClassifier</label><div class=\"sk-toggleable__content\"><pre>XGBClassifier(base_score=None, booster=None, callbacks=None,\n",
       "              colsample_bylevel=None, colsample_bynode=None,\n",
       "              colsample_bytree=None, early_stopping_rounds=None,\n",
       "              enable_categorical=False, eval_metric=None, feature_types=None,\n",
       "              gamma=None, gpu_id=None, grow_policy=None, importance_type=None,\n",
       "              interaction_constraints=None, learning_rate=None, max_bin=None,\n",
       "              max_cat_threshold=None, max_cat_to_onehot=None,\n",
       "              max_delta_step=None, max_depth=None, max_leaves=None,\n",
       "              min_child_weight=None, missing=nan, monotone_constraints=None,\n",
       "              n_estimators=500, n_jobs=None, num_parallel_tree=None,\n",
       "              predictor=None, random_state=None, ...)</pre></div></div></div></div></div>"
      ],
      "text/plain": [
       "XGBClassifier(base_score=None, booster=None, callbacks=None,\n",
       "              colsample_bylevel=None, colsample_bynode=None,\n",
       "              colsample_bytree=None, early_stopping_rounds=None,\n",
       "              enable_categorical=False, eval_metric=None, feature_types=None,\n",
       "              gamma=None, gpu_id=None, grow_policy=None, importance_type=None,\n",
       "              interaction_constraints=None, learning_rate=None, max_bin=None,\n",
       "              max_cat_threshold=None, max_cat_to_onehot=None,\n",
       "              max_delta_step=None, max_depth=None, max_leaves=None,\n",
       "              min_child_weight=None, missing=nan, monotone_constraints=None,\n",
       "              n_estimators=500, n_jobs=None, num_parallel_tree=None,\n",
       "              predictor=None, random_state=None, ...)"
      ]
     },
     "execution_count": 146,
     "metadata": {},
     "output_type": "execute_result"
    }
   ],
   "source": [
    "model_XG = XGBClassifier(n_estimators=500)\n",
    "model_XG.fit(X_train,y_train)"
   ]
  },
  {
   "cell_type": "code",
   "execution_count": 147,
   "id": "a1f28a50",
   "metadata": {},
   "outputs": [
    {
     "name": "stdout",
     "output_type": "stream",
     "text": [
      "              precision    recall  f1-score   support\n",
      "\n",
      "           0       0.72      0.69      0.71    223615\n",
      "           1       0.55      0.59      0.57    143189\n",
      "\n",
      "    accuracy                           0.65    366804\n",
      "   macro avg       0.63      0.64      0.64    366804\n",
      "weighted avg       0.65      0.65      0.65    366804\n",
      "\n"
     ]
    }
   ],
   "source": [
    "res = model_XG.predict(X_test)\n",
    "print(classification_report(y_test,res))"
   ]
  },
  {
   "cell_type": "code",
   "execution_count": 148,
   "id": "13610dae",
   "metadata": {},
   "outputs": [
    {
     "data": {
      "text/plain": [
       "0.6488587910709807"
      ]
     },
     "execution_count": 148,
     "metadata": {},
     "output_type": "execute_result"
    }
   ],
   "source": [
    "model_XG.score(X_test,y_test)"
   ]
  },
  {
   "cell_type": "markdown",
   "id": "face02e1",
   "metadata": {},
   "source": [
    "# ExtraTreesClassifier with undersampling"
   ]
  },
  {
   "cell_type": "code",
   "execution_count": 150,
   "id": "cc61098d",
   "metadata": {},
   "outputs": [
    {
     "data": {
      "text/html": [
       "<style>#sk-container-id-13 {color: black;background-color: white;}#sk-container-id-13 pre{padding: 0;}#sk-container-id-13 div.sk-toggleable {background-color: white;}#sk-container-id-13 label.sk-toggleable__label {cursor: pointer;display: block;width: 100%;margin-bottom: 0;padding: 0.3em;box-sizing: border-box;text-align: center;}#sk-container-id-13 label.sk-toggleable__label-arrow:before {content: \"▸\";float: left;margin-right: 0.25em;color: #696969;}#sk-container-id-13 label.sk-toggleable__label-arrow:hover:before {color: black;}#sk-container-id-13 div.sk-estimator:hover label.sk-toggleable__label-arrow:before {color: black;}#sk-container-id-13 div.sk-toggleable__content {max-height: 0;max-width: 0;overflow: hidden;text-align: left;background-color: #f0f8ff;}#sk-container-id-13 div.sk-toggleable__content pre {margin: 0.2em;color: black;border-radius: 0.25em;background-color: #f0f8ff;}#sk-container-id-13 input.sk-toggleable__control:checked~div.sk-toggleable__content {max-height: 200px;max-width: 100%;overflow: auto;}#sk-container-id-13 input.sk-toggleable__control:checked~label.sk-toggleable__label-arrow:before {content: \"▾\";}#sk-container-id-13 div.sk-estimator input.sk-toggleable__control:checked~label.sk-toggleable__label {background-color: #d4ebff;}#sk-container-id-13 div.sk-label input.sk-toggleable__control:checked~label.sk-toggleable__label {background-color: #d4ebff;}#sk-container-id-13 input.sk-hidden--visually {border: 0;clip: rect(1px 1px 1px 1px);clip: rect(1px, 1px, 1px, 1px);height: 1px;margin: -1px;overflow: hidden;padding: 0;position: absolute;width: 1px;}#sk-container-id-13 div.sk-estimator {font-family: monospace;background-color: #f0f8ff;border: 1px dotted black;border-radius: 0.25em;box-sizing: border-box;margin-bottom: 0.5em;}#sk-container-id-13 div.sk-estimator:hover {background-color: #d4ebff;}#sk-container-id-13 div.sk-parallel-item::after {content: \"\";width: 100%;border-bottom: 1px solid gray;flex-grow: 1;}#sk-container-id-13 div.sk-label:hover label.sk-toggleable__label {background-color: #d4ebff;}#sk-container-id-13 div.sk-serial::before {content: \"\";position: absolute;border-left: 1px solid gray;box-sizing: border-box;top: 0;bottom: 0;left: 50%;z-index: 0;}#sk-container-id-13 div.sk-serial {display: flex;flex-direction: column;align-items: center;background-color: white;padding-right: 0.2em;padding-left: 0.2em;position: relative;}#sk-container-id-13 div.sk-item {position: relative;z-index: 1;}#sk-container-id-13 div.sk-parallel {display: flex;align-items: stretch;justify-content: center;background-color: white;position: relative;}#sk-container-id-13 div.sk-item::before, #sk-container-id-13 div.sk-parallel-item::before {content: \"\";position: absolute;border-left: 1px solid gray;box-sizing: border-box;top: 0;bottom: 0;left: 50%;z-index: -1;}#sk-container-id-13 div.sk-parallel-item {display: flex;flex-direction: column;z-index: 1;position: relative;background-color: white;}#sk-container-id-13 div.sk-parallel-item:first-child::after {align-self: flex-end;width: 50%;}#sk-container-id-13 div.sk-parallel-item:last-child::after {align-self: flex-start;width: 50%;}#sk-container-id-13 div.sk-parallel-item:only-child::after {width: 0;}#sk-container-id-13 div.sk-dashed-wrapped {border: 1px dashed gray;margin: 0 0.4em 0.5em 0.4em;box-sizing: border-box;padding-bottom: 0.4em;background-color: white;}#sk-container-id-13 div.sk-label label {font-family: monospace;font-weight: bold;display: inline-block;line-height: 1.2em;}#sk-container-id-13 div.sk-label-container {text-align: center;}#sk-container-id-13 div.sk-container {/* jupyter's `normalize.less` sets `[hidden] { display: none; }` but bootstrap.min.css set `[hidden] { display: none !important; }` so we also need the `!important` here to be able to override the default hidden behavior on the sphinx rendered scikit-learn.org. See: https://github.com/scikit-learn/scikit-learn/issues/21755 */display: inline-block !important;position: relative;}#sk-container-id-13 div.sk-text-repr-fallback {display: none;}</style><div id=\"sk-container-id-13\" class=\"sk-top-container\"><div class=\"sk-text-repr-fallback\"><pre>ExtraTreesClassifier()</pre><b>In a Jupyter environment, please rerun this cell to show the HTML representation or trust the notebook. <br />On GitHub, the HTML representation is unable to render, please try loading this page with nbviewer.org.</b></div><div class=\"sk-container\" hidden><div class=\"sk-item\"><div class=\"sk-estimator sk-toggleable\"><input class=\"sk-toggleable__control sk-hidden--visually\" id=\"sk-estimator-id-13\" type=\"checkbox\" checked><label for=\"sk-estimator-id-13\" class=\"sk-toggleable__label sk-toggleable__label-arrow\">ExtraTreesClassifier</label><div class=\"sk-toggleable__content\"><pre>ExtraTreesClassifier()</pre></div></div></div></div></div>"
      ],
      "text/plain": [
       "ExtraTreesClassifier()"
      ]
     },
     "execution_count": 150,
     "metadata": {},
     "output_type": "execute_result"
    }
   ],
   "source": [
    "model_ETC = ExtraTreesClassifier()\n",
    "model_ETC.fit(X_train,y_train)"
   ]
  },
  {
   "cell_type": "code",
   "execution_count": 151,
   "id": "2e231712",
   "metadata": {},
   "outputs": [
    {
     "name": "stdout",
     "output_type": "stream",
     "text": [
      "              precision    recall  f1-score   support\n",
      "\n",
      "           0       0.69      0.60      0.64    223615\n",
      "           1       0.48      0.57      0.52    143189\n",
      "\n",
      "    accuracy                           0.59    366804\n",
      "   macro avg       0.58      0.59      0.58    366804\n",
      "weighted avg       0.61      0.59      0.60    366804\n",
      "\n"
     ]
    }
   ],
   "source": [
    "res = model_ETC.predict(X_test)\n",
    "print(classification_report(y_test,res))"
   ]
  },
  {
   "cell_type": "code",
   "execution_count": 152,
   "id": "66548610",
   "metadata": {},
   "outputs": [
    {
     "data": {
      "text/plain": [
       "0.5911031504563745"
      ]
     },
     "execution_count": 152,
     "metadata": {},
     "output_type": "execute_result"
    }
   ],
   "source": [
    "model_ETC.score(X_test,y_test)"
   ]
  },
  {
   "cell_type": "code",
   "execution_count": null,
   "id": "c330900f",
   "metadata": {},
   "outputs": [],
   "source": []
  }
 ],
 "metadata": {
  "kernelspec": {
   "display_name": "Python 3 (ipykernel)",
   "language": "python",
   "name": "python3"
  },
  "language_info": {
   "codemirror_mode": {
    "name": "ipython",
    "version": 3
   },
   "file_extension": ".py",
   "mimetype": "text/x-python",
   "name": "python",
   "nbconvert_exporter": "python",
   "pygments_lexer": "ipython3",
   "version": "3.9.12"
  }
 },
 "nbformat": 4,
 "nbformat_minor": 5
}
