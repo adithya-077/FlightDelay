{
 "cells": [
  {
   "cell_type": "code",
   "execution_count": 1,
   "id": "530bdca2",
   "metadata": {},
   "outputs": [],
   "source": [
    "import pandas as pd\n",
    "import numpy as np\n",
    "import os\n",
    "from sklearn.model_selection import train_test_split\n",
    "import seaborn as sns\n",
    "import matplotlib.pyplot as plt\n",
    "from sklearn.linear_model import LogisticRegression\n",
    "from sklearn.metrics import classification_report\n",
    "from imblearn.over_sampling import SMOTE\n",
    "from sklearn.tree import DecisionTreeClassifier\n",
    "from sklearn.ensemble import RandomForestClassifier\n",
    "from xgboost import XGBClassifier\n",
    "from imblearn.under_sampling import NearMiss\n",
    "from imblearn.under_sampling import RandomUnderSampler\n",
    "from sklearn.ensemble import ExtraTreesClassifier\n",
    "from sklearn.linear_model import LinearRegression"
   ]
  },
  {
   "cell_type": "code",
   "execution_count": 142,
   "id": "ea902598",
   "metadata": {},
   "outputs": [],
   "source": [
    "df1 = pd.read_csv('./Weather dataset/final_merged.csv')\n",
    "df1 = df1.drop(['Unnamed: 0'] , axis=1)"
   ]
  },
  {
   "cell_type": "code",
   "execution_count": 143,
   "id": "532bf66c",
   "metadata": {},
   "outputs": [
    {
     "data": {
      "text/plain": [
       "Index(['Year', 'Quarter', 'Month', 'DayofMonth', 'FlightDate',\n",
       "       'OriginAirportID', 'Origin', 'DestAirportID', 'Dest', 'CRSDepTime',\n",
       "       'DepTime', 'DepDelayMinutes', 'DepDel15', 'CRSArrTime', 'ArrTime',\n",
       "       'ArrDelayMinutes', 'ArrDel15', 'time', 'windspeedKmph', 'DewPointF',\n",
       "       'cloudcover', 'precipMM', 'pressure', 'WindGustKmph', 'visibility',\n",
       "       'weatherCode', 'tempF', 'WindChillF', 'winddirDegree', 'humidity',\n",
       "       'date', 'airport'],\n",
       "      dtype='object')"
      ]
     },
     "execution_count": 143,
     "metadata": {},
     "output_type": "execute_result"
    }
   ],
   "source": [
    "df1.columns"
   ]
  },
  {
   "cell_type": "code",
   "execution_count": 144,
   "id": "5fc58198",
   "metadata": {},
   "outputs": [
    {
     "data": {
      "text/plain": [
       "(1877296, 32)"
      ]
     },
     "execution_count": 144,
     "metadata": {},
     "output_type": "execute_result"
    }
   ],
   "source": [
    "df1.shape"
   ]
  },
  {
   "cell_type": "code",
   "execution_count": 145,
   "id": "929ee473",
   "metadata": {},
   "outputs": [],
   "source": [
    "df1=df1.dropna()"
   ]
  },
  {
   "cell_type": "code",
   "execution_count": 146,
   "id": "25f38799",
   "metadata": {},
   "outputs": [
    {
     "data": {
      "text/plain": [
       "(1851436, 32)"
      ]
     },
     "execution_count": 146,
     "metadata": {},
     "output_type": "execute_result"
    }
   ],
   "source": [
    "df1.shape"
   ]
  },
  {
   "cell_type": "code",
   "execution_count": 147,
   "id": "e7ddbd18",
   "metadata": {},
   "outputs": [],
   "source": [
    "df1 = df1.drop(['FlightDate','Origin','Dest','time','date','airport','ArrTime','ArrDel15','ArrDelayMinutes',\n",
    "       'DepTime'],axis=1)"
   ]
  },
  {
   "cell_type": "code",
   "execution_count": 148,
   "id": "09a134ec",
   "metadata": {},
   "outputs": [
    {
     "data": {
      "text/plain": [
       "Year               0\n",
       "Quarter            0\n",
       "Month              0\n",
       "DayofMonth         0\n",
       "OriginAirportID    0\n",
       "DestAirportID      0\n",
       "CRSDepTime         0\n",
       "DepDelayMinutes    0\n",
       "DepDel15           0\n",
       "CRSArrTime         0\n",
       "windspeedKmph      0\n",
       "DewPointF          0\n",
       "cloudcover         0\n",
       "precipMM           0\n",
       "pressure           0\n",
       "WindGustKmph       0\n",
       "visibility         0\n",
       "weatherCode        0\n",
       "tempF              0\n",
       "WindChillF         0\n",
       "winddirDegree      0\n",
       "humidity           0\n",
       "dtype: int64"
      ]
     },
     "execution_count": 148,
     "metadata": {},
     "output_type": "execute_result"
    }
   ],
   "source": [
    "df1.isnull().sum()"
   ]
  },
  {
   "cell_type": "code",
   "execution_count": 149,
   "id": "c5a1eacc",
   "metadata": {},
   "outputs": [
    {
     "data": {
      "text/html": [
       "<div>\n",
       "<style scoped>\n",
       "    .dataframe tbody tr th:only-of-type {\n",
       "        vertical-align: middle;\n",
       "    }\n",
       "\n",
       "    .dataframe tbody tr th {\n",
       "        vertical-align: top;\n",
       "    }\n",
       "\n",
       "    .dataframe thead th {\n",
       "        text-align: right;\n",
       "    }\n",
       "</style>\n",
       "<table border=\"1\" class=\"dataframe\">\n",
       "  <thead>\n",
       "    <tr style=\"text-align: right;\">\n",
       "      <th></th>\n",
       "      <th>Year</th>\n",
       "      <th>Quarter</th>\n",
       "      <th>Month</th>\n",
       "      <th>DayofMonth</th>\n",
       "      <th>OriginAirportID</th>\n",
       "      <th>DestAirportID</th>\n",
       "      <th>CRSDepTime</th>\n",
       "      <th>DepDelayMinutes</th>\n",
       "      <th>DepDel15</th>\n",
       "      <th>CRSArrTime</th>\n",
       "      <th>...</th>\n",
       "      <th>cloudcover</th>\n",
       "      <th>precipMM</th>\n",
       "      <th>pressure</th>\n",
       "      <th>WindGustKmph</th>\n",
       "      <th>visibility</th>\n",
       "      <th>weatherCode</th>\n",
       "      <th>tempF</th>\n",
       "      <th>WindChillF</th>\n",
       "      <th>winddirDegree</th>\n",
       "      <th>humidity</th>\n",
       "    </tr>\n",
       "  </thead>\n",
       "  <tbody>\n",
       "    <tr>\n",
       "      <th>Year</th>\n",
       "      <td>1.000000</td>\n",
       "      <td>-0.001637</td>\n",
       "      <td>-0.002259</td>\n",
       "      <td>0.000282</td>\n",
       "      <td>0.000417</td>\n",
       "      <td>0.000467</td>\n",
       "      <td>0.001652</td>\n",
       "      <td>0.003559</td>\n",
       "      <td>0.005343</td>\n",
       "      <td>0.000132</td>\n",
       "      <td>...</td>\n",
       "      <td>-0.090776</td>\n",
       "      <td>0.009011</td>\n",
       "      <td>-0.044014</td>\n",
       "      <td>0.040500</td>\n",
       "      <td>0.058149</td>\n",
       "      <td>-0.022875</td>\n",
       "      <td>-0.010559</td>\n",
       "      <td>0.004334</td>\n",
       "      <td>0.000652</td>\n",
       "      <td>-0.044481</td>\n",
       "    </tr>\n",
       "    <tr>\n",
       "      <th>Quarter</th>\n",
       "      <td>-0.001637</td>\n",
       "      <td>1.000000</td>\n",
       "      <td>0.970563</td>\n",
       "      <td>0.010774</td>\n",
       "      <td>0.003222</td>\n",
       "      <td>0.003261</td>\n",
       "      <td>-0.002041</td>\n",
       "      <td>-0.015958</td>\n",
       "      <td>-0.020260</td>\n",
       "      <td>-0.004034</td>\n",
       "      <td>...</td>\n",
       "      <td>-0.086989</td>\n",
       "      <td>-0.038045</td>\n",
       "      <td>0.037480</td>\n",
       "      <td>-0.093063</td>\n",
       "      <td>0.119824</td>\n",
       "      <td>-0.088188</td>\n",
       "      <td>0.153255</td>\n",
       "      <td>0.149327</td>\n",
       "      <td>-0.046110</td>\n",
       "      <td>-0.055307</td>\n",
       "    </tr>\n",
       "    <tr>\n",
       "      <th>Month</th>\n",
       "      <td>-0.002259</td>\n",
       "      <td>0.970563</td>\n",
       "      <td>1.000000</td>\n",
       "      <td>0.010626</td>\n",
       "      <td>0.003303</td>\n",
       "      <td>0.003313</td>\n",
       "      <td>-0.001571</td>\n",
       "      <td>-0.017639</td>\n",
       "      <td>-0.021118</td>\n",
       "      <td>-0.004775</td>\n",
       "      <td>...</td>\n",
       "      <td>-0.084364</td>\n",
       "      <td>-0.040742</td>\n",
       "      <td>0.042694</td>\n",
       "      <td>-0.090313</td>\n",
       "      <td>0.120989</td>\n",
       "      <td>-0.088740</td>\n",
       "      <td>0.142800</td>\n",
       "      <td>0.138441</td>\n",
       "      <td>-0.047460</td>\n",
       "      <td>-0.054493</td>\n",
       "    </tr>\n",
       "    <tr>\n",
       "      <th>DayofMonth</th>\n",
       "      <td>0.000282</td>\n",
       "      <td>0.010774</td>\n",
       "      <td>0.010626</td>\n",
       "      <td>1.000000</td>\n",
       "      <td>0.000392</td>\n",
       "      <td>0.000320</td>\n",
       "      <td>0.000285</td>\n",
       "      <td>-0.006648</td>\n",
       "      <td>-0.007052</td>\n",
       "      <td>-0.001930</td>\n",
       "      <td>...</td>\n",
       "      <td>-0.015740</td>\n",
       "      <td>-0.002263</td>\n",
       "      <td>-0.033245</td>\n",
       "      <td>0.006162</td>\n",
       "      <td>0.025409</td>\n",
       "      <td>-0.009805</td>\n",
       "      <td>0.016599</td>\n",
       "      <td>0.016145</td>\n",
       "      <td>0.001128</td>\n",
       "      <td>-0.001509</td>\n",
       "    </tr>\n",
       "    <tr>\n",
       "      <th>OriginAirportID</th>\n",
       "      <td>0.000417</td>\n",
       "      <td>0.003222</td>\n",
       "      <td>0.003303</td>\n",
       "      <td>0.000392</td>\n",
       "      <td>1.000000</td>\n",
       "      <td>-0.026566</td>\n",
       "      <td>-0.045762</td>\n",
       "      <td>0.006846</td>\n",
       "      <td>0.012226</td>\n",
       "      <td>-0.025247</td>\n",
       "      <td>...</td>\n",
       "      <td>0.074219</td>\n",
       "      <td>-0.029379</td>\n",
       "      <td>-0.057899</td>\n",
       "      <td>-0.047123</td>\n",
       "      <td>-0.020389</td>\n",
       "      <td>-0.026796</td>\n",
       "      <td>-0.050504</td>\n",
       "      <td>-0.046602</td>\n",
       "      <td>0.010839</td>\n",
       "      <td>0.099604</td>\n",
       "    </tr>\n",
       "    <tr>\n",
       "      <th>DestAirportID</th>\n",
       "      <td>0.000467</td>\n",
       "      <td>0.003261</td>\n",
       "      <td>0.003313</td>\n",
       "      <td>0.000320</td>\n",
       "      <td>-0.026566</td>\n",
       "      <td>1.000000</td>\n",
       "      <td>0.062883</td>\n",
       "      <td>0.016703</td>\n",
       "      <td>0.031402</td>\n",
       "      <td>0.010083</td>\n",
       "      <td>...</td>\n",
       "      <td>-0.013905</td>\n",
       "      <td>-0.010247</td>\n",
       "      <td>-0.028681</td>\n",
       "      <td>0.001860</td>\n",
       "      <td>0.014033</td>\n",
       "      <td>-0.018037</td>\n",
       "      <td>-0.029387</td>\n",
       "      <td>-0.028154</td>\n",
       "      <td>0.029198</td>\n",
       "      <td>-0.024454</td>\n",
       "    </tr>\n",
       "    <tr>\n",
       "      <th>CRSDepTime</th>\n",
       "      <td>0.001652</td>\n",
       "      <td>-0.002041</td>\n",
       "      <td>-0.001571</td>\n",
       "      <td>0.000285</td>\n",
       "      <td>-0.045762</td>\n",
       "      <td>0.062883</td>\n",
       "      <td>1.000000</td>\n",
       "      <td>0.104758</td>\n",
       "      <td>0.154992</td>\n",
       "      <td>0.487311</td>\n",
       "      <td>...</td>\n",
       "      <td>-0.059504</td>\n",
       "      <td>0.033394</td>\n",
       "      <td>-0.077750</td>\n",
       "      <td>0.116873</td>\n",
       "      <td>0.110844</td>\n",
       "      <td>0.012179</td>\n",
       "      <td>0.154128</td>\n",
       "      <td>0.154103</td>\n",
       "      <td>0.054804</td>\n",
       "      <td>-0.199771</td>\n",
       "    </tr>\n",
       "    <tr>\n",
       "      <th>DepDelayMinutes</th>\n",
       "      <td>0.003559</td>\n",
       "      <td>-0.015958</td>\n",
       "      <td>-0.017639</td>\n",
       "      <td>-0.006648</td>\n",
       "      <td>0.006846</td>\n",
       "      <td>0.016703</td>\n",
       "      <td>0.104758</td>\n",
       "      <td>1.000000</td>\n",
       "      <td>0.608084</td>\n",
       "      <td>0.086946</td>\n",
       "      <td>...</td>\n",
       "      <td>0.031201</td>\n",
       "      <td>0.081763</td>\n",
       "      <td>-0.052153</td>\n",
       "      <td>0.070939</td>\n",
       "      <td>-0.018663</td>\n",
       "      <td>0.079147</td>\n",
       "      <td>0.030272</td>\n",
       "      <td>0.027964</td>\n",
       "      <td>0.012528</td>\n",
       "      <td>0.003518</td>\n",
       "    </tr>\n",
       "    <tr>\n",
       "      <th>DepDel15</th>\n",
       "      <td>0.005343</td>\n",
       "      <td>-0.020260</td>\n",
       "      <td>-0.021118</td>\n",
       "      <td>-0.007052</td>\n",
       "      <td>0.012226</td>\n",
       "      <td>0.031402</td>\n",
       "      <td>0.154992</td>\n",
       "      <td>0.608084</td>\n",
       "      <td>1.000000</td>\n",
       "      <td>0.118576</td>\n",
       "      <td>...</td>\n",
       "      <td>0.029287</td>\n",
       "      <td>0.080590</td>\n",
       "      <td>-0.060166</td>\n",
       "      <td>0.072145</td>\n",
       "      <td>-0.012012</td>\n",
       "      <td>0.080379</td>\n",
       "      <td>0.036996</td>\n",
       "      <td>0.033870</td>\n",
       "      <td>0.022263</td>\n",
       "      <td>-0.006679</td>\n",
       "    </tr>\n",
       "    <tr>\n",
       "      <th>CRSArrTime</th>\n",
       "      <td>0.000132</td>\n",
       "      <td>-0.004034</td>\n",
       "      <td>-0.004775</td>\n",
       "      <td>-0.001930</td>\n",
       "      <td>-0.025247</td>\n",
       "      <td>0.010083</td>\n",
       "      <td>0.487311</td>\n",
       "      <td>0.086946</td>\n",
       "      <td>0.118576</td>\n",
       "      <td>1.000000</td>\n",
       "      <td>...</td>\n",
       "      <td>-0.033264</td>\n",
       "      <td>0.030831</td>\n",
       "      <td>-0.060223</td>\n",
       "      <td>0.090936</td>\n",
       "      <td>0.093813</td>\n",
       "      <td>0.014077</td>\n",
       "      <td>0.146131</td>\n",
       "      <td>0.135804</td>\n",
       "      <td>0.018510</td>\n",
       "      <td>-0.210311</td>\n",
       "    </tr>\n",
       "    <tr>\n",
       "      <th>windspeedKmph</th>\n",
       "      <td>0.027909</td>\n",
       "      <td>-0.098039</td>\n",
       "      <td>-0.094669</td>\n",
       "      <td>0.009237</td>\n",
       "      <td>-0.041628</td>\n",
       "      <td>0.006845</td>\n",
       "      <td>0.161623</td>\n",
       "      <td>0.071990</td>\n",
       "      <td>0.080829</td>\n",
       "      <td>0.163756</td>\n",
       "      <td>...</td>\n",
       "      <td>0.089832</td>\n",
       "      <td>0.130473</td>\n",
       "      <td>-0.202895</td>\n",
       "      <td>0.910532</td>\n",
       "      <td>0.035568</td>\n",
       "      <td>0.117827</td>\n",
       "      <td>-0.095747</td>\n",
       "      <td>-0.126498</td>\n",
       "      <td>0.120042</td>\n",
       "      <td>0.012439</td>\n",
       "    </tr>\n",
       "    <tr>\n",
       "      <th>DewPointF</th>\n",
       "      <td>-0.017621</td>\n",
       "      <td>0.133644</td>\n",
       "      <td>0.122947</td>\n",
       "      <td>0.018134</td>\n",
       "      <td>-0.016804</td>\n",
       "      <td>-0.055653</td>\n",
       "      <td>0.030662</td>\n",
       "      <td>0.038103</td>\n",
       "      <td>0.036997</td>\n",
       "      <td>0.006675</td>\n",
       "      <td>...</td>\n",
       "      <td>0.137197</td>\n",
       "      <td>0.141747</td>\n",
       "      <td>-0.198823</td>\n",
       "      <td>-0.068952</td>\n",
       "      <td>-0.077328</td>\n",
       "      <td>0.207837</td>\n",
       "      <td>0.650551</td>\n",
       "      <td>0.660908</td>\n",
       "      <td>-0.080035</td>\n",
       "      <td>0.351643</td>\n",
       "    </tr>\n",
       "    <tr>\n",
       "      <th>cloudcover</th>\n",
       "      <td>-0.090776</td>\n",
       "      <td>-0.086989</td>\n",
       "      <td>-0.084364</td>\n",
       "      <td>-0.015740</td>\n",
       "      <td>0.074219</td>\n",
       "      <td>-0.013905</td>\n",
       "      <td>-0.059504</td>\n",
       "      <td>0.031201</td>\n",
       "      <td>0.029287</td>\n",
       "      <td>-0.033264</td>\n",
       "      <td>...</td>\n",
       "      <td>1.000000</td>\n",
       "      <td>0.263872</td>\n",
       "      <td>-0.042877</td>\n",
       "      <td>0.128860</td>\n",
       "      <td>-0.361066</td>\n",
       "      <td>0.452089</td>\n",
       "      <td>-0.245964</td>\n",
       "      <td>-0.242382</td>\n",
       "      <td>-0.077765</td>\n",
       "      <td>0.529379</td>\n",
       "    </tr>\n",
       "    <tr>\n",
       "      <th>precipMM</th>\n",
       "      <td>0.009011</td>\n",
       "      <td>-0.038045</td>\n",
       "      <td>-0.040742</td>\n",
       "      <td>-0.002263</td>\n",
       "      <td>-0.029379</td>\n",
       "      <td>-0.010247</td>\n",
       "      <td>0.033394</td>\n",
       "      <td>0.081763</td>\n",
       "      <td>0.080590</td>\n",
       "      <td>0.030831</td>\n",
       "      <td>...</td>\n",
       "      <td>0.263872</td>\n",
       "      <td>1.000000</td>\n",
       "      <td>-0.141538</td>\n",
       "      <td>0.204529</td>\n",
       "      <td>-0.269208</td>\n",
       "      <td>0.546550</td>\n",
       "      <td>-0.004731</td>\n",
       "      <td>-0.005993</td>\n",
       "      <td>-0.061085</td>\n",
       "      <td>0.200850</td>\n",
       "    </tr>\n",
       "    <tr>\n",
       "      <th>pressure</th>\n",
       "      <td>-0.044014</td>\n",
       "      <td>0.037480</td>\n",
       "      <td>0.042694</td>\n",
       "      <td>-0.033245</td>\n",
       "      <td>-0.057899</td>\n",
       "      <td>-0.028681</td>\n",
       "      <td>-0.077750</td>\n",
       "      <td>-0.052153</td>\n",
       "      <td>-0.060166</td>\n",
       "      <td>-0.060223</td>\n",
       "      <td>...</td>\n",
       "      <td>-0.042877</td>\n",
       "      <td>-0.141538</td>\n",
       "      <td>1.000000</td>\n",
       "      <td>-0.211742</td>\n",
       "      <td>0.022488</td>\n",
       "      <td>-0.145522</td>\n",
       "      <td>-0.346159</td>\n",
       "      <td>-0.343930</td>\n",
       "      <td>-0.134840</td>\n",
       "      <td>0.132829</td>\n",
       "    </tr>\n",
       "    <tr>\n",
       "      <th>WindGustKmph</th>\n",
       "      <td>0.040500</td>\n",
       "      <td>-0.093063</td>\n",
       "      <td>-0.090313</td>\n",
       "      <td>0.006162</td>\n",
       "      <td>-0.047123</td>\n",
       "      <td>0.001860</td>\n",
       "      <td>0.116873</td>\n",
       "      <td>0.070939</td>\n",
       "      <td>0.072145</td>\n",
       "      <td>0.090936</td>\n",
       "      <td>...</td>\n",
       "      <td>0.128860</td>\n",
       "      <td>0.204529</td>\n",
       "      <td>-0.211742</td>\n",
       "      <td>1.000000</td>\n",
       "      <td>-0.013502</td>\n",
       "      <td>0.185810</td>\n",
       "      <td>-0.144206</td>\n",
       "      <td>-0.171213</td>\n",
       "      <td>0.085857</td>\n",
       "      <td>0.071130</td>\n",
       "    </tr>\n",
       "    <tr>\n",
       "      <th>visibility</th>\n",
       "      <td>0.058149</td>\n",
       "      <td>0.119824</td>\n",
       "      <td>0.120989</td>\n",
       "      <td>0.025409</td>\n",
       "      <td>-0.020389</td>\n",
       "      <td>0.014033</td>\n",
       "      <td>0.110844</td>\n",
       "      <td>-0.018663</td>\n",
       "      <td>-0.012012</td>\n",
       "      <td>0.093813</td>\n",
       "      <td>...</td>\n",
       "      <td>-0.361066</td>\n",
       "      <td>-0.269208</td>\n",
       "      <td>0.022488</td>\n",
       "      <td>-0.013502</td>\n",
       "      <td>1.000000</td>\n",
       "      <td>-0.374665</td>\n",
       "      <td>0.150434</td>\n",
       "      <td>0.143440</td>\n",
       "      <td>0.050106</td>\n",
       "      <td>-0.358548</td>\n",
       "    </tr>\n",
       "    <tr>\n",
       "      <th>weatherCode</th>\n",
       "      <td>-0.022875</td>\n",
       "      <td>-0.088188</td>\n",
       "      <td>-0.088740</td>\n",
       "      <td>-0.009805</td>\n",
       "      <td>-0.026796</td>\n",
       "      <td>-0.018037</td>\n",
       "      <td>0.012179</td>\n",
       "      <td>0.079147</td>\n",
       "      <td>0.080379</td>\n",
       "      <td>0.014077</td>\n",
       "      <td>...</td>\n",
       "      <td>0.452089</td>\n",
       "      <td>0.546550</td>\n",
       "      <td>-0.145522</td>\n",
       "      <td>0.185810</td>\n",
       "      <td>-0.374665</td>\n",
       "      <td>1.000000</td>\n",
       "      <td>-0.014381</td>\n",
       "      <td>-0.012876</td>\n",
       "      <td>-0.079315</td>\n",
       "      <td>0.288466</td>\n",
       "    </tr>\n",
       "    <tr>\n",
       "      <th>tempF</th>\n",
       "      <td>-0.010559</td>\n",
       "      <td>0.153255</td>\n",
       "      <td>0.142800</td>\n",
       "      <td>0.016599</td>\n",
       "      <td>-0.050504</td>\n",
       "      <td>-0.029387</td>\n",
       "      <td>0.154128</td>\n",
       "      <td>0.030272</td>\n",
       "      <td>0.036996</td>\n",
       "      <td>0.146131</td>\n",
       "      <td>...</td>\n",
       "      <td>-0.245964</td>\n",
       "      <td>-0.004731</td>\n",
       "      <td>-0.346159</td>\n",
       "      <td>-0.144206</td>\n",
       "      <td>0.150434</td>\n",
       "      <td>-0.014381</td>\n",
       "      <td>1.000000</td>\n",
       "      <td>0.993131</td>\n",
       "      <td>-0.081828</td>\n",
       "      <td>-0.426197</td>\n",
       "    </tr>\n",
       "    <tr>\n",
       "      <th>WindChillF</th>\n",
       "      <td>0.004334</td>\n",
       "      <td>0.149327</td>\n",
       "      <td>0.138441</td>\n",
       "      <td>0.016145</td>\n",
       "      <td>-0.046602</td>\n",
       "      <td>-0.028154</td>\n",
       "      <td>0.154103</td>\n",
       "      <td>0.027964</td>\n",
       "      <td>0.033870</td>\n",
       "      <td>0.135804</td>\n",
       "      <td>...</td>\n",
       "      <td>-0.242382</td>\n",
       "      <td>-0.005993</td>\n",
       "      <td>-0.343930</td>\n",
       "      <td>-0.171213</td>\n",
       "      <td>0.143440</td>\n",
       "      <td>-0.012876</td>\n",
       "      <td>0.993131</td>\n",
       "      <td>1.000000</td>\n",
       "      <td>-0.090815</td>\n",
       "      <td>-0.413501</td>\n",
       "    </tr>\n",
       "    <tr>\n",
       "      <th>winddirDegree</th>\n",
       "      <td>0.000652</td>\n",
       "      <td>-0.046110</td>\n",
       "      <td>-0.047460</td>\n",
       "      <td>0.001128</td>\n",
       "      <td>0.010839</td>\n",
       "      <td>0.029198</td>\n",
       "      <td>0.054804</td>\n",
       "      <td>0.012528</td>\n",
       "      <td>0.022263</td>\n",
       "      <td>0.018510</td>\n",
       "      <td>...</td>\n",
       "      <td>-0.077765</td>\n",
       "      <td>-0.061085</td>\n",
       "      <td>-0.134840</td>\n",
       "      <td>0.085857</td>\n",
       "      <td>0.050106</td>\n",
       "      <td>-0.079315</td>\n",
       "      <td>-0.081828</td>\n",
       "      <td>-0.090815</td>\n",
       "      <td>1.000000</td>\n",
       "      <td>0.008260</td>\n",
       "    </tr>\n",
       "    <tr>\n",
       "      <th>humidity</th>\n",
       "      <td>-0.044481</td>\n",
       "      <td>-0.055307</td>\n",
       "      <td>-0.054493</td>\n",
       "      <td>-0.001509</td>\n",
       "      <td>0.099604</td>\n",
       "      <td>-0.024454</td>\n",
       "      <td>-0.199771</td>\n",
       "      <td>0.003518</td>\n",
       "      <td>-0.006679</td>\n",
       "      <td>-0.210311</td>\n",
       "      <td>...</td>\n",
       "      <td>0.529379</td>\n",
       "      <td>0.200850</td>\n",
       "      <td>0.132829</td>\n",
       "      <td>0.071130</td>\n",
       "      <td>-0.358548</td>\n",
       "      <td>0.288466</td>\n",
       "      <td>-0.426197</td>\n",
       "      <td>-0.413501</td>\n",
       "      <td>0.008260</td>\n",
       "      <td>1.000000</td>\n",
       "    </tr>\n",
       "  </tbody>\n",
       "</table>\n",
       "<p>22 rows × 22 columns</p>\n",
       "</div>"
      ],
      "text/plain": [
       "                     Year   Quarter     Month  DayofMonth  OriginAirportID  \\\n",
       "Year             1.000000 -0.001637 -0.002259    0.000282         0.000417   \n",
       "Quarter         -0.001637  1.000000  0.970563    0.010774         0.003222   \n",
       "Month           -0.002259  0.970563  1.000000    0.010626         0.003303   \n",
       "DayofMonth       0.000282  0.010774  0.010626    1.000000         0.000392   \n",
       "OriginAirportID  0.000417  0.003222  0.003303    0.000392         1.000000   \n",
       "DestAirportID    0.000467  0.003261  0.003313    0.000320        -0.026566   \n",
       "CRSDepTime       0.001652 -0.002041 -0.001571    0.000285        -0.045762   \n",
       "DepDelayMinutes  0.003559 -0.015958 -0.017639   -0.006648         0.006846   \n",
       "DepDel15         0.005343 -0.020260 -0.021118   -0.007052         0.012226   \n",
       "CRSArrTime       0.000132 -0.004034 -0.004775   -0.001930        -0.025247   \n",
       "windspeedKmph    0.027909 -0.098039 -0.094669    0.009237        -0.041628   \n",
       "DewPointF       -0.017621  0.133644  0.122947    0.018134        -0.016804   \n",
       "cloudcover      -0.090776 -0.086989 -0.084364   -0.015740         0.074219   \n",
       "precipMM         0.009011 -0.038045 -0.040742   -0.002263        -0.029379   \n",
       "pressure        -0.044014  0.037480  0.042694   -0.033245        -0.057899   \n",
       "WindGustKmph     0.040500 -0.093063 -0.090313    0.006162        -0.047123   \n",
       "visibility       0.058149  0.119824  0.120989    0.025409        -0.020389   \n",
       "weatherCode     -0.022875 -0.088188 -0.088740   -0.009805        -0.026796   \n",
       "tempF           -0.010559  0.153255  0.142800    0.016599        -0.050504   \n",
       "WindChillF       0.004334  0.149327  0.138441    0.016145        -0.046602   \n",
       "winddirDegree    0.000652 -0.046110 -0.047460    0.001128         0.010839   \n",
       "humidity        -0.044481 -0.055307 -0.054493   -0.001509         0.099604   \n",
       "\n",
       "                 DestAirportID  CRSDepTime  DepDelayMinutes  DepDel15  \\\n",
       "Year                  0.000467    0.001652         0.003559  0.005343   \n",
       "Quarter               0.003261   -0.002041        -0.015958 -0.020260   \n",
       "Month                 0.003313   -0.001571        -0.017639 -0.021118   \n",
       "DayofMonth            0.000320    0.000285        -0.006648 -0.007052   \n",
       "OriginAirportID      -0.026566   -0.045762         0.006846  0.012226   \n",
       "DestAirportID         1.000000    0.062883         0.016703  0.031402   \n",
       "CRSDepTime            0.062883    1.000000         0.104758  0.154992   \n",
       "DepDelayMinutes       0.016703    0.104758         1.000000  0.608084   \n",
       "DepDel15              0.031402    0.154992         0.608084  1.000000   \n",
       "CRSArrTime            0.010083    0.487311         0.086946  0.118576   \n",
       "windspeedKmph         0.006845    0.161623         0.071990  0.080829   \n",
       "DewPointF            -0.055653    0.030662         0.038103  0.036997   \n",
       "cloudcover           -0.013905   -0.059504         0.031201  0.029287   \n",
       "precipMM             -0.010247    0.033394         0.081763  0.080590   \n",
       "pressure             -0.028681   -0.077750        -0.052153 -0.060166   \n",
       "WindGustKmph          0.001860    0.116873         0.070939  0.072145   \n",
       "visibility            0.014033    0.110844        -0.018663 -0.012012   \n",
       "weatherCode          -0.018037    0.012179         0.079147  0.080379   \n",
       "tempF                -0.029387    0.154128         0.030272  0.036996   \n",
       "WindChillF           -0.028154    0.154103         0.027964  0.033870   \n",
       "winddirDegree         0.029198    0.054804         0.012528  0.022263   \n",
       "humidity             -0.024454   -0.199771         0.003518 -0.006679   \n",
       "\n",
       "                 CRSArrTime  ...  cloudcover  precipMM  pressure  \\\n",
       "Year               0.000132  ...   -0.090776  0.009011 -0.044014   \n",
       "Quarter           -0.004034  ...   -0.086989 -0.038045  0.037480   \n",
       "Month             -0.004775  ...   -0.084364 -0.040742  0.042694   \n",
       "DayofMonth        -0.001930  ...   -0.015740 -0.002263 -0.033245   \n",
       "OriginAirportID   -0.025247  ...    0.074219 -0.029379 -0.057899   \n",
       "DestAirportID      0.010083  ...   -0.013905 -0.010247 -0.028681   \n",
       "CRSDepTime         0.487311  ...   -0.059504  0.033394 -0.077750   \n",
       "DepDelayMinutes    0.086946  ...    0.031201  0.081763 -0.052153   \n",
       "DepDel15           0.118576  ...    0.029287  0.080590 -0.060166   \n",
       "CRSArrTime         1.000000  ...   -0.033264  0.030831 -0.060223   \n",
       "windspeedKmph      0.163756  ...    0.089832  0.130473 -0.202895   \n",
       "DewPointF          0.006675  ...    0.137197  0.141747 -0.198823   \n",
       "cloudcover        -0.033264  ...    1.000000  0.263872 -0.042877   \n",
       "precipMM           0.030831  ...    0.263872  1.000000 -0.141538   \n",
       "pressure          -0.060223  ...   -0.042877 -0.141538  1.000000   \n",
       "WindGustKmph       0.090936  ...    0.128860  0.204529 -0.211742   \n",
       "visibility         0.093813  ...   -0.361066 -0.269208  0.022488   \n",
       "weatherCode        0.014077  ...    0.452089  0.546550 -0.145522   \n",
       "tempF              0.146131  ...   -0.245964 -0.004731 -0.346159   \n",
       "WindChillF         0.135804  ...   -0.242382 -0.005993 -0.343930   \n",
       "winddirDegree      0.018510  ...   -0.077765 -0.061085 -0.134840   \n",
       "humidity          -0.210311  ...    0.529379  0.200850  0.132829   \n",
       "\n",
       "                 WindGustKmph  visibility  weatherCode     tempF  WindChillF  \\\n",
       "Year                 0.040500    0.058149    -0.022875 -0.010559    0.004334   \n",
       "Quarter             -0.093063    0.119824    -0.088188  0.153255    0.149327   \n",
       "Month               -0.090313    0.120989    -0.088740  0.142800    0.138441   \n",
       "DayofMonth           0.006162    0.025409    -0.009805  0.016599    0.016145   \n",
       "OriginAirportID     -0.047123   -0.020389    -0.026796 -0.050504   -0.046602   \n",
       "DestAirportID        0.001860    0.014033    -0.018037 -0.029387   -0.028154   \n",
       "CRSDepTime           0.116873    0.110844     0.012179  0.154128    0.154103   \n",
       "DepDelayMinutes      0.070939   -0.018663     0.079147  0.030272    0.027964   \n",
       "DepDel15             0.072145   -0.012012     0.080379  0.036996    0.033870   \n",
       "CRSArrTime           0.090936    0.093813     0.014077  0.146131    0.135804   \n",
       "windspeedKmph        0.910532    0.035568     0.117827 -0.095747   -0.126498   \n",
       "DewPointF           -0.068952   -0.077328     0.207837  0.650551    0.660908   \n",
       "cloudcover           0.128860   -0.361066     0.452089 -0.245964   -0.242382   \n",
       "precipMM             0.204529   -0.269208     0.546550 -0.004731   -0.005993   \n",
       "pressure            -0.211742    0.022488    -0.145522 -0.346159   -0.343930   \n",
       "WindGustKmph         1.000000   -0.013502     0.185810 -0.144206   -0.171213   \n",
       "visibility          -0.013502    1.000000    -0.374665  0.150434    0.143440   \n",
       "weatherCode          0.185810   -0.374665     1.000000 -0.014381   -0.012876   \n",
       "tempF               -0.144206    0.150434    -0.014381  1.000000    0.993131   \n",
       "WindChillF          -0.171213    0.143440    -0.012876  0.993131    1.000000   \n",
       "winddirDegree        0.085857    0.050106    -0.079315 -0.081828   -0.090815   \n",
       "humidity             0.071130   -0.358548     0.288466 -0.426197   -0.413501   \n",
       "\n",
       "                 winddirDegree  humidity  \n",
       "Year                  0.000652 -0.044481  \n",
       "Quarter              -0.046110 -0.055307  \n",
       "Month                -0.047460 -0.054493  \n",
       "DayofMonth            0.001128 -0.001509  \n",
       "OriginAirportID       0.010839  0.099604  \n",
       "DestAirportID         0.029198 -0.024454  \n",
       "CRSDepTime            0.054804 -0.199771  \n",
       "DepDelayMinutes       0.012528  0.003518  \n",
       "DepDel15              0.022263 -0.006679  \n",
       "CRSArrTime            0.018510 -0.210311  \n",
       "windspeedKmph         0.120042  0.012439  \n",
       "DewPointF            -0.080035  0.351643  \n",
       "cloudcover           -0.077765  0.529379  \n",
       "precipMM             -0.061085  0.200850  \n",
       "pressure             -0.134840  0.132829  \n",
       "WindGustKmph          0.085857  0.071130  \n",
       "visibility            0.050106 -0.358548  \n",
       "weatherCode          -0.079315  0.288466  \n",
       "tempF                -0.081828 -0.426197  \n",
       "WindChillF           -0.090815 -0.413501  \n",
       "winddirDegree         1.000000  0.008260  \n",
       "humidity              0.008260  1.000000  \n",
       "\n",
       "[22 rows x 22 columns]"
      ]
     },
     "execution_count": 149,
     "metadata": {},
     "output_type": "execute_result"
    }
   ],
   "source": [
    "cor= df1.corr() \n",
    "cor"
   ]
  },
  {
   "cell_type": "code",
   "execution_count": 150,
   "id": "899ee6c7",
   "metadata": {},
   "outputs": [
    {
     "data": {
      "text/plain": [
       "<AxesSubplot: >"
      ]
     },
     "execution_count": 150,
     "metadata": {},
     "output_type": "execute_result"
    },
    {
     "data": {
      "image/png": "[encoded data removed]",
      "text/plain": [
       "<Figure size 1800x1800 with 2 Axes>"
      ]
     },
     "metadata": {
      "needs_background": "light"
     },
     "output_type": "display_data"
    }
   ],
   "source": [
    "plt.figure(figsize=(25,25))\n",
    "sns.heatmap(cor,annot=True)"
   ]
  },
  {
   "cell_type": "code",
   "execution_count": 151,
   "id": "67435ff9",
   "metadata": {},
   "outputs": [],
   "source": [
    "#month and quarter are positivly correlated\n",
    "#windspeedkmph and windGustKmph are positivly correlated\n",
    "#WindChillF and tempF are positivly correlated\n",
    "df1 = df1.drop(['Quarter','WindGustKmph','WindChillF','DepDelayMinutes'],axis=1)"
   ]
  },
  {
   "cell_type": "code",
   "execution_count": 152,
   "id": "8f493c52",
   "metadata": {},
   "outputs": [
    {
     "data": {
      "text/html": [
       "<div>\n",
       "<style scoped>\n",
       "    .dataframe tbody tr th:only-of-type {\n",
       "        vertical-align: middle;\n",
       "    }\n",
       "\n",
       "    .dataframe tbody tr th {\n",
       "        vertical-align: top;\n",
       "    }\n",
       "\n",
       "    .dataframe thead th {\n",
       "        text-align: right;\n",
       "    }\n",
       "</style>\n",
       "<table border=\"1\" class=\"dataframe\">\n",
       "  <thead>\n",
       "    <tr style=\"text-align: right;\">\n",
       "      <th></th>\n",
       "      <th>Year</th>\n",
       "      <th>Month</th>\n",
       "      <th>DayofMonth</th>\n",
       "      <th>OriginAirportID</th>\n",
       "      <th>DestAirportID</th>\n",
       "      <th>CRSDepTime</th>\n",
       "      <th>DepDel15</th>\n",
       "      <th>CRSArrTime</th>\n",
       "      <th>windspeedKmph</th>\n",
       "      <th>DewPointF</th>\n",
       "      <th>cloudcover</th>\n",
       "      <th>precipMM</th>\n",
       "      <th>pressure</th>\n",
       "      <th>visibility</th>\n",
       "      <th>weatherCode</th>\n",
       "      <th>tempF</th>\n",
       "      <th>winddirDegree</th>\n",
       "      <th>humidity</th>\n",
       "    </tr>\n",
       "  </thead>\n",
       "  <tbody>\n",
       "    <tr>\n",
       "      <th>0</th>\n",
       "      <td>2017</td>\n",
       "      <td>9</td>\n",
       "      <td>25</td>\n",
       "      <td>12478</td>\n",
       "      <td>13204</td>\n",
       "      <td>1346</td>\n",
       "      <td>0.0</td>\n",
       "      <td>1642</td>\n",
       "      <td>12</td>\n",
       "      <td>67</td>\n",
       "      <td>39</td>\n",
       "      <td>0.0</td>\n",
       "      <td>1017</td>\n",
       "      <td>10</td>\n",
       "      <td>116</td>\n",
       "      <td>76</td>\n",
       "      <td>117</td>\n",
       "      <td>74</td>\n",
       "    </tr>\n",
       "    <tr>\n",
       "      <th>1</th>\n",
       "      <td>2017</td>\n",
       "      <td>9</td>\n",
       "      <td>25</td>\n",
       "      <td>12478</td>\n",
       "      <td>13930</td>\n",
       "      <td>902</td>\n",
       "      <td>0.0</td>\n",
       "      <td>1045</td>\n",
       "      <td>6</td>\n",
       "      <td>66</td>\n",
       "      <td>55</td>\n",
       "      <td>0.0</td>\n",
       "      <td>1018</td>\n",
       "      <td>10</td>\n",
       "      <td>116</td>\n",
       "      <td>70</td>\n",
       "      <td>145</td>\n",
       "      <td>90</td>\n",
       "    </tr>\n",
       "    <tr>\n",
       "      <th>2</th>\n",
       "      <td>2017</td>\n",
       "      <td>9</td>\n",
       "      <td>25</td>\n",
       "      <td>13930</td>\n",
       "      <td>12478</td>\n",
       "      <td>2044</td>\n",
       "      <td>0.0</td>\n",
       "      <td>2359</td>\n",
       "      <td>10</td>\n",
       "      <td>63</td>\n",
       "      <td>5</td>\n",
       "      <td>0.0</td>\n",
       "      <td>1013</td>\n",
       "      <td>10</td>\n",
       "      <td>113</td>\n",
       "      <td>85</td>\n",
       "      <td>151</td>\n",
       "      <td>48</td>\n",
       "    </tr>\n",
       "    <tr>\n",
       "      <th>3</th>\n",
       "      <td>2017</td>\n",
       "      <td>9</td>\n",
       "      <td>25</td>\n",
       "      <td>11057</td>\n",
       "      <td>12478</td>\n",
       "      <td>1952</td>\n",
       "      <td>0.0</td>\n",
       "      <td>2157</td>\n",
       "      <td>11</td>\n",
       "      <td>64</td>\n",
       "      <td>32</td>\n",
       "      <td>0.0</td>\n",
       "      <td>1013</td>\n",
       "      <td>10</td>\n",
       "      <td>116</td>\n",
       "      <td>80</td>\n",
       "      <td>41</td>\n",
       "      <td>59</td>\n",
       "    </tr>\n",
       "    <tr>\n",
       "      <th>4</th>\n",
       "      <td>2017</td>\n",
       "      <td>9</td>\n",
       "      <td>25</td>\n",
       "      <td>12478</td>\n",
       "      <td>11057</td>\n",
       "      <td>1658</td>\n",
       "      <td>0.0</td>\n",
       "      <td>1914</td>\n",
       "      <td>14</td>\n",
       "      <td>66</td>\n",
       "      <td>47</td>\n",
       "      <td>0.0</td>\n",
       "      <td>1017</td>\n",
       "      <td>10</td>\n",
       "      <td>143</td>\n",
       "      <td>72</td>\n",
       "      <td>134</td>\n",
       "      <td>82</td>\n",
       "    </tr>\n",
       "    <tr>\n",
       "      <th>...</th>\n",
       "      <td>...</td>\n",
       "      <td>...</td>\n",
       "      <td>...</td>\n",
       "      <td>...</td>\n",
       "      <td>...</td>\n",
       "      <td>...</td>\n",
       "      <td>...</td>\n",
       "      <td>...</td>\n",
       "      <td>...</td>\n",
       "      <td>...</td>\n",
       "      <td>...</td>\n",
       "      <td>...</td>\n",
       "      <td>...</td>\n",
       "      <td>...</td>\n",
       "      <td>...</td>\n",
       "      <td>...</td>\n",
       "      <td>...</td>\n",
       "      <td>...</td>\n",
       "    </tr>\n",
       "    <tr>\n",
       "      <th>1877291</th>\n",
       "      <td>2016</td>\n",
       "      <td>1</td>\n",
       "      <td>3</td>\n",
       "      <td>13204</td>\n",
       "      <td>13930</td>\n",
       "      <td>1130</td>\n",
       "      <td>0.0</td>\n",
       "      <td>1330</td>\n",
       "      <td>16</td>\n",
       "      <td>56</td>\n",
       "      <td>100</td>\n",
       "      <td>1.9</td>\n",
       "      <td>1017</td>\n",
       "      <td>6</td>\n",
       "      <td>302</td>\n",
       "      <td>61</td>\n",
       "      <td>331</td>\n",
       "      <td>87</td>\n",
       "    </tr>\n",
       "    <tr>\n",
       "      <th>1877292</th>\n",
       "      <td>2016</td>\n",
       "      <td>1</td>\n",
       "      <td>3</td>\n",
       "      <td>14107</td>\n",
       "      <td>11292</td>\n",
       "      <td>2110</td>\n",
       "      <td>1.0</td>\n",
       "      <td>2259</td>\n",
       "      <td>17</td>\n",
       "      <td>38</td>\n",
       "      <td>99</td>\n",
       "      <td>0.0</td>\n",
       "      <td>1013</td>\n",
       "      <td>10</td>\n",
       "      <td>122</td>\n",
       "      <td>62</td>\n",
       "      <td>76</td>\n",
       "      <td>42</td>\n",
       "    </tr>\n",
       "    <tr>\n",
       "      <th>1877293</th>\n",
       "      <td>2016</td>\n",
       "      <td>1</td>\n",
       "      <td>3</td>\n",
       "      <td>11292</td>\n",
       "      <td>14107</td>\n",
       "      <td>1830</td>\n",
       "      <td>1.0</td>\n",
       "      <td>2024</td>\n",
       "      <td>4</td>\n",
       "      <td>26</td>\n",
       "      <td>100</td>\n",
       "      <td>0.0</td>\n",
       "      <td>1029</td>\n",
       "      <td>0</td>\n",
       "      <td>260</td>\n",
       "      <td>26</td>\n",
       "      <td>158</td>\n",
       "      <td>100</td>\n",
       "    </tr>\n",
       "    <tr>\n",
       "      <th>1877294</th>\n",
       "      <td>2016</td>\n",
       "      <td>1</td>\n",
       "      <td>3</td>\n",
       "      <td>13930</td>\n",
       "      <td>13204</td>\n",
       "      <td>925</td>\n",
       "      <td>1.0</td>\n",
       "      <td>1312</td>\n",
       "      <td>19</td>\n",
       "      <td>21</td>\n",
       "      <td>100</td>\n",
       "      <td>0.0</td>\n",
       "      <td>1022</td>\n",
       "      <td>10</td>\n",
       "      <td>122</td>\n",
       "      <td>24</td>\n",
       "      <td>333</td>\n",
       "      <td>89</td>\n",
       "    </tr>\n",
       "    <tr>\n",
       "      <th>1877295</th>\n",
       "      <td>2016</td>\n",
       "      <td>1</td>\n",
       "      <td>3</td>\n",
       "      <td>13204</td>\n",
       "      <td>13930</td>\n",
       "      <td>630</td>\n",
       "      <td>0.0</td>\n",
       "      <td>835</td>\n",
       "      <td>17</td>\n",
       "      <td>58</td>\n",
       "      <td>100</td>\n",
       "      <td>0.1</td>\n",
       "      <td>1016</td>\n",
       "      <td>7</td>\n",
       "      <td>122</td>\n",
       "      <td>64</td>\n",
       "      <td>344</td>\n",
       "      <td>82</td>\n",
       "    </tr>\n",
       "  </tbody>\n",
       "</table>\n",
       "<p>1851436 rows × 18 columns</p>\n",
       "</div>"
      ],
      "text/plain": [
       "         Year  Month  DayofMonth  OriginAirportID  DestAirportID  CRSDepTime  \\\n",
       "0        2017      9          25            12478          13204        1346   \n",
       "1        2017      9          25            12478          13930         902   \n",
       "2        2017      9          25            13930          12478        2044   \n",
       "3        2017      9          25            11057          12478        1952   \n",
       "4        2017      9          25            12478          11057        1658   \n",
       "...       ...    ...         ...              ...            ...         ...   \n",
       "1877291  2016      1           3            13204          13930        1130   \n",
       "1877292  2016      1           3            14107          11292        2110   \n",
       "1877293  2016      1           3            11292          14107        1830   \n",
       "1877294  2016      1           3            13930          13204         925   \n",
       "1877295  2016      1           3            13204          13930         630   \n",
       "\n",
       "         DepDel15  CRSArrTime  windspeedKmph  DewPointF  cloudcover  precipMM  \\\n",
       "0             0.0        1642             12         67          39       0.0   \n",
       "1             0.0        1045              6         66          55       0.0   \n",
       "2             0.0        2359             10         63           5       0.0   \n",
       "3             0.0        2157             11         64          32       0.0   \n",
       "4             0.0        1914             14         66          47       0.0   \n",
       "...           ...         ...            ...        ...         ...       ...   \n",
       "1877291       0.0        1330             16         56         100       1.9   \n",
       "1877292       1.0        2259             17         38          99       0.0   \n",
       "1877293       1.0        2024              4         26         100       0.0   \n",
       "1877294       1.0        1312             19         21         100       0.0   \n",
       "1877295       0.0         835             17         58         100       0.1   \n",
       "\n",
       "         pressure  visibility  weatherCode  tempF  winddirDegree  humidity  \n",
       "0            1017          10          116     76            117        74  \n",
       "1            1018          10          116     70            145        90  \n",
       "2            1013          10          113     85            151        48  \n",
       "3            1013          10          116     80             41        59  \n",
       "4            1017          10          143     72            134        82  \n",
       "...           ...         ...          ...    ...            ...       ...  \n",
       "1877291      1017           6          302     61            331        87  \n",
       "1877292      1013          10          122     62             76        42  \n",
       "1877293      1029           0          260     26            158       100  \n",
       "1877294      1022          10          122     24            333        89  \n",
       "1877295      1016           7          122     64            344        82  \n",
       "\n",
       "[1851436 rows x 18 columns]"
      ]
     },
     "execution_count": 152,
     "metadata": {},
     "output_type": "execute_result"
    }
   ],
   "source": [
    "df1"
   ]
  },
  {
   "cell_type": "code",
   "execution_count": 153,
   "id": "f198df37",
   "metadata": {},
   "outputs": [],
   "source": [
    "X = df1.drop('DepDel15',axis=1)\n",
    "y = df1['DepDel15']"
   ]
  },
  {
   "cell_type": "code",
   "execution_count": 154,
   "id": "b8caa041",
   "metadata": {},
   "outputs": [
    {
     "data": {
      "text/html": [
       "<div>\n",
       "<style scoped>\n",
       "    .dataframe tbody tr th:only-of-type {\n",
       "        vertical-align: middle;\n",
       "    }\n",
       "\n",
       "    .dataframe tbody tr th {\n",
       "        vertical-align: top;\n",
       "    }\n",
       "\n",
       "    .dataframe thead th {\n",
       "        text-align: right;\n",
       "    }\n",
       "</style>\n",
       "<table border=\"1\" class=\"dataframe\">\n",
       "  <thead>\n",
       "    <tr style=\"text-align: right;\">\n",
       "      <th></th>\n",
       "      <th>Year</th>\n",
       "      <th>Month</th>\n",
       "      <th>DayofMonth</th>\n",
       "      <th>OriginAirportID</th>\n",
       "      <th>DestAirportID</th>\n",
       "      <th>CRSDepTime</th>\n",
       "      <th>CRSArrTime</th>\n",
       "      <th>windspeedKmph</th>\n",
       "      <th>DewPointF</th>\n",
       "      <th>cloudcover</th>\n",
       "      <th>precipMM</th>\n",
       "      <th>pressure</th>\n",
       "      <th>visibility</th>\n",
       "      <th>weatherCode</th>\n",
       "      <th>tempF</th>\n",
       "      <th>winddirDegree</th>\n",
       "      <th>humidity</th>\n",
       "    </tr>\n",
       "  </thead>\n",
       "  <tbody>\n",
       "    <tr>\n",
       "      <th>0</th>\n",
       "      <td>2017</td>\n",
       "      <td>9</td>\n",
       "      <td>25</td>\n",
       "      <td>12478</td>\n",
       "      <td>13204</td>\n",
       "      <td>1346</td>\n",
       "      <td>1642</td>\n",
       "      <td>12</td>\n",
       "      <td>67</td>\n",
       "      <td>39</td>\n",
       "      <td>0.0</td>\n",
       "      <td>1017</td>\n",
       "      <td>10</td>\n",
       "      <td>116</td>\n",
       "      <td>76</td>\n",
       "      <td>117</td>\n",
       "      <td>74</td>\n",
       "    </tr>\n",
       "    <tr>\n",
       "      <th>1</th>\n",
       "      <td>2017</td>\n",
       "      <td>9</td>\n",
       "      <td>25</td>\n",
       "      <td>12478</td>\n",
       "      <td>13930</td>\n",
       "      <td>902</td>\n",
       "      <td>1045</td>\n",
       "      <td>6</td>\n",
       "      <td>66</td>\n",
       "      <td>55</td>\n",
       "      <td>0.0</td>\n",
       "      <td>1018</td>\n",
       "      <td>10</td>\n",
       "      <td>116</td>\n",
       "      <td>70</td>\n",
       "      <td>145</td>\n",
       "      <td>90</td>\n",
       "    </tr>\n",
       "    <tr>\n",
       "      <th>2</th>\n",
       "      <td>2017</td>\n",
       "      <td>9</td>\n",
       "      <td>25</td>\n",
       "      <td>13930</td>\n",
       "      <td>12478</td>\n",
       "      <td>2044</td>\n",
       "      <td>2359</td>\n",
       "      <td>10</td>\n",
       "      <td>63</td>\n",
       "      <td>5</td>\n",
       "      <td>0.0</td>\n",
       "      <td>1013</td>\n",
       "      <td>10</td>\n",
       "      <td>113</td>\n",
       "      <td>85</td>\n",
       "      <td>151</td>\n",
       "      <td>48</td>\n",
       "    </tr>\n",
       "    <tr>\n",
       "      <th>3</th>\n",
       "      <td>2017</td>\n",
       "      <td>9</td>\n",
       "      <td>25</td>\n",
       "      <td>11057</td>\n",
       "      <td>12478</td>\n",
       "      <td>1952</td>\n",
       "      <td>2157</td>\n",
       "      <td>11</td>\n",
       "      <td>64</td>\n",
       "      <td>32</td>\n",
       "      <td>0.0</td>\n",
       "      <td>1013</td>\n",
       "      <td>10</td>\n",
       "      <td>116</td>\n",
       "      <td>80</td>\n",
       "      <td>41</td>\n",
       "      <td>59</td>\n",
       "    </tr>\n",
       "    <tr>\n",
       "      <th>4</th>\n",
       "      <td>2017</td>\n",
       "      <td>9</td>\n",
       "      <td>25</td>\n",
       "      <td>12478</td>\n",
       "      <td>11057</td>\n",
       "      <td>1658</td>\n",
       "      <td>1914</td>\n",
       "      <td>14</td>\n",
       "      <td>66</td>\n",
       "      <td>47</td>\n",
       "      <td>0.0</td>\n",
       "      <td>1017</td>\n",
       "      <td>10</td>\n",
       "      <td>143</td>\n",
       "      <td>72</td>\n",
       "      <td>134</td>\n",
       "      <td>82</td>\n",
       "    </tr>\n",
       "    <tr>\n",
       "      <th>...</th>\n",
       "      <td>...</td>\n",
       "      <td>...</td>\n",
       "      <td>...</td>\n",
       "      <td>...</td>\n",
       "      <td>...</td>\n",
       "      <td>...</td>\n",
       "      <td>...</td>\n",
       "      <td>...</td>\n",
       "      <td>...</td>\n",
       "      <td>...</td>\n",
       "      <td>...</td>\n",
       "      <td>...</td>\n",
       "      <td>...</td>\n",
       "      <td>...</td>\n",
       "      <td>...</td>\n",
       "      <td>...</td>\n",
       "      <td>...</td>\n",
       "    </tr>\n",
       "    <tr>\n",
       "      <th>1877291</th>\n",
       "      <td>2016</td>\n",
       "      <td>1</td>\n",
       "      <td>3</td>\n",
       "      <td>13204</td>\n",
       "      <td>13930</td>\n",
       "      <td>1130</td>\n",
       "      <td>1330</td>\n",
       "      <td>16</td>\n",
       "      <td>56</td>\n",
       "      <td>100</td>\n",
       "      <td>1.9</td>\n",
       "      <td>1017</td>\n",
       "      <td>6</td>\n",
       "      <td>302</td>\n",
       "      <td>61</td>\n",
       "      <td>331</td>\n",
       "      <td>87</td>\n",
       "    </tr>\n",
       "    <tr>\n",
       "      <th>1877292</th>\n",
       "      <td>2016</td>\n",
       "      <td>1</td>\n",
       "      <td>3</td>\n",
       "      <td>14107</td>\n",
       "      <td>11292</td>\n",
       "      <td>2110</td>\n",
       "      <td>2259</td>\n",
       "      <td>17</td>\n",
       "      <td>38</td>\n",
       "      <td>99</td>\n",
       "      <td>0.0</td>\n",
       "      <td>1013</td>\n",
       "      <td>10</td>\n",
       "      <td>122</td>\n",
       "      <td>62</td>\n",
       "      <td>76</td>\n",
       "      <td>42</td>\n",
       "    </tr>\n",
       "    <tr>\n",
       "      <th>1877293</th>\n",
       "      <td>2016</td>\n",
       "      <td>1</td>\n",
       "      <td>3</td>\n",
       "      <td>11292</td>\n",
       "      <td>14107</td>\n",
       "      <td>1830</td>\n",
       "      <td>2024</td>\n",
       "      <td>4</td>\n",
       "      <td>26</td>\n",
       "      <td>100</td>\n",
       "      <td>0.0</td>\n",
       "      <td>1029</td>\n",
       "      <td>0</td>\n",
       "      <td>260</td>\n",
       "      <td>26</td>\n",
       "      <td>158</td>\n",
       "      <td>100</td>\n",
       "    </tr>\n",
       "    <tr>\n",
       "      <th>1877294</th>\n",
       "      <td>2016</td>\n",
       "      <td>1</td>\n",
       "      <td>3</td>\n",
       "      <td>13930</td>\n",
       "      <td>13204</td>\n",
       "      <td>925</td>\n",
       "      <td>1312</td>\n",
       "      <td>19</td>\n",
       "      <td>21</td>\n",
       "      <td>100</td>\n",
       "      <td>0.0</td>\n",
       "      <td>1022</td>\n",
       "      <td>10</td>\n",
       "      <td>122</td>\n",
       "      <td>24</td>\n",
       "      <td>333</td>\n",
       "      <td>89</td>\n",
       "    </tr>\n",
       "    <tr>\n",
       "      <th>1877295</th>\n",
       "      <td>2016</td>\n",
       "      <td>1</td>\n",
       "      <td>3</td>\n",
       "      <td>13204</td>\n",
       "      <td>13930</td>\n",
       "      <td>630</td>\n",
       "      <td>835</td>\n",
       "      <td>17</td>\n",
       "      <td>58</td>\n",
       "      <td>100</td>\n",
       "      <td>0.1</td>\n",
       "      <td>1016</td>\n",
       "      <td>7</td>\n",
       "      <td>122</td>\n",
       "      <td>64</td>\n",
       "      <td>344</td>\n",
       "      <td>82</td>\n",
       "    </tr>\n",
       "  </tbody>\n",
       "</table>\n",
       "<p>1851436 rows × 17 columns</p>\n",
       "</div>"
      ],
      "text/plain": [
       "         Year  Month  DayofMonth  OriginAirportID  DestAirportID  CRSDepTime  \\\n",
       "0        2017      9          25            12478          13204        1346   \n",
       "1        2017      9          25            12478          13930         902   \n",
       "2        2017      9          25            13930          12478        2044   \n",
       "3        2017      9          25            11057          12478        1952   \n",
       "4        2017      9          25            12478          11057        1658   \n",
       "...       ...    ...         ...              ...            ...         ...   \n",
       "1877291  2016      1           3            13204          13930        1130   \n",
       "1877292  2016      1           3            14107          11292        2110   \n",
       "1877293  2016      1           3            11292          14107        1830   \n",
       "1877294  2016      1           3            13930          13204         925   \n",
       "1877295  2016      1           3            13204          13930         630   \n",
       "\n",
       "         CRSArrTime  windspeedKmph  DewPointF  cloudcover  precipMM  pressure  \\\n",
       "0              1642             12         67          39       0.0      1017   \n",
       "1              1045              6         66          55       0.0      1018   \n",
       "2              2359             10         63           5       0.0      1013   \n",
       "3              2157             11         64          32       0.0      1013   \n",
       "4              1914             14         66          47       0.0      1017   \n",
       "...             ...            ...        ...         ...       ...       ...   \n",
       "1877291        1330             16         56         100       1.9      1017   \n",
       "1877292        2259             17         38          99       0.0      1013   \n",
       "1877293        2024              4         26         100       0.0      1029   \n",
       "1877294        1312             19         21         100       0.0      1022   \n",
       "1877295         835             17         58         100       0.1      1016   \n",
       "\n",
       "         visibility  weatherCode  tempF  winddirDegree  humidity  \n",
       "0                10          116     76            117        74  \n",
       "1                10          116     70            145        90  \n",
       "2                10          113     85            151        48  \n",
       "3                10          116     80             41        59  \n",
       "4                10          143     72            134        82  \n",
       "...             ...          ...    ...            ...       ...  \n",
       "1877291           6          302     61            331        87  \n",
       "1877292          10          122     62             76        42  \n",
       "1877293           0          260     26            158       100  \n",
       "1877294          10          122     24            333        89  \n",
       "1877295           7          122     64            344        82  \n",
       "\n",
       "[1851436 rows x 17 columns]"
      ]
     },
     "execution_count": 154,
     "metadata": {},
     "output_type": "execute_result"
    }
   ],
   "source": [
    "X"
   ]
  },
  {
   "cell_type": "markdown",
   "id": "ee93424a",
   "metadata": {},
   "source": [
    "# FIXING CLASS IMBALANCE"
   ]
  },
  {
   "cell_type": "code",
   "execution_count": 155,
   "id": "4f2bf6f9",
   "metadata": {},
   "outputs": [
    {
     "data": {
      "text/plain": [
       "0.0    1479357\n",
       "1.0     372079\n",
       "Name: DepDel15, dtype: int64"
      ]
     },
     "execution_count": 155,
     "metadata": {},
     "output_type": "execute_result"
    }
   ],
   "source": [
    "y.value_counts()"
   ]
  },
  {
   "cell_type": "markdown",
   "id": "64320421",
   "metadata": {},
   "source": [
    "# oversampling using SMOTE"
   ]
  },
  {
   "cell_type": "code",
   "execution_count": 156,
   "id": "4ceef7e9",
   "metadata": {},
   "outputs": [],
   "source": [
    "sm = SMOTE(random_state=10)\n",
    "X , y = sm.fit_resample(X , y)"
   ]
  },
  {
   "cell_type": "code",
   "execution_count": 157,
   "id": "59f3804e",
   "metadata": {},
   "outputs": [
    {
     "data": {
      "text/plain": [
       "0.0    1479357\n",
       "1.0    1479357\n",
       "Name: DepDel15, dtype: int64"
      ]
     },
     "execution_count": 157,
     "metadata": {},
     "output_type": "execute_result"
    }
   ],
   "source": [
    "#after smote\n",
    "y.value_counts()"
   ]
  },
  {
   "cell_type": "code",
   "execution_count": 158,
   "id": "3d0af097",
   "metadata": {},
   "outputs": [],
   "source": [
    "X_train , X_test , y_train , y_test = train_test_split(X,y,test_size=0.2,stratify=y)"
   ]
  },
  {
   "cell_type": "markdown",
   "id": "035d0f39",
   "metadata": {},
   "source": [
    "# Logistic Regression with smote"
   ]
  },
  {
   "cell_type": "code",
   "execution_count": 19,
   "id": "8451e6c8",
   "metadata": {},
   "outputs": [
    {
     "data": {
      "text/html": [
       "<style>#sk-container-id-1 {color: black;background-color: white;}#sk-container-id-1 pre{padding: 0;}#sk-container-id-1 div.sk-toggleable {background-color: white;}#sk-container-id-1 label.sk-toggleable__label {cursor: pointer;display: block;width: 100%;margin-bottom: 0;padding: 0.3em;box-sizing: border-box;text-align: center;}#sk-container-id-1 label.sk-toggleable__label-arrow:before {content: \"▸\";float: left;margin-right: 0.25em;color: #696969;}#sk-container-id-1 label.sk-toggleable__label-arrow:hover:before {color: black;}#sk-container-id-1 div.sk-estimator:hover label.sk-toggleable__label-arrow:before {color: black;}#sk-container-id-1 div.sk-toggleable__content {max-height: 0;max-width: 0;overflow: hidden;text-align: left;background-color: #f0f8ff;}#sk-container-id-1 div.sk-toggleable__content pre {margin: 0.2em;color: black;border-radius: 0.25em;background-color: #f0f8ff;}#sk-container-id-1 input.sk-toggleable__control:checked~div.sk-toggleable__content {max-height: 200px;max-width: 100%;overflow: auto;}#sk-container-id-1 input.sk-toggleable__control:checked~label.sk-toggleable__label-arrow:before {content: \"▾\";}#sk-container-id-1 div.sk-estimator input.sk-toggleable__control:checked~label.sk-toggleable__label {background-color: #d4ebff;}#sk-container-id-1 div.sk-label input.sk-toggleable__control:checked~label.sk-toggleable__label {background-color: #d4ebff;}#sk-container-id-1 input.sk-hidden--visually {border: 0;clip: rect(1px 1px 1px 1px);clip: rect(1px, 1px, 1px, 1px);height: 1px;margin: -1px;overflow: hidden;padding: 0;position: absolute;width: 1px;}#sk-container-id-1 div.sk-estimator {font-family: monospace;background-color: #f0f8ff;border: 1px dotted black;border-radius: 0.25em;box-sizing: border-box;margin-bottom: 0.5em;}#sk-container-id-1 div.sk-estimator:hover {background-color: #d4ebff;}#sk-container-id-1 div.sk-parallel-item::after {content: \"\";width: 100%;border-bottom: 1px solid gray;flex-grow: 1;}#sk-container-id-1 div.sk-label:hover label.sk-toggleable__label {background-color: #d4ebff;}#sk-container-id-1 div.sk-serial::before {content: \"\";position: absolute;border-left: 1px solid gray;box-sizing: border-box;top: 0;bottom: 0;left: 50%;z-index: 0;}#sk-container-id-1 div.sk-serial {display: flex;flex-direction: column;align-items: center;background-color: white;padding-right: 0.2em;padding-left: 0.2em;position: relative;}#sk-container-id-1 div.sk-item {position: relative;z-index: 1;}#sk-container-id-1 div.sk-parallel {display: flex;align-items: stretch;justify-content: center;background-color: white;position: relative;}#sk-container-id-1 div.sk-item::before, #sk-container-id-1 div.sk-parallel-item::before {content: \"\";position: absolute;border-left: 1px solid gray;box-sizing: border-box;top: 0;bottom: 0;left: 50%;z-index: -1;}#sk-container-id-1 div.sk-parallel-item {display: flex;flex-direction: column;z-index: 1;position: relative;background-color: white;}#sk-container-id-1 div.sk-parallel-item:first-child::after {align-self: flex-end;width: 50%;}#sk-container-id-1 div.sk-parallel-item:last-child::after {align-self: flex-start;width: 50%;}#sk-container-id-1 div.sk-parallel-item:only-child::after {width: 0;}#sk-container-id-1 div.sk-dashed-wrapped {border: 1px dashed gray;margin: 0 0.4em 0.5em 0.4em;box-sizing: border-box;padding-bottom: 0.4em;background-color: white;}#sk-container-id-1 div.sk-label label {font-family: monospace;font-weight: bold;display: inline-block;line-height: 1.2em;}#sk-container-id-1 div.sk-label-container {text-align: center;}#sk-container-id-1 div.sk-container {/* jupyter's `normalize.less` sets `[hidden] { display: none; }` but bootstrap.min.css set `[hidden] { display: none !important; }` so we also need the `!important` here to be able to override the default hidden behavior on the sphinx rendered scikit-learn.org. See: https://github.com/scikit-learn/scikit-learn/issues/21755 */display: inline-block !important;position: relative;}#sk-container-id-1 div.sk-text-repr-fallback {display: none;}</style><div id=\"sk-container-id-1\" class=\"sk-top-container\"><div class=\"sk-text-repr-fallback\"><pre>LogisticRegression(max_iter=3000)</pre><b>In a Jupyter environment, please rerun this cell to show the HTML representation or trust the notebook. <br />On GitHub, the HTML representation is unable to render, please try loading this page with nbviewer.org.</b></div><div class=\"sk-container\" hidden><div class=\"sk-item\"><div class=\"sk-estimator sk-toggleable\"><input class=\"sk-toggleable__control sk-hidden--visually\" id=\"sk-estimator-id-1\" type=\"checkbox\" checked><label for=\"sk-estimator-id-1\" class=\"sk-toggleable__label sk-toggleable__label-arrow\">LogisticRegression</label><div class=\"sk-toggleable__content\"><pre>LogisticRegression(max_iter=3000)</pre></div></div></div></div></div>"
      ],
      "text/plain": [
       "LogisticRegression(max_iter=3000)"
      ]
     },
     "execution_count": 19,
     "metadata": {},
     "output_type": "execute_result"
    }
   ],
   "source": [
    "model_LR = LogisticRegression(solver='lbfgs', max_iter=3000)\n",
    "model_LR.fit(X_train,y_train)"
   ]
  },
  {
   "cell_type": "code",
   "execution_count": 20,
   "id": "f741f7af",
   "metadata": {},
   "outputs": [
    {
     "data": {
      "text/plain": [
       "0.6028951757773222"
      ]
     },
     "execution_count": 20,
     "metadata": {},
     "output_type": "execute_result"
    }
   ],
   "source": [
    "res = model_LR.predict(X_test)\n",
    "model_LR.score(X_test,y_test)"
   ]
  },
  {
   "cell_type": "code",
   "execution_count": 21,
   "id": "ca4825a8",
   "metadata": {},
   "outputs": [
    {
     "name": "stdout",
     "output_type": "stream",
     "text": [
      "              precision    recall  f1-score   support\n",
      "\n",
      "         0.0       0.60      0.60      0.60    295872\n",
      "         1.0       0.60      0.61      0.61    295871\n",
      "\n",
      "    accuracy                           0.60    591743\n",
      "   macro avg       0.60      0.60      0.60    591743\n",
      "weighted avg       0.60      0.60      0.60    591743\n",
      "\n"
     ]
    }
   ],
   "source": [
    "print(classification_report(y_test,res))"
   ]
  },
  {
   "cell_type": "markdown",
   "id": "9ca2c841",
   "metadata": {},
   "source": [
    "# DecisionTreeClassifier with smote"
   ]
  },
  {
   "cell_type": "code",
   "execution_count": 22,
   "id": "e01ae8db",
   "metadata": {},
   "outputs": [
    {
     "data": {
      "text/html": [
       "<style>#sk-container-id-2 {color: black;background-color: white;}#sk-container-id-2 pre{padding: 0;}#sk-container-id-2 div.sk-toggleable {background-color: white;}#sk-container-id-2 label.sk-toggleable__label {cursor: pointer;display: block;width: 100%;margin-bottom: 0;padding: 0.3em;box-sizing: border-box;text-align: center;}#sk-container-id-2 label.sk-toggleable__label-arrow:before {content: \"▸\";float: left;margin-right: 0.25em;color: #696969;}#sk-container-id-2 label.sk-toggleable__label-arrow:hover:before {color: black;}#sk-container-id-2 div.sk-estimator:hover label.sk-toggleable__label-arrow:before {color: black;}#sk-container-id-2 div.sk-toggleable__content {max-height: 0;max-width: 0;overflow: hidden;text-align: left;background-color: #f0f8ff;}#sk-container-id-2 div.sk-toggleable__content pre {margin: 0.2em;color: black;border-radius: 0.25em;background-color: #f0f8ff;}#sk-container-id-2 input.sk-toggleable__control:checked~div.sk-toggleable__content {max-height: 200px;max-width: 100%;overflow: auto;}#sk-container-id-2 input.sk-toggleable__control:checked~label.sk-toggleable__label-arrow:before {content: \"▾\";}#sk-container-id-2 div.sk-estimator input.sk-toggleable__control:checked~label.sk-toggleable__label {background-color: #d4ebff;}#sk-container-id-2 div.sk-label input.sk-toggleable__control:checked~label.sk-toggleable__label {background-color: #d4ebff;}#sk-container-id-2 input.sk-hidden--visually {border: 0;clip: rect(1px 1px 1px 1px);clip: rect(1px, 1px, 1px, 1px);height: 1px;margin: -1px;overflow: hidden;padding: 0;position: absolute;width: 1px;}#sk-container-id-2 div.sk-estimator {font-family: monospace;background-color: #f0f8ff;border: 1px dotted black;border-radius: 0.25em;box-sizing: border-box;margin-bottom: 0.5em;}#sk-container-id-2 div.sk-estimator:hover {background-color: #d4ebff;}#sk-container-id-2 div.sk-parallel-item::after {content: \"\";width: 100%;border-bottom: 1px solid gray;flex-grow: 1;}#sk-container-id-2 div.sk-label:hover label.sk-toggleable__label {background-color: #d4ebff;}#sk-container-id-2 div.sk-serial::before {content: \"\";position: absolute;border-left: 1px solid gray;box-sizing: border-box;top: 0;bottom: 0;left: 50%;z-index: 0;}#sk-container-id-2 div.sk-serial {display: flex;flex-direction: column;align-items: center;background-color: white;padding-right: 0.2em;padding-left: 0.2em;position: relative;}#sk-container-id-2 div.sk-item {position: relative;z-index: 1;}#sk-container-id-2 div.sk-parallel {display: flex;align-items: stretch;justify-content: center;background-color: white;position: relative;}#sk-container-id-2 div.sk-item::before, #sk-container-id-2 div.sk-parallel-item::before {content: \"\";position: absolute;border-left: 1px solid gray;box-sizing: border-box;top: 0;bottom: 0;left: 50%;z-index: -1;}#sk-container-id-2 div.sk-parallel-item {display: flex;flex-direction: column;z-index: 1;position: relative;background-color: white;}#sk-container-id-2 div.sk-parallel-item:first-child::after {align-self: flex-end;width: 50%;}#sk-container-id-2 div.sk-parallel-item:last-child::after {align-self: flex-start;width: 50%;}#sk-container-id-2 div.sk-parallel-item:only-child::after {width: 0;}#sk-container-id-2 div.sk-dashed-wrapped {border: 1px dashed gray;margin: 0 0.4em 0.5em 0.4em;box-sizing: border-box;padding-bottom: 0.4em;background-color: white;}#sk-container-id-2 div.sk-label label {font-family: monospace;font-weight: bold;display: inline-block;line-height: 1.2em;}#sk-container-id-2 div.sk-label-container {text-align: center;}#sk-container-id-2 div.sk-container {/* jupyter's `normalize.less` sets `[hidden] { display: none; }` but bootstrap.min.css set `[hidden] { display: none !important; }` so we also need the `!important` here to be able to override the default hidden behavior on the sphinx rendered scikit-learn.org. See: https://github.com/scikit-learn/scikit-learn/issues/21755 */display: inline-block !important;position: relative;}#sk-container-id-2 div.sk-text-repr-fallback {display: none;}</style><div id=\"sk-container-id-2\" class=\"sk-top-container\"><div class=\"sk-text-repr-fallback\"><pre>DecisionTreeClassifier()</pre><b>In a Jupyter environment, please rerun this cell to show the HTML representation or trust the notebook. <br />On GitHub, the HTML representation is unable to render, please try loading this page with nbviewer.org.</b></div><div class=\"sk-container\" hidden><div class=\"sk-item\"><div class=\"sk-estimator sk-toggleable\"><input class=\"sk-toggleable__control sk-hidden--visually\" id=\"sk-estimator-id-2\" type=\"checkbox\" checked><label for=\"sk-estimator-id-2\" class=\"sk-toggleable__label sk-toggleable__label-arrow\">DecisionTreeClassifier</label><div class=\"sk-toggleable__content\"><pre>DecisionTreeClassifier()</pre></div></div></div></div></div>"
      ],
      "text/plain": [
       "DecisionTreeClassifier()"
      ]
     },
     "execution_count": 22,
     "metadata": {},
     "output_type": "execute_result"
    }
   ],
   "source": [
    "model_DTC = DecisionTreeClassifier()\n",
    "model_DTC.fit(X_train,y_train)"
   ]
  },
  {
   "cell_type": "code",
   "execution_count": 23,
   "id": "f1bc9a9e",
   "metadata": {},
   "outputs": [
    {
     "data": {
      "text/plain": [
       "0.7982215252229431"
      ]
     },
     "execution_count": 23,
     "metadata": {},
     "output_type": "execute_result"
    }
   ],
   "source": [
    "res = model_DTC.predict(X_test)\n",
    "model_DTC.score(X_test,y_test)"
   ]
  },
  {
   "cell_type": "code",
   "execution_count": 24,
   "id": "5287b6a8",
   "metadata": {},
   "outputs": [
    {
     "name": "stdout",
     "output_type": "stream",
     "text": [
      "              precision    recall  f1-score   support\n",
      "\n",
      "         0.0       0.80      0.79      0.80    295872\n",
      "         1.0       0.80      0.80      0.80    295871\n",
      "\n",
      "    accuracy                           0.80    591743\n",
      "   macro avg       0.80      0.80      0.80    591743\n",
      "weighted avg       0.80      0.80      0.80    591743\n",
      "\n"
     ]
    }
   ],
   "source": [
    "print(classification_report(y_test,res))"
   ]
  },
  {
   "cell_type": "markdown",
   "id": "7ae74411",
   "metadata": {},
   "source": [
    "# RandomForestClassifier with smote"
   ]
  },
  {
   "cell_type": "code",
   "execution_count": 86,
   "id": "ead189d3",
   "metadata": {},
   "outputs": [
    {
     "data": {
      "text/html": [
       "<style>#sk-container-id-2 {color: black;background-color: white;}#sk-container-id-2 pre{padding: 0;}#sk-container-id-2 div.sk-toggleable {background-color: white;}#sk-container-id-2 label.sk-toggleable__label {cursor: pointer;display: block;width: 100%;margin-bottom: 0;padding: 0.3em;box-sizing: border-box;text-align: center;}#sk-container-id-2 label.sk-toggleable__label-arrow:before {content: \"▸\";float: left;margin-right: 0.25em;color: #696969;}#sk-container-id-2 label.sk-toggleable__label-arrow:hover:before {color: black;}#sk-container-id-2 div.sk-estimator:hover label.sk-toggleable__label-arrow:before {color: black;}#sk-container-id-2 div.sk-toggleable__content {max-height: 0;max-width: 0;overflow: hidden;text-align: left;background-color: #f0f8ff;}#sk-container-id-2 div.sk-toggleable__content pre {margin: 0.2em;color: black;border-radius: 0.25em;background-color: #f0f8ff;}#sk-container-id-2 input.sk-toggleable__control:checked~div.sk-toggleable__content {max-height: 200px;max-width: 100%;overflow: auto;}#sk-container-id-2 input.sk-toggleable__control:checked~label.sk-toggleable__label-arrow:before {content: \"▾\";}#sk-container-id-2 div.sk-estimator input.sk-toggleable__control:checked~label.sk-toggleable__label {background-color: #d4ebff;}#sk-container-id-2 div.sk-label input.sk-toggleable__control:checked~label.sk-toggleable__label {background-color: #d4ebff;}#sk-container-id-2 input.sk-hidden--visually {border: 0;clip: rect(1px 1px 1px 1px);clip: rect(1px, 1px, 1px, 1px);height: 1px;margin: -1px;overflow: hidden;padding: 0;position: absolute;width: 1px;}#sk-container-id-2 div.sk-estimator {font-family: monospace;background-color: #f0f8ff;border: 1px dotted black;border-radius: 0.25em;box-sizing: border-box;margin-bottom: 0.5em;}#sk-container-id-2 div.sk-estimator:hover {background-color: #d4ebff;}#sk-container-id-2 div.sk-parallel-item::after {content: \"\";width: 100%;border-bottom: 1px solid gray;flex-grow: 1;}#sk-container-id-2 div.sk-label:hover label.sk-toggleable__label {background-color: #d4ebff;}#sk-container-id-2 div.sk-serial::before {content: \"\";position: absolute;border-left: 1px solid gray;box-sizing: border-box;top: 0;bottom: 0;left: 50%;z-index: 0;}#sk-container-id-2 div.sk-serial {display: flex;flex-direction: column;align-items: center;background-color: white;padding-right: 0.2em;padding-left: 0.2em;position: relative;}#sk-container-id-2 div.sk-item {position: relative;z-index: 1;}#sk-container-id-2 div.sk-parallel {display: flex;align-items: stretch;justify-content: center;background-color: white;position: relative;}#sk-container-id-2 div.sk-item::before, #sk-container-id-2 div.sk-parallel-item::before {content: \"\";position: absolute;border-left: 1px solid gray;box-sizing: border-box;top: 0;bottom: 0;left: 50%;z-index: -1;}#sk-container-id-2 div.sk-parallel-item {display: flex;flex-direction: column;z-index: 1;position: relative;background-color: white;}#sk-container-id-2 div.sk-parallel-item:first-child::after {align-self: flex-end;width: 50%;}#sk-container-id-2 div.sk-parallel-item:last-child::after {align-self: flex-start;width: 50%;}#sk-container-id-2 div.sk-parallel-item:only-child::after {width: 0;}#sk-container-id-2 div.sk-dashed-wrapped {border: 1px dashed gray;margin: 0 0.4em 0.5em 0.4em;box-sizing: border-box;padding-bottom: 0.4em;background-color: white;}#sk-container-id-2 div.sk-label label {font-family: monospace;font-weight: bold;display: inline-block;line-height: 1.2em;}#sk-container-id-2 div.sk-label-container {text-align: center;}#sk-container-id-2 div.sk-container {/* jupyter's `normalize.less` sets `[hidden] { display: none; }` but bootstrap.min.css set `[hidden] { display: none !important; }` so we also need the `!important` here to be able to override the default hidden behavior on the sphinx rendered scikit-learn.org. See: https://github.com/scikit-learn/scikit-learn/issues/21755 */display: inline-block !important;position: relative;}#sk-container-id-2 div.sk-text-repr-fallback {display: none;}</style><div id=\"sk-container-id-2\" class=\"sk-top-container\"><div class=\"sk-text-repr-fallback\"><pre>RandomForestClassifier()</pre><b>In a Jupyter environment, please rerun this cell to show the HTML representation or trust the notebook. <br />On GitHub, the HTML representation is unable to render, please try loading this page with nbviewer.org.</b></div><div class=\"sk-container\" hidden><div class=\"sk-item\"><div class=\"sk-estimator sk-toggleable\"><input class=\"sk-toggleable__control sk-hidden--visually\" id=\"sk-estimator-id-2\" type=\"checkbox\" checked><label for=\"sk-estimator-id-2\" class=\"sk-toggleable__label sk-toggleable__label-arrow\">RandomForestClassifier</label><div class=\"sk-toggleable__content\"><pre>RandomForestClassifier()</pre></div></div></div></div></div>"
      ],
      "text/plain": [
       "RandomForestClassifier()"
      ]
     },
     "execution_count": 86,
     "metadata": {},
     "output_type": "execute_result"
    }
   ],
   "source": [
    "model_RFC = RandomForestClassifier()\n",
    "model_RFC.fit(X_train,y_train)"
   ]
  },
  {
   "cell_type": "code",
   "execution_count": 87,
   "id": "0ef7ce08",
   "metadata": {},
   "outputs": [
    {
     "data": {
      "text/plain": [
       "0.8593173049786816"
      ]
     },
     "execution_count": 87,
     "metadata": {},
     "output_type": "execute_result"
    }
   ],
   "source": [
    "res = model_RFC.predict(X_test)\n",
    "model_RFC.score(X_test,y_test)"
   ]
  },
  {
   "cell_type": "code",
   "execution_count": 88,
   "id": "2ae27bb9",
   "metadata": {},
   "outputs": [
    {
     "name": "stdout",
     "output_type": "stream",
     "text": [
      "              precision    recall  f1-score   support\n",
      "\n",
      "         0.0       0.84      0.89      0.86    295871\n",
      "         1.0       0.88      0.83      0.85    295872\n",
      "\n",
      "    accuracy                           0.86    591743\n",
      "   macro avg       0.86      0.86      0.86    591743\n",
      "weighted avg       0.86      0.86      0.86    591743\n",
      "\n"
     ]
    }
   ],
   "source": [
    "print(classification_report(y_test,res))"
   ]
  },
  {
   "cell_type": "markdown",
   "id": "972da2d7",
   "metadata": {},
   "source": [
    "# XGBOOST with smote"
   ]
  },
  {
   "cell_type": "code",
   "execution_count": 28,
   "id": "0023a844",
   "metadata": {},
   "outputs": [
    {
     "data": {
      "text/html": [
       "<style>#sk-container-id-4 {color: black;background-color: white;}#sk-container-id-4 pre{padding: 0;}#sk-container-id-4 div.sk-toggleable {background-color: white;}#sk-container-id-4 label.sk-toggleable__label {cursor: pointer;display: block;width: 100%;margin-bottom: 0;padding: 0.3em;box-sizing: border-box;text-align: center;}#sk-container-id-4 label.sk-toggleable__label-arrow:before {content: \"▸\";float: left;margin-right: 0.25em;color: #696969;}#sk-container-id-4 label.sk-toggleable__label-arrow:hover:before {color: black;}#sk-container-id-4 div.sk-estimator:hover label.sk-toggleable__label-arrow:before {color: black;}#sk-container-id-4 div.sk-toggleable__content {max-height: 0;max-width: 0;overflow: hidden;text-align: left;background-color: #f0f8ff;}#sk-container-id-4 div.sk-toggleable__content pre {margin: 0.2em;color: black;border-radius: 0.25em;background-color: #f0f8ff;}#sk-container-id-4 input.sk-toggleable__control:checked~div.sk-toggleable__content {max-height: 200px;max-width: 100%;overflow: auto;}#sk-container-id-4 input.sk-toggleable__control:checked~label.sk-toggleable__label-arrow:before {content: \"▾\";}#sk-container-id-4 div.sk-estimator input.sk-toggleable__control:checked~label.sk-toggleable__label {background-color: #d4ebff;}#sk-container-id-4 div.sk-label input.sk-toggleable__control:checked~label.sk-toggleable__label {background-color: #d4ebff;}#sk-container-id-4 input.sk-hidden--visually {border: 0;clip: rect(1px 1px 1px 1px);clip: rect(1px, 1px, 1px, 1px);height: 1px;margin: -1px;overflow: hidden;padding: 0;position: absolute;width: 1px;}#sk-container-id-4 div.sk-estimator {font-family: monospace;background-color: #f0f8ff;border: 1px dotted black;border-radius: 0.25em;box-sizing: border-box;margin-bottom: 0.5em;}#sk-container-id-4 div.sk-estimator:hover {background-color: #d4ebff;}#sk-container-id-4 div.sk-parallel-item::after {content: \"\";width: 100%;border-bottom: 1px solid gray;flex-grow: 1;}#sk-container-id-4 div.sk-label:hover label.sk-toggleable__label {background-color: #d4ebff;}#sk-container-id-4 div.sk-serial::before {content: \"\";position: absolute;border-left: 1px solid gray;box-sizing: border-box;top: 0;bottom: 0;left: 50%;z-index: 0;}#sk-container-id-4 div.sk-serial {display: flex;flex-direction: column;align-items: center;background-color: white;padding-right: 0.2em;padding-left: 0.2em;position: relative;}#sk-container-id-4 div.sk-item {position: relative;z-index: 1;}#sk-container-id-4 div.sk-parallel {display: flex;align-items: stretch;justify-content: center;background-color: white;position: relative;}#sk-container-id-4 div.sk-item::before, #sk-container-id-4 div.sk-parallel-item::before {content: \"\";position: absolute;border-left: 1px solid gray;box-sizing: border-box;top: 0;bottom: 0;left: 50%;z-index: -1;}#sk-container-id-4 div.sk-parallel-item {display: flex;flex-direction: column;z-index: 1;position: relative;background-color: white;}#sk-container-id-4 div.sk-parallel-item:first-child::after {align-self: flex-end;width: 50%;}#sk-container-id-4 div.sk-parallel-item:last-child::after {align-self: flex-start;width: 50%;}#sk-container-id-4 div.sk-parallel-item:only-child::after {width: 0;}#sk-container-id-4 div.sk-dashed-wrapped {border: 1px dashed gray;margin: 0 0.4em 0.5em 0.4em;box-sizing: border-box;padding-bottom: 0.4em;background-color: white;}#sk-container-id-4 div.sk-label label {font-family: monospace;font-weight: bold;display: inline-block;line-height: 1.2em;}#sk-container-id-4 div.sk-label-container {text-align: center;}#sk-container-id-4 div.sk-container {/* jupyter's `normalize.less` sets `[hidden] { display: none; }` but bootstrap.min.css set `[hidden] { display: none !important; }` so we also need the `!important` here to be able to override the default hidden behavior on the sphinx rendered scikit-learn.org. See: https://github.com/scikit-learn/scikit-learn/issues/21755 */display: inline-block !important;position: relative;}#sk-container-id-4 div.sk-text-repr-fallback {display: none;}</style><div id=\"sk-container-id-4\" class=\"sk-top-container\"><div class=\"sk-text-repr-fallback\"><pre>XGBClassifier(base_score=None, booster=None, callbacks=None,\n",
       "              colsample_bylevel=None, colsample_bynode=None,\n",
       "              colsample_bytree=None, early_stopping_rounds=None,\n",
       "              enable_categorical=False, eval_metric=None, feature_types=None,\n",
       "              gamma=None, gpu_id=None, grow_policy=None, importance_type=None,\n",
       "              interaction_constraints=None, learning_rate=None, max_bin=None,\n",
       "              max_cat_threshold=None, max_cat_to_onehot=None,\n",
       "              max_delta_step=None, max_depth=None, max_leaves=None,\n",
       "              min_child_weight=None, missing=nan, monotone_constraints=None,\n",
       "              n_estimators=100, n_jobs=None, num_parallel_tree=None,\n",
       "              predictor=None, random_state=None, ...)</pre><b>In a Jupyter environment, please rerun this cell to show the HTML representation or trust the notebook. <br />On GitHub, the HTML representation is unable to render, please try loading this page with nbviewer.org.</b></div><div class=\"sk-container\" hidden><div class=\"sk-item\"><div class=\"sk-estimator sk-toggleable\"><input class=\"sk-toggleable__control sk-hidden--visually\" id=\"sk-estimator-id-4\" type=\"checkbox\" checked><label for=\"sk-estimator-id-4\" class=\"sk-toggleable__label sk-toggleable__label-arrow\">XGBClassifier</label><div class=\"sk-toggleable__content\"><pre>XGBClassifier(base_score=None, booster=None, callbacks=None,\n",
       "              colsample_bylevel=None, colsample_bynode=None,\n",
       "              colsample_bytree=None, early_stopping_rounds=None,\n",
       "              enable_categorical=False, eval_metric=None, feature_types=None,\n",
       "              gamma=None, gpu_id=None, grow_policy=None, importance_type=None,\n",
       "              interaction_constraints=None, learning_rate=None, max_bin=None,\n",
       "              max_cat_threshold=None, max_cat_to_onehot=None,\n",
       "              max_delta_step=None, max_depth=None, max_leaves=None,\n",
       "              min_child_weight=None, missing=nan, monotone_constraints=None,\n",
       "              n_estimators=100, n_jobs=None, num_parallel_tree=None,\n",
       "              predictor=None, random_state=None, ...)</pre></div></div></div></div></div>"
      ],
      "text/plain": [
       "XGBClassifier(base_score=None, booster=None, callbacks=None,\n",
       "              colsample_bylevel=None, colsample_bynode=None,\n",
       "              colsample_bytree=None, early_stopping_rounds=None,\n",
       "              enable_categorical=False, eval_metric=None, feature_types=None,\n",
       "              gamma=None, gpu_id=None, grow_policy=None, importance_type=None,\n",
       "              interaction_constraints=None, learning_rate=None, max_bin=None,\n",
       "              max_cat_threshold=None, max_cat_to_onehot=None,\n",
       "              max_delta_step=None, max_depth=None, max_leaves=None,\n",
       "              min_child_weight=None, missing=nan, monotone_constraints=None,\n",
       "              n_estimators=100, n_jobs=None, num_parallel_tree=None,\n",
       "              predictor=None, random_state=None, ...)"
      ]
     },
     "execution_count": 28,
     "metadata": {},
     "output_type": "execute_result"
    }
   ],
   "source": [
    "model_XG = XGBClassifier()\n",
    "model_XG.fit(X_train,y_train)"
   ]
  },
  {
   "cell_type": "code",
   "execution_count": 29,
   "id": "e515cc3c",
   "metadata": {},
   "outputs": [
    {
     "name": "stdout",
     "output_type": "stream",
     "text": [
      "              precision    recall  f1-score   support\n",
      "\n",
      "         0.0       0.74      0.83      0.79    295872\n",
      "         1.0       0.81      0.71      0.76    295871\n",
      "\n",
      "    accuracy                           0.77    591743\n",
      "   macro avg       0.78      0.77      0.77    591743\n",
      "weighted avg       0.78      0.77      0.77    591743\n",
      "\n"
     ]
    }
   ],
   "source": [
    "res = model_XG.predict(X_test)\n",
    "print(classification_report(y_test,res))"
   ]
  },
  {
   "cell_type": "code",
   "execution_count": 30,
   "id": "7b8b44db",
   "metadata": {},
   "outputs": [
    {
     "data": {
      "text/plain": [
       "0.7731346209418616"
      ]
     },
     "execution_count": 30,
     "metadata": {},
     "output_type": "execute_result"
    }
   ],
   "source": [
    "model_XG.score(X_test,y_test)"
   ]
  },
  {
   "cell_type": "markdown",
   "id": "5a5b11a5",
   "metadata": {},
   "source": [
    "# ExtraTreesClassifier with somte"
   ]
  },
  {
   "cell_type": "code",
   "execution_count": 31,
   "id": "0113a8af",
   "metadata": {},
   "outputs": [
    {
     "data": {
      "text/html": [
       "<style>#sk-container-id-5 {color: black;background-color: white;}#sk-container-id-5 pre{padding: 0;}#sk-container-id-5 div.sk-toggleable {background-color: white;}#sk-container-id-5 label.sk-toggleable__label {cursor: pointer;display: block;width: 100%;margin-bottom: 0;padding: 0.3em;box-sizing: border-box;text-align: center;}#sk-container-id-5 label.sk-toggleable__label-arrow:before {content: \"▸\";float: left;margin-right: 0.25em;color: #696969;}#sk-container-id-5 label.sk-toggleable__label-arrow:hover:before {color: black;}#sk-container-id-5 div.sk-estimator:hover label.sk-toggleable__label-arrow:before {color: black;}#sk-container-id-5 div.sk-toggleable__content {max-height: 0;max-width: 0;overflow: hidden;text-align: left;background-color: #f0f8ff;}#sk-container-id-5 div.sk-toggleable__content pre {margin: 0.2em;color: black;border-radius: 0.25em;background-color: #f0f8ff;}#sk-container-id-5 input.sk-toggleable__control:checked~div.sk-toggleable__content {max-height: 200px;max-width: 100%;overflow: auto;}#sk-container-id-5 input.sk-toggleable__control:checked~label.sk-toggleable__label-arrow:before {content: \"▾\";}#sk-container-id-5 div.sk-estimator input.sk-toggleable__control:checked~label.sk-toggleable__label {background-color: #d4ebff;}#sk-container-id-5 div.sk-label input.sk-toggleable__control:checked~label.sk-toggleable__label {background-color: #d4ebff;}#sk-container-id-5 input.sk-hidden--visually {border: 0;clip: rect(1px 1px 1px 1px);clip: rect(1px, 1px, 1px, 1px);height: 1px;margin: -1px;overflow: hidden;padding: 0;position: absolute;width: 1px;}#sk-container-id-5 div.sk-estimator {font-family: monospace;background-color: #f0f8ff;border: 1px dotted black;border-radius: 0.25em;box-sizing: border-box;margin-bottom: 0.5em;}#sk-container-id-5 div.sk-estimator:hover {background-color: #d4ebff;}#sk-container-id-5 div.sk-parallel-item::after {content: \"\";width: 100%;border-bottom: 1px solid gray;flex-grow: 1;}#sk-container-id-5 div.sk-label:hover label.sk-toggleable__label {background-color: #d4ebff;}#sk-container-id-5 div.sk-serial::before {content: \"\";position: absolute;border-left: 1px solid gray;box-sizing: border-box;top: 0;bottom: 0;left: 50%;z-index: 0;}#sk-container-id-5 div.sk-serial {display: flex;flex-direction: column;align-items: center;background-color: white;padding-right: 0.2em;padding-left: 0.2em;position: relative;}#sk-container-id-5 div.sk-item {position: relative;z-index: 1;}#sk-container-id-5 div.sk-parallel {display: flex;align-items: stretch;justify-content: center;background-color: white;position: relative;}#sk-container-id-5 div.sk-item::before, #sk-container-id-5 div.sk-parallel-item::before {content: \"\";position: absolute;border-left: 1px solid gray;box-sizing: border-box;top: 0;bottom: 0;left: 50%;z-index: -1;}#sk-container-id-5 div.sk-parallel-item {display: flex;flex-direction: column;z-index: 1;position: relative;background-color: white;}#sk-container-id-5 div.sk-parallel-item:first-child::after {align-self: flex-end;width: 50%;}#sk-container-id-5 div.sk-parallel-item:last-child::after {align-self: flex-start;width: 50%;}#sk-container-id-5 div.sk-parallel-item:only-child::after {width: 0;}#sk-container-id-5 div.sk-dashed-wrapped {border: 1px dashed gray;margin: 0 0.4em 0.5em 0.4em;box-sizing: border-box;padding-bottom: 0.4em;background-color: white;}#sk-container-id-5 div.sk-label label {font-family: monospace;font-weight: bold;display: inline-block;line-height: 1.2em;}#sk-container-id-5 div.sk-label-container {text-align: center;}#sk-container-id-5 div.sk-container {/* jupyter's `normalize.less` sets `[hidden] { display: none; }` but bootstrap.min.css set `[hidden] { display: none !important; }` so we also need the `!important` here to be able to override the default hidden behavior on the sphinx rendered scikit-learn.org. See: https://github.com/scikit-learn/scikit-learn/issues/21755 */display: inline-block !important;position: relative;}#sk-container-id-5 div.sk-text-repr-fallback {display: none;}</style><div id=\"sk-container-id-5\" class=\"sk-top-container\"><div class=\"sk-text-repr-fallback\"><pre>ExtraTreesClassifier()</pre><b>In a Jupyter environment, please rerun this cell to show the HTML representation or trust the notebook. <br />On GitHub, the HTML representation is unable to render, please try loading this page with nbviewer.org.</b></div><div class=\"sk-container\" hidden><div class=\"sk-item\"><div class=\"sk-estimator sk-toggleable\"><input class=\"sk-toggleable__control sk-hidden--visually\" id=\"sk-estimator-id-5\" type=\"checkbox\" checked><label for=\"sk-estimator-id-5\" class=\"sk-toggleable__label sk-toggleable__label-arrow\">ExtraTreesClassifier</label><div class=\"sk-toggleable__content\"><pre>ExtraTreesClassifier()</pre></div></div></div></div></div>"
      ],
      "text/plain": [
       "ExtraTreesClassifier()"
      ]
     },
     "execution_count": 31,
     "metadata": {},
     "output_type": "execute_result"
    }
   ],
   "source": [
    "model_ETC = ExtraTreesClassifier()\n",
    "model_ETC.fit(X_train,y_train)"
   ]
  },
  {
   "cell_type": "code",
   "execution_count": 32,
   "id": "fe01f2d0",
   "metadata": {},
   "outputs": [
    {
     "name": "stdout",
     "output_type": "stream",
     "text": [
      "              precision    recall  f1-score   support\n",
      "\n",
      "         0.0       0.85      0.88      0.86    295872\n",
      "         1.0       0.87      0.84      0.86    295871\n",
      "\n",
      "    accuracy                           0.86    591743\n",
      "   macro avg       0.86      0.86      0.86    591743\n",
      "weighted avg       0.86      0.86      0.86    591743\n",
      "\n"
     ]
    }
   ],
   "source": [
    "res = model_ETC.predict(X_test)\n",
    "print(classification_report(y_test,res))"
   ]
  },
  {
   "cell_type": "code",
   "execution_count": 33,
   "id": "8d03218b",
   "metadata": {},
   "outputs": [
    {
     "data": {
      "text/plain": [
       "0.857891010117568"
      ]
     },
     "execution_count": 33,
     "metadata": {},
     "output_type": "execute_result"
    }
   ],
   "source": [
    "model_ETC.score(X_test,y_test)"
   ]
  },
  {
   "cell_type": "markdown",
   "id": "c599b49e",
   "metadata": {},
   "source": [
    "# UNDERSAMPLING"
   ]
  },
  {
   "cell_type": "code",
   "execution_count": 16,
   "id": "be9b3a3f",
   "metadata": {},
   "outputs": [],
   "source": [
    "undersample = RandomUnderSampler(sampling_strategy='majority')\n",
    "X , y = undersample.fit_resample(X, y)"
   ]
  },
  {
   "cell_type": "code",
   "execution_count": 18,
   "id": "49c613d6",
   "metadata": {},
   "outputs": [
    {
     "data": {
      "text/plain": [
       "0.0    372079\n",
       "1.0    372079\n",
       "Name: DepDel15, dtype: int64"
      ]
     },
     "execution_count": 18,
     "metadata": {},
     "output_type": "execute_result"
    }
   ],
   "source": [
    "y.value_counts()"
   ]
  },
  {
   "cell_type": "code",
   "execution_count": 19,
   "id": "57e679a9",
   "metadata": {},
   "outputs": [],
   "source": [
    "X_train , X_test , y_train , y_test = train_test_split(X,y,test_size=0.2,stratify=y)"
   ]
  },
  {
   "cell_type": "markdown",
   "id": "c6f2d0ec",
   "metadata": {},
   "source": [
    "# RandomForestClassifier with undersampling"
   ]
  },
  {
   "cell_type": "code",
   "execution_count": 20,
   "id": "f19b8a66",
   "metadata": {},
   "outputs": [
    {
     "data": {
      "text/html": [
       "<style>#sk-container-id-1 {color: black;background-color: white;}#sk-container-id-1 pre{padding: 0;}#sk-container-id-1 div.sk-toggleable {background-color: white;}#sk-container-id-1 label.sk-toggleable__label {cursor: pointer;display: block;width: 100%;margin-bottom: 0;padding: 0.3em;box-sizing: border-box;text-align: center;}#sk-container-id-1 label.sk-toggleable__label-arrow:before {content: \"▸\";float: left;margin-right: 0.25em;color: #696969;}#sk-container-id-1 label.sk-toggleable__label-arrow:hover:before {color: black;}#sk-container-id-1 div.sk-estimator:hover label.sk-toggleable__label-arrow:before {color: black;}#sk-container-id-1 div.sk-toggleable__content {max-height: 0;max-width: 0;overflow: hidden;text-align: left;background-color: #f0f8ff;}#sk-container-id-1 div.sk-toggleable__content pre {margin: 0.2em;color: black;border-radius: 0.25em;background-color: #f0f8ff;}#sk-container-id-1 input.sk-toggleable__control:checked~div.sk-toggleable__content {max-height: 200px;max-width: 100%;overflow: auto;}#sk-container-id-1 input.sk-toggleable__control:checked~label.sk-toggleable__label-arrow:before {content: \"▾\";}#sk-container-id-1 div.sk-estimator input.sk-toggleable__control:checked~label.sk-toggleable__label {background-color: #d4ebff;}#sk-container-id-1 div.sk-label input.sk-toggleable__control:checked~label.sk-toggleable__label {background-color: #d4ebff;}#sk-container-id-1 input.sk-hidden--visually {border: 0;clip: rect(1px 1px 1px 1px);clip: rect(1px, 1px, 1px, 1px);height: 1px;margin: -1px;overflow: hidden;padding: 0;position: absolute;width: 1px;}#sk-container-id-1 div.sk-estimator {font-family: monospace;background-color: #f0f8ff;border: 1px dotted black;border-radius: 0.25em;box-sizing: border-box;margin-bottom: 0.5em;}#sk-container-id-1 div.sk-estimator:hover {background-color: #d4ebff;}#sk-container-id-1 div.sk-parallel-item::after {content: \"\";width: 100%;border-bottom: 1px solid gray;flex-grow: 1;}#sk-container-id-1 div.sk-label:hover label.sk-toggleable__label {background-color: #d4ebff;}#sk-container-id-1 div.sk-serial::before {content: \"\";position: absolute;border-left: 1px solid gray;box-sizing: border-box;top: 0;bottom: 0;left: 50%;z-index: 0;}#sk-container-id-1 div.sk-serial {display: flex;flex-direction: column;align-items: center;background-color: white;padding-right: 0.2em;padding-left: 0.2em;position: relative;}#sk-container-id-1 div.sk-item {position: relative;z-index: 1;}#sk-container-id-1 div.sk-parallel {display: flex;align-items: stretch;justify-content: center;background-color: white;position: relative;}#sk-container-id-1 div.sk-item::before, #sk-container-id-1 div.sk-parallel-item::before {content: \"\";position: absolute;border-left: 1px solid gray;box-sizing: border-box;top: 0;bottom: 0;left: 50%;z-index: -1;}#sk-container-id-1 div.sk-parallel-item {display: flex;flex-direction: column;z-index: 1;position: relative;background-color: white;}#sk-container-id-1 div.sk-parallel-item:first-child::after {align-self: flex-end;width: 50%;}#sk-container-id-1 div.sk-parallel-item:last-child::after {align-self: flex-start;width: 50%;}#sk-container-id-1 div.sk-parallel-item:only-child::after {width: 0;}#sk-container-id-1 div.sk-dashed-wrapped {border: 1px dashed gray;margin: 0 0.4em 0.5em 0.4em;box-sizing: border-box;padding-bottom: 0.4em;background-color: white;}#sk-container-id-1 div.sk-label label {font-family: monospace;font-weight: bold;display: inline-block;line-height: 1.2em;}#sk-container-id-1 div.sk-label-container {text-align: center;}#sk-container-id-1 div.sk-container {/* jupyter's `normalize.less` sets `[hidden] { display: none; }` but bootstrap.min.css set `[hidden] { display: none !important; }` so we also need the `!important` here to be able to override the default hidden behavior on the sphinx rendered scikit-learn.org. See: https://github.com/scikit-learn/scikit-learn/issues/21755 */display: inline-block !important;position: relative;}#sk-container-id-1 div.sk-text-repr-fallback {display: none;}</style><div id=\"sk-container-id-1\" class=\"sk-top-container\"><div class=\"sk-text-repr-fallback\"><pre>RandomForestClassifier()</pre><b>In a Jupyter environment, please rerun this cell to show the HTML representation or trust the notebook. <br />On GitHub, the HTML representation is unable to render, please try loading this page with nbviewer.org.</b></div><div class=\"sk-container\" hidden><div class=\"sk-item\"><div class=\"sk-estimator sk-toggleable\"><input class=\"sk-toggleable__control sk-hidden--visually\" id=\"sk-estimator-id-1\" type=\"checkbox\" checked><label for=\"sk-estimator-id-1\" class=\"sk-toggleable__label sk-toggleable__label-arrow\">RandomForestClassifier</label><div class=\"sk-toggleable__content\"><pre>RandomForestClassifier()</pre></div></div></div></div></div>"
      ],
      "text/plain": [
       "RandomForestClassifier()"
      ]
     },
     "execution_count": 20,
     "metadata": {},
     "output_type": "execute_result"
    }
   ],
   "source": [
    "model_RFC = RandomForestClassifier()\n",
    "model_RFC.fit(X_train,y_train)"
   ]
  },
  {
   "cell_type": "code",
   "execution_count": 21,
   "id": "6d272103",
   "metadata": {},
   "outputs": [
    {
     "name": "stdout",
     "output_type": "stream",
     "text": [
      "              precision    recall  f1-score   support\n",
      "\n",
      "         0.0       0.64      0.66      0.65     74416\n",
      "         1.0       0.65      0.62      0.63     74416\n",
      "\n",
      "    accuracy                           0.64    148832\n",
      "   macro avg       0.64      0.64      0.64    148832\n",
      "weighted avg       0.64      0.64      0.64    148832\n",
      "\n"
     ]
    }
   ],
   "source": [
    "res = model_RFC.predict(X_test)\n",
    "print(classification_report(y_test,res))"
   ]
  },
  {
   "cell_type": "code",
   "execution_count": 22,
   "id": "fc1463b1",
   "metadata": {},
   "outputs": [
    {
     "data": {
      "text/plain": [
       "0.64104493657278"
      ]
     },
     "execution_count": 22,
     "metadata": {},
     "output_type": "execute_result"
    }
   ],
   "source": [
    "model_RFC.score(X_test,y_test)"
   ]
  },
  {
   "cell_type": "markdown",
   "id": "343a8d61",
   "metadata": {},
   "source": [
    "# Logistic regression with undersampling"
   ]
  },
  {
   "cell_type": "code",
   "execution_count": 23,
   "id": "2523d21c",
   "metadata": {},
   "outputs": [
    {
     "data": {
      "text/html": [
       "<style>#sk-container-id-2 {color: black;background-color: white;}#sk-container-id-2 pre{padding: 0;}#sk-container-id-2 div.sk-toggleable {background-color: white;}#sk-container-id-2 label.sk-toggleable__label {cursor: pointer;display: block;width: 100%;margin-bottom: 0;padding: 0.3em;box-sizing: border-box;text-align: center;}#sk-container-id-2 label.sk-toggleable__label-arrow:before {content: \"▸\";float: left;margin-right: 0.25em;color: #696969;}#sk-container-id-2 label.sk-toggleable__label-arrow:hover:before {color: black;}#sk-container-id-2 div.sk-estimator:hover label.sk-toggleable__label-arrow:before {color: black;}#sk-container-id-2 div.sk-toggleable__content {max-height: 0;max-width: 0;overflow: hidden;text-align: left;background-color: #f0f8ff;}#sk-container-id-2 div.sk-toggleable__content pre {margin: 0.2em;color: black;border-radius: 0.25em;background-color: #f0f8ff;}#sk-container-id-2 input.sk-toggleable__control:checked~div.sk-toggleable__content {max-height: 200px;max-width: 100%;overflow: auto;}#sk-container-id-2 input.sk-toggleable__control:checked~label.sk-toggleable__label-arrow:before {content: \"▾\";}#sk-container-id-2 div.sk-estimator input.sk-toggleable__control:checked~label.sk-toggleable__label {background-color: #d4ebff;}#sk-container-id-2 div.sk-label input.sk-toggleable__control:checked~label.sk-toggleable__label {background-color: #d4ebff;}#sk-container-id-2 input.sk-hidden--visually {border: 0;clip: rect(1px 1px 1px 1px);clip: rect(1px, 1px, 1px, 1px);height: 1px;margin: -1px;overflow: hidden;padding: 0;position: absolute;width: 1px;}#sk-container-id-2 div.sk-estimator {font-family: monospace;background-color: #f0f8ff;border: 1px dotted black;border-radius: 0.25em;box-sizing: border-box;margin-bottom: 0.5em;}#sk-container-id-2 div.sk-estimator:hover {background-color: #d4ebff;}#sk-container-id-2 div.sk-parallel-item::after {content: \"\";width: 100%;border-bottom: 1px solid gray;flex-grow: 1;}#sk-container-id-2 div.sk-label:hover label.sk-toggleable__label {background-color: #d4ebff;}#sk-container-id-2 div.sk-serial::before {content: \"\";position: absolute;border-left: 1px solid gray;box-sizing: border-box;top: 0;bottom: 0;left: 50%;z-index: 0;}#sk-container-id-2 div.sk-serial {display: flex;flex-direction: column;align-items: center;background-color: white;padding-right: 0.2em;padding-left: 0.2em;position: relative;}#sk-container-id-2 div.sk-item {position: relative;z-index: 1;}#sk-container-id-2 div.sk-parallel {display: flex;align-items: stretch;justify-content: center;background-color: white;position: relative;}#sk-container-id-2 div.sk-item::before, #sk-container-id-2 div.sk-parallel-item::before {content: \"\";position: absolute;border-left: 1px solid gray;box-sizing: border-box;top: 0;bottom: 0;left: 50%;z-index: -1;}#sk-container-id-2 div.sk-parallel-item {display: flex;flex-direction: column;z-index: 1;position: relative;background-color: white;}#sk-container-id-2 div.sk-parallel-item:first-child::after {align-self: flex-end;width: 50%;}#sk-container-id-2 div.sk-parallel-item:last-child::after {align-self: flex-start;width: 50%;}#sk-container-id-2 div.sk-parallel-item:only-child::after {width: 0;}#sk-container-id-2 div.sk-dashed-wrapped {border: 1px dashed gray;margin: 0 0.4em 0.5em 0.4em;box-sizing: border-box;padding-bottom: 0.4em;background-color: white;}#sk-container-id-2 div.sk-label label {font-family: monospace;font-weight: bold;display: inline-block;line-height: 1.2em;}#sk-container-id-2 div.sk-label-container {text-align: center;}#sk-container-id-2 div.sk-container {/* jupyter's `normalize.less` sets `[hidden] { display: none; }` but bootstrap.min.css set `[hidden] { display: none !important; }` so we also need the `!important` here to be able to override the default hidden behavior on the sphinx rendered scikit-learn.org. See: https://github.com/scikit-learn/scikit-learn/issues/21755 */display: inline-block !important;position: relative;}#sk-container-id-2 div.sk-text-repr-fallback {display: none;}</style><div id=\"sk-container-id-2\" class=\"sk-top-container\"><div class=\"sk-text-repr-fallback\"><pre>LogisticRegression(max_iter=3000)</pre><b>In a Jupyter environment, please rerun this cell to show the HTML representation or trust the notebook. <br />On GitHub, the HTML representation is unable to render, please try loading this page with nbviewer.org.</b></div><div class=\"sk-container\" hidden><div class=\"sk-item\"><div class=\"sk-estimator sk-toggleable\"><input class=\"sk-toggleable__control sk-hidden--visually\" id=\"sk-estimator-id-2\" type=\"checkbox\" checked><label for=\"sk-estimator-id-2\" class=\"sk-toggleable__label sk-toggleable__label-arrow\">LogisticRegression</label><div class=\"sk-toggleable__content\"><pre>LogisticRegression(max_iter=3000)</pre></div></div></div></div></div>"
      ],
      "text/plain": [
       "LogisticRegression(max_iter=3000)"
      ]
     },
     "execution_count": 23,
     "metadata": {},
     "output_type": "execute_result"
    }
   ],
   "source": [
    "model_LR = LogisticRegression(solver='lbfgs', max_iter=3000)\n",
    "model_LR.fit(X_train,y_train)"
   ]
  },
  {
   "cell_type": "code",
   "execution_count": 24,
   "id": "d9289a1c",
   "metadata": {},
   "outputs": [
    {
     "data": {
      "text/plain": [
       "0.5956514728015481"
      ]
     },
     "execution_count": 24,
     "metadata": {},
     "output_type": "execute_result"
    }
   ],
   "source": [
    "res = model_LR.predict(X_test)\n",
    "model_LR.score(X_test,y_test)"
   ]
  },
  {
   "cell_type": "code",
   "execution_count": 25,
   "id": "fceecb8e",
   "metadata": {},
   "outputs": [
    {
     "name": "stdout",
     "output_type": "stream",
     "text": [
      "              precision    recall  f1-score   support\n",
      "\n",
      "         0.0       0.60      0.58      0.59     74416\n",
      "         1.0       0.59      0.61      0.60     74416\n",
      "\n",
      "    accuracy                           0.60    148832\n",
      "   macro avg       0.60      0.60      0.60    148832\n",
      "weighted avg       0.60      0.60      0.60    148832\n",
      "\n"
     ]
    }
   ],
   "source": [
    "print(classification_report(y_test,res))"
   ]
  },
  {
   "cell_type": "markdown",
   "id": "79f03976",
   "metadata": {},
   "source": [
    "# DecisionTreeClassifier with undersampling"
   ]
  },
  {
   "cell_type": "code",
   "execution_count": 26,
   "id": "bda760c0",
   "metadata": {},
   "outputs": [
    {
     "data": {
      "text/html": [
       "<style>#sk-container-id-3 {color: black;background-color: white;}#sk-container-id-3 pre{padding: 0;}#sk-container-id-3 div.sk-toggleable {background-color: white;}#sk-container-id-3 label.sk-toggleable__label {cursor: pointer;display: block;width: 100%;margin-bottom: 0;padding: 0.3em;box-sizing: border-box;text-align: center;}#sk-container-id-3 label.sk-toggleable__label-arrow:before {content: \"▸\";float: left;margin-right: 0.25em;color: #696969;}#sk-container-id-3 label.sk-toggleable__label-arrow:hover:before {color: black;}#sk-container-id-3 div.sk-estimator:hover label.sk-toggleable__label-arrow:before {color: black;}#sk-container-id-3 div.sk-toggleable__content {max-height: 0;max-width: 0;overflow: hidden;text-align: left;background-color: #f0f8ff;}#sk-container-id-3 div.sk-toggleable__content pre {margin: 0.2em;color: black;border-radius: 0.25em;background-color: #f0f8ff;}#sk-container-id-3 input.sk-toggleable__control:checked~div.sk-toggleable__content {max-height: 200px;max-width: 100%;overflow: auto;}#sk-container-id-3 input.sk-toggleable__control:checked~label.sk-toggleable__label-arrow:before {content: \"▾\";}#sk-container-id-3 div.sk-estimator input.sk-toggleable__control:checked~label.sk-toggleable__label {background-color: #d4ebff;}#sk-container-id-3 div.sk-label input.sk-toggleable__control:checked~label.sk-toggleable__label {background-color: #d4ebff;}#sk-container-id-3 input.sk-hidden--visually {border: 0;clip: rect(1px 1px 1px 1px);clip: rect(1px, 1px, 1px, 1px);height: 1px;margin: -1px;overflow: hidden;padding: 0;position: absolute;width: 1px;}#sk-container-id-3 div.sk-estimator {font-family: monospace;background-color: #f0f8ff;border: 1px dotted black;border-radius: 0.25em;box-sizing: border-box;margin-bottom: 0.5em;}#sk-container-id-3 div.sk-estimator:hover {background-color: #d4ebff;}#sk-container-id-3 div.sk-parallel-item::after {content: \"\";width: 100%;border-bottom: 1px solid gray;flex-grow: 1;}#sk-container-id-3 div.sk-label:hover label.sk-toggleable__label {background-color: #d4ebff;}#sk-container-id-3 div.sk-serial::before {content: \"\";position: absolute;border-left: 1px solid gray;box-sizing: border-box;top: 0;bottom: 0;left: 50%;z-index: 0;}#sk-container-id-3 div.sk-serial {display: flex;flex-direction: column;align-items: center;background-color: white;padding-right: 0.2em;padding-left: 0.2em;position: relative;}#sk-container-id-3 div.sk-item {position: relative;z-index: 1;}#sk-container-id-3 div.sk-parallel {display: flex;align-items: stretch;justify-content: center;background-color: white;position: relative;}#sk-container-id-3 div.sk-item::before, #sk-container-id-3 div.sk-parallel-item::before {content: \"\";position: absolute;border-left: 1px solid gray;box-sizing: border-box;top: 0;bottom: 0;left: 50%;z-index: -1;}#sk-container-id-3 div.sk-parallel-item {display: flex;flex-direction: column;z-index: 1;position: relative;background-color: white;}#sk-container-id-3 div.sk-parallel-item:first-child::after {align-self: flex-end;width: 50%;}#sk-container-id-3 div.sk-parallel-item:last-child::after {align-self: flex-start;width: 50%;}#sk-container-id-3 div.sk-parallel-item:only-child::after {width: 0;}#sk-container-id-3 div.sk-dashed-wrapped {border: 1px dashed gray;margin: 0 0.4em 0.5em 0.4em;box-sizing: border-box;padding-bottom: 0.4em;background-color: white;}#sk-container-id-3 div.sk-label label {font-family: monospace;font-weight: bold;display: inline-block;line-height: 1.2em;}#sk-container-id-3 div.sk-label-container {text-align: center;}#sk-container-id-3 div.sk-container {/* jupyter's `normalize.less` sets `[hidden] { display: none; }` but bootstrap.min.css set `[hidden] { display: none !important; }` so we also need the `!important` here to be able to override the default hidden behavior on the sphinx rendered scikit-learn.org. See: https://github.com/scikit-learn/scikit-learn/issues/21755 */display: inline-block !important;position: relative;}#sk-container-id-3 div.sk-text-repr-fallback {display: none;}</style><div id=\"sk-container-id-3\" class=\"sk-top-container\"><div class=\"sk-text-repr-fallback\"><pre>DecisionTreeClassifier()</pre><b>In a Jupyter environment, please rerun this cell to show the HTML representation or trust the notebook. <br />On GitHub, the HTML representation is unable to render, please try loading this page with nbviewer.org.</b></div><div class=\"sk-container\" hidden><div class=\"sk-item\"><div class=\"sk-estimator sk-toggleable\"><input class=\"sk-toggleable__control sk-hidden--visually\" id=\"sk-estimator-id-3\" type=\"checkbox\" checked><label for=\"sk-estimator-id-3\" class=\"sk-toggleable__label sk-toggleable__label-arrow\">DecisionTreeClassifier</label><div class=\"sk-toggleable__content\"><pre>DecisionTreeClassifier()</pre></div></div></div></div></div>"
      ],
      "text/plain": [
       "DecisionTreeClassifier()"
      ]
     },
     "execution_count": 26,
     "metadata": {},
     "output_type": "execute_result"
    }
   ],
   "source": [
    "model_DTC = DecisionTreeClassifier()\n",
    "model_DTC.fit(X_train,y_train)"
   ]
  },
  {
   "cell_type": "code",
   "execution_count": 27,
   "id": "b2dafdc3",
   "metadata": {},
   "outputs": [
    {
     "data": {
      "text/plain": [
       "0.5879112018920662"
      ]
     },
     "execution_count": 27,
     "metadata": {},
     "output_type": "execute_result"
    }
   ],
   "source": [
    "res = model_DTC.predict(X_test)\n",
    "model_DTC.score(X_test,y_test)"
   ]
  },
  {
   "cell_type": "code",
   "execution_count": 28,
   "id": "9171ff08",
   "metadata": {
    "scrolled": true
   },
   "outputs": [
    {
     "name": "stdout",
     "output_type": "stream",
     "text": [
      "              precision    recall  f1-score   support\n",
      "\n",
      "         0.0       0.59      0.59      0.59     74416\n",
      "         1.0       0.59      0.59      0.59     74416\n",
      "\n",
      "    accuracy                           0.59    148832\n",
      "   macro avg       0.59      0.59      0.59    148832\n",
      "weighted avg       0.59      0.59      0.59    148832\n",
      "\n"
     ]
    }
   ],
   "source": [
    "print(classification_report(y_test,res))"
   ]
  },
  {
   "cell_type": "markdown",
   "id": "bb4246e7",
   "metadata": {},
   "source": [
    "# XGBOOST WITH undersampling"
   ]
  },
  {
   "cell_type": "code",
   "execution_count": 29,
   "id": "65d2e01d",
   "metadata": {},
   "outputs": [
    {
     "data": {
      "text/html": [
       "<style>#sk-container-id-4 {color: black;background-color: white;}#sk-container-id-4 pre{padding: 0;}#sk-container-id-4 div.sk-toggleable {background-color: white;}#sk-container-id-4 label.sk-toggleable__label {cursor: pointer;display: block;width: 100%;margin-bottom: 0;padding: 0.3em;box-sizing: border-box;text-align: center;}#sk-container-id-4 label.sk-toggleable__label-arrow:before {content: \"▸\";float: left;margin-right: 0.25em;color: #696969;}#sk-container-id-4 label.sk-toggleable__label-arrow:hover:before {color: black;}#sk-container-id-4 div.sk-estimator:hover label.sk-toggleable__label-arrow:before {color: black;}#sk-container-id-4 div.sk-toggleable__content {max-height: 0;max-width: 0;overflow: hidden;text-align: left;background-color: #f0f8ff;}#sk-container-id-4 div.sk-toggleable__content pre {margin: 0.2em;color: black;border-radius: 0.25em;background-color: #f0f8ff;}#sk-container-id-4 input.sk-toggleable__control:checked~div.sk-toggleable__content {max-height: 200px;max-width: 100%;overflow: auto;}#sk-container-id-4 input.sk-toggleable__control:checked~label.sk-toggleable__label-arrow:before {content: \"▾\";}#sk-container-id-4 div.sk-estimator input.sk-toggleable__control:checked~label.sk-toggleable__label {background-color: #d4ebff;}#sk-container-id-4 div.sk-label input.sk-toggleable__control:checked~label.sk-toggleable__label {background-color: #d4ebff;}#sk-container-id-4 input.sk-hidden--visually {border: 0;clip: rect(1px 1px 1px 1px);clip: rect(1px, 1px, 1px, 1px);height: 1px;margin: -1px;overflow: hidden;padding: 0;position: absolute;width: 1px;}#sk-container-id-4 div.sk-estimator {font-family: monospace;background-color: #f0f8ff;border: 1px dotted black;border-radius: 0.25em;box-sizing: border-box;margin-bottom: 0.5em;}#sk-container-id-4 div.sk-estimator:hover {background-color: #d4ebff;}#sk-container-id-4 div.sk-parallel-item::after {content: \"\";width: 100%;border-bottom: 1px solid gray;flex-grow: 1;}#sk-container-id-4 div.sk-label:hover label.sk-toggleable__label {background-color: #d4ebff;}#sk-container-id-4 div.sk-serial::before {content: \"\";position: absolute;border-left: 1px solid gray;box-sizing: border-box;top: 0;bottom: 0;left: 50%;z-index: 0;}#sk-container-id-4 div.sk-serial {display: flex;flex-direction: column;align-items: center;background-color: white;padding-right: 0.2em;padding-left: 0.2em;position: relative;}#sk-container-id-4 div.sk-item {position: relative;z-index: 1;}#sk-container-id-4 div.sk-parallel {display: flex;align-items: stretch;justify-content: center;background-color: white;position: relative;}#sk-container-id-4 div.sk-item::before, #sk-container-id-4 div.sk-parallel-item::before {content: \"\";position: absolute;border-left: 1px solid gray;box-sizing: border-box;top: 0;bottom: 0;left: 50%;z-index: -1;}#sk-container-id-4 div.sk-parallel-item {display: flex;flex-direction: column;z-index: 1;position: relative;background-color: white;}#sk-container-id-4 div.sk-parallel-item:first-child::after {align-self: flex-end;width: 50%;}#sk-container-id-4 div.sk-parallel-item:last-child::after {align-self: flex-start;width: 50%;}#sk-container-id-4 div.sk-parallel-item:only-child::after {width: 0;}#sk-container-id-4 div.sk-dashed-wrapped {border: 1px dashed gray;margin: 0 0.4em 0.5em 0.4em;box-sizing: border-box;padding-bottom: 0.4em;background-color: white;}#sk-container-id-4 div.sk-label label {font-family: monospace;font-weight: bold;display: inline-block;line-height: 1.2em;}#sk-container-id-4 div.sk-label-container {text-align: center;}#sk-container-id-4 div.sk-container {/* jupyter's `normalize.less` sets `[hidden] { display: none; }` but bootstrap.min.css set `[hidden] { display: none !important; }` so we also need the `!important` here to be able to override the default hidden behavior on the sphinx rendered scikit-learn.org. See: https://github.com/scikit-learn/scikit-learn/issues/21755 */display: inline-block !important;position: relative;}#sk-container-id-4 div.sk-text-repr-fallback {display: none;}</style><div id=\"sk-container-id-4\" class=\"sk-top-container\"><div class=\"sk-text-repr-fallback\"><pre>XGBClassifier(base_score=None, booster=None, callbacks=None,\n",
       "              colsample_bylevel=None, colsample_bynode=None,\n",
       "              colsample_bytree=None, early_stopping_rounds=None,\n",
       "              enable_categorical=False, eval_metric=None, feature_types=None,\n",
       "              gamma=None, gpu_id=None, grow_policy=None, importance_type=None,\n",
       "              interaction_constraints=None, learning_rate=None, max_bin=None,\n",
       "              max_cat_threshold=None, max_cat_to_onehot=None,\n",
       "              max_delta_step=None, max_depth=None, max_leaves=None,\n",
       "              min_child_weight=None, missing=nan, monotone_constraints=None,\n",
       "              n_estimators=150, n_jobs=None, num_parallel_tree=None,\n",
       "              predictor=None, random_state=None, ...)</pre><b>In a Jupyter environment, please rerun this cell to show the HTML representation or trust the notebook. <br />On GitHub, the HTML representation is unable to render, please try loading this page with nbviewer.org.</b></div><div class=\"sk-container\" hidden><div class=\"sk-item\"><div class=\"sk-estimator sk-toggleable\"><input class=\"sk-toggleable__control sk-hidden--visually\" id=\"sk-estimator-id-4\" type=\"checkbox\" checked><label for=\"sk-estimator-id-4\" class=\"sk-toggleable__label sk-toggleable__label-arrow\">XGBClassifier</label><div class=\"sk-toggleable__content\"><pre>XGBClassifier(base_score=None, booster=None, callbacks=None,\n",
       "              colsample_bylevel=None, colsample_bynode=None,\n",
       "              colsample_bytree=None, early_stopping_rounds=None,\n",
       "              enable_categorical=False, eval_metric=None, feature_types=None,\n",
       "              gamma=None, gpu_id=None, grow_policy=None, importance_type=None,\n",
       "              interaction_constraints=None, learning_rate=None, max_bin=None,\n",
       "              max_cat_threshold=None, max_cat_to_onehot=None,\n",
       "              max_delta_step=None, max_depth=None, max_leaves=None,\n",
       "              min_child_weight=None, missing=nan, monotone_constraints=None,\n",
       "              n_estimators=150, n_jobs=None, num_parallel_tree=None,\n",
       "              predictor=None, random_state=None, ...)</pre></div></div></div></div></div>"
      ],
      "text/plain": [
       "XGBClassifier(base_score=None, booster=None, callbacks=None,\n",
       "              colsample_bylevel=None, colsample_bynode=None,\n",
       "              colsample_bytree=None, early_stopping_rounds=None,\n",
       "              enable_categorical=False, eval_metric=None, feature_types=None,\n",
       "              gamma=None, gpu_id=None, grow_policy=None, importance_type=None,\n",
       "              interaction_constraints=None, learning_rate=None, max_bin=None,\n",
       "              max_cat_threshold=None, max_cat_to_onehot=None,\n",
       "              max_delta_step=None, max_depth=None, max_leaves=None,\n",
       "              min_child_weight=None, missing=nan, monotone_constraints=None,\n",
       "              n_estimators=150, n_jobs=None, num_parallel_tree=None,\n",
       "              predictor=None, random_state=None, ...)"
      ]
     },
     "execution_count": 29,
     "metadata": {},
     "output_type": "execute_result"
    }
   ],
   "source": [
    "model_XG = XGBClassifier(n_estimators=150)\n",
    "model_XG.fit(X_train,y_train)"
   ]
  },
  {
   "cell_type": "code",
   "execution_count": 30,
   "id": "a1f28a50",
   "metadata": {},
   "outputs": [
    {
     "name": "stdout",
     "output_type": "stream",
     "text": [
      "              precision    recall  f1-score   support\n",
      "\n",
      "         0.0       0.66      0.66      0.66     74416\n",
      "         1.0       0.66      0.66      0.66     74416\n",
      "\n",
      "    accuracy                           0.66    148832\n",
      "   macro avg       0.66      0.66      0.66    148832\n",
      "weighted avg       0.66      0.66      0.66    148832\n",
      "\n"
     ]
    }
   ],
   "source": [
    "res = model_XG.predict(X_test)\n",
    "print(classification_report(y_test,res))"
   ]
  },
  {
   "cell_type": "code",
   "execution_count": 31,
   "id": "13610dae",
   "metadata": {},
   "outputs": [
    {
     "data": {
      "text/plain": [
       "0.6582791335196732"
      ]
     },
     "execution_count": 31,
     "metadata": {},
     "output_type": "execute_result"
    }
   ],
   "source": [
    "model_XG.score(X_test,y_test)"
   ]
  },
  {
   "cell_type": "markdown",
   "id": "face02e1",
   "metadata": {},
   "source": [
    "# ExtraTreesClassifier with undersampling"
   ]
  },
  {
   "cell_type": "code",
   "execution_count": 32,
   "id": "cc61098d",
   "metadata": {},
   "outputs": [
    {
     "data": {
      "text/html": [
       "<style>#sk-container-id-5 {color: black;background-color: white;}#sk-container-id-5 pre{padding: 0;}#sk-container-id-5 div.sk-toggleable {background-color: white;}#sk-container-id-5 label.sk-toggleable__label {cursor: pointer;display: block;width: 100%;margin-bottom: 0;padding: 0.3em;box-sizing: border-box;text-align: center;}#sk-container-id-5 label.sk-toggleable__label-arrow:before {content: \"▸\";float: left;margin-right: 0.25em;color: #696969;}#sk-container-id-5 label.sk-toggleable__label-arrow:hover:before {color: black;}#sk-container-id-5 div.sk-estimator:hover label.sk-toggleable__label-arrow:before {color: black;}#sk-container-id-5 div.sk-toggleable__content {max-height: 0;max-width: 0;overflow: hidden;text-align: left;background-color: #f0f8ff;}#sk-container-id-5 div.sk-toggleable__content pre {margin: 0.2em;color: black;border-radius: 0.25em;background-color: #f0f8ff;}#sk-container-id-5 input.sk-toggleable__control:checked~div.sk-toggleable__content {max-height: 200px;max-width: 100%;overflow: auto;}#sk-container-id-5 input.sk-toggleable__control:checked~label.sk-toggleable__label-arrow:before {content: \"▾\";}#sk-container-id-5 div.sk-estimator input.sk-toggleable__control:checked~label.sk-toggleable__label {background-color: #d4ebff;}#sk-container-id-5 div.sk-label input.sk-toggleable__control:checked~label.sk-toggleable__label {background-color: #d4ebff;}#sk-container-id-5 input.sk-hidden--visually {border: 0;clip: rect(1px 1px 1px 1px);clip: rect(1px, 1px, 1px, 1px);height: 1px;margin: -1px;overflow: hidden;padding: 0;position: absolute;width: 1px;}#sk-container-id-5 div.sk-estimator {font-family: monospace;background-color: #f0f8ff;border: 1px dotted black;border-radius: 0.25em;box-sizing: border-box;margin-bottom: 0.5em;}#sk-container-id-5 div.sk-estimator:hover {background-color: #d4ebff;}#sk-container-id-5 div.sk-parallel-item::after {content: \"\";width: 100%;border-bottom: 1px solid gray;flex-grow: 1;}#sk-container-id-5 div.sk-label:hover label.sk-toggleable__label {background-color: #d4ebff;}#sk-container-id-5 div.sk-serial::before {content: \"\";position: absolute;border-left: 1px solid gray;box-sizing: border-box;top: 0;bottom: 0;left: 50%;z-index: 0;}#sk-container-id-5 div.sk-serial {display: flex;flex-direction: column;align-items: center;background-color: white;padding-right: 0.2em;padding-left: 0.2em;position: relative;}#sk-container-id-5 div.sk-item {position: relative;z-index: 1;}#sk-container-id-5 div.sk-parallel {display: flex;align-items: stretch;justify-content: center;background-color: white;position: relative;}#sk-container-id-5 div.sk-item::before, #sk-container-id-5 div.sk-parallel-item::before {content: \"\";position: absolute;border-left: 1px solid gray;box-sizing: border-box;top: 0;bottom: 0;left: 50%;z-index: -1;}#sk-container-id-5 div.sk-parallel-item {display: flex;flex-direction: column;z-index: 1;position: relative;background-color: white;}#sk-container-id-5 div.sk-parallel-item:first-child::after {align-self: flex-end;width: 50%;}#sk-container-id-5 div.sk-parallel-item:last-child::after {align-self: flex-start;width: 50%;}#sk-container-id-5 div.sk-parallel-item:only-child::after {width: 0;}#sk-container-id-5 div.sk-dashed-wrapped {border: 1px dashed gray;margin: 0 0.4em 0.5em 0.4em;box-sizing: border-box;padding-bottom: 0.4em;background-color: white;}#sk-container-id-5 div.sk-label label {font-family: monospace;font-weight: bold;display: inline-block;line-height: 1.2em;}#sk-container-id-5 div.sk-label-container {text-align: center;}#sk-container-id-5 div.sk-container {/* jupyter's `normalize.less` sets `[hidden] { display: none; }` but bootstrap.min.css set `[hidden] { display: none !important; }` so we also need the `!important` here to be able to override the default hidden behavior on the sphinx rendered scikit-learn.org. See: https://github.com/scikit-learn/scikit-learn/issues/21755 */display: inline-block !important;position: relative;}#sk-container-id-5 div.sk-text-repr-fallback {display: none;}</style><div id=\"sk-container-id-5\" class=\"sk-top-container\"><div class=\"sk-text-repr-fallback\"><pre>ExtraTreesClassifier()</pre><b>In a Jupyter environment, please rerun this cell to show the HTML representation or trust the notebook. <br />On GitHub, the HTML representation is unable to render, please try loading this page with nbviewer.org.</b></div><div class=\"sk-container\" hidden><div class=\"sk-item\"><div class=\"sk-estimator sk-toggleable\"><input class=\"sk-toggleable__control sk-hidden--visually\" id=\"sk-estimator-id-5\" type=\"checkbox\" checked><label for=\"sk-estimator-id-5\" class=\"sk-toggleable__label sk-toggleable__label-arrow\">ExtraTreesClassifier</label><div class=\"sk-toggleable__content\"><pre>ExtraTreesClassifier()</pre></div></div></div></div></div>"
      ],
      "text/plain": [
       "ExtraTreesClassifier()"
      ]
     },
     "execution_count": 32,
     "metadata": {},
     "output_type": "execute_result"
    }
   ],
   "source": [
    "model_ETC = ExtraTreesClassifier()\n",
    "model_ETC.fit(X_train,y_train)"
   ]
  },
  {
   "cell_type": "code",
   "execution_count": 33,
   "id": "2e231712",
   "metadata": {},
   "outputs": [
    {
     "name": "stdout",
     "output_type": "stream",
     "text": [
      "              precision    recall  f1-score   support\n",
      "\n",
      "         0.0       0.62      0.65      0.64     74416\n",
      "         1.0       0.63      0.61      0.62     74416\n",
      "\n",
      "    accuracy                           0.63    148832\n",
      "   macro avg       0.63      0.63      0.63    148832\n",
      "weighted avg       0.63      0.63      0.63    148832\n",
      "\n"
     ]
    }
   ],
   "source": [
    "res = model_ETC.predict(X_test)\n",
    "print(classification_report(y_test,res))"
   ]
  },
  {
   "cell_type": "code",
   "execution_count": 34,
   "id": "66548610",
   "metadata": {},
   "outputs": [
    {
     "data": {
      "text/plain": [
       "0.627627123199312"
      ]
     },
     "execution_count": 34,
     "metadata": {},
     "output_type": "execute_result"
    }
   ],
   "source": [
    "model_ETC.score(X_test,y_test)"
   ]
  },
  {
   "cell_type": "markdown",
   "id": "f8c4db0f",
   "metadata": {},
   "source": [
    "# Best model - RandomForest with SMOTE"
   ]
  },
  {
   "cell_type": "code",
   "execution_count": 159,
   "id": "40753d70",
   "metadata": {},
   "outputs": [],
   "source": [
    "df2 = pd.read_csv('./Weather dataset/final_merged.csv')\n",
    "df2 = df2.drop(['Unnamed: 0'] , axis=1)"
   ]
  },
  {
   "cell_type": "code",
   "execution_count": 160,
   "id": "851b1224",
   "metadata": {},
   "outputs": [
    {
     "data": {
      "text/html": [
       "<style>#sk-container-id-3 {color: black;background-color: white;}#sk-container-id-3 pre{padding: 0;}#sk-container-id-3 div.sk-toggleable {background-color: white;}#sk-container-id-3 label.sk-toggleable__label {cursor: pointer;display: block;width: 100%;margin-bottom: 0;padding: 0.3em;box-sizing: border-box;text-align: center;}#sk-container-id-3 label.sk-toggleable__label-arrow:before {content: \"▸\";float: left;margin-right: 0.25em;color: #696969;}#sk-container-id-3 label.sk-toggleable__label-arrow:hover:before {color: black;}#sk-container-id-3 div.sk-estimator:hover label.sk-toggleable__label-arrow:before {color: black;}#sk-container-id-3 div.sk-toggleable__content {max-height: 0;max-width: 0;overflow: hidden;text-align: left;background-color: #f0f8ff;}#sk-container-id-3 div.sk-toggleable__content pre {margin: 0.2em;color: black;border-radius: 0.25em;background-color: #f0f8ff;}#sk-container-id-3 input.sk-toggleable__control:checked~div.sk-toggleable__content {max-height: 200px;max-width: 100%;overflow: auto;}#sk-container-id-3 input.sk-toggleable__control:checked~label.sk-toggleable__label-arrow:before {content: \"▾\";}#sk-container-id-3 div.sk-estimator input.sk-toggleable__control:checked~label.sk-toggleable__label {background-color: #d4ebff;}#sk-container-id-3 div.sk-label input.sk-toggleable__control:checked~label.sk-toggleable__label {background-color: #d4ebff;}#sk-container-id-3 input.sk-hidden--visually {border: 0;clip: rect(1px 1px 1px 1px);clip: rect(1px, 1px, 1px, 1px);height: 1px;margin: -1px;overflow: hidden;padding: 0;position: absolute;width: 1px;}#sk-container-id-3 div.sk-estimator {font-family: monospace;background-color: #f0f8ff;border: 1px dotted black;border-radius: 0.25em;box-sizing: border-box;margin-bottom: 0.5em;}#sk-container-id-3 div.sk-estimator:hover {background-color: #d4ebff;}#sk-container-id-3 div.sk-parallel-item::after {content: \"\";width: 100%;border-bottom: 1px solid gray;flex-grow: 1;}#sk-container-id-3 div.sk-label:hover label.sk-toggleable__label {background-color: #d4ebff;}#sk-container-id-3 div.sk-serial::before {content: \"\";position: absolute;border-left: 1px solid gray;box-sizing: border-box;top: 0;bottom: 0;left: 50%;z-index: 0;}#sk-container-id-3 div.sk-serial {display: flex;flex-direction: column;align-items: center;background-color: white;padding-right: 0.2em;padding-left: 0.2em;position: relative;}#sk-container-id-3 div.sk-item {position: relative;z-index: 1;}#sk-container-id-3 div.sk-parallel {display: flex;align-items: stretch;justify-content: center;background-color: white;position: relative;}#sk-container-id-3 div.sk-item::before, #sk-container-id-3 div.sk-parallel-item::before {content: \"\";position: absolute;border-left: 1px solid gray;box-sizing: border-box;top: 0;bottom: 0;left: 50%;z-index: -1;}#sk-container-id-3 div.sk-parallel-item {display: flex;flex-direction: column;z-index: 1;position: relative;background-color: white;}#sk-container-id-3 div.sk-parallel-item:first-child::after {align-self: flex-end;width: 50%;}#sk-container-id-3 div.sk-parallel-item:last-child::after {align-self: flex-start;width: 50%;}#sk-container-id-3 div.sk-parallel-item:only-child::after {width: 0;}#sk-container-id-3 div.sk-dashed-wrapped {border: 1px dashed gray;margin: 0 0.4em 0.5em 0.4em;box-sizing: border-box;padding-bottom: 0.4em;background-color: white;}#sk-container-id-3 div.sk-label label {font-family: monospace;font-weight: bold;display: inline-block;line-height: 1.2em;}#sk-container-id-3 div.sk-label-container {text-align: center;}#sk-container-id-3 div.sk-container {/* jupyter's `normalize.less` sets `[hidden] { display: none; }` but bootstrap.min.css set `[hidden] { display: none !important; }` so we also need the `!important` here to be able to override the default hidden behavior on the sphinx rendered scikit-learn.org. See: https://github.com/scikit-learn/scikit-learn/issues/21755 */display: inline-block !important;position: relative;}#sk-container-id-3 div.sk-text-repr-fallback {display: none;}</style><div id=\"sk-container-id-3\" class=\"sk-top-container\"><div class=\"sk-text-repr-fallback\"><pre>RandomForestClassifier()</pre><b>In a Jupyter environment, please rerun this cell to show the HTML representation or trust the notebook. <br />On GitHub, the HTML representation is unable to render, please try loading this page with nbviewer.org.</b></div><div class=\"sk-container\" hidden><div class=\"sk-item\"><div class=\"sk-estimator sk-toggleable\"><input class=\"sk-toggleable__control sk-hidden--visually\" id=\"sk-estimator-id-3\" type=\"checkbox\" checked><label for=\"sk-estimator-id-3\" class=\"sk-toggleable__label sk-toggleable__label-arrow\">RandomForestClassifier</label><div class=\"sk-toggleable__content\"><pre>RandomForestClassifier()</pre></div></div></div></div></div>"
      ],
      "text/plain": [
       "RandomForestClassifier()"
      ]
     },
     "execution_count": 160,
     "metadata": {},
     "output_type": "execute_result"
    }
   ],
   "source": [
    "model_RFC = RandomForestClassifier()\n",
    "model_RFC.fit(X_train,y_train)"
   ]
  },
  {
   "cell_type": "code",
   "execution_count": 161,
   "id": "4b6f0bc9",
   "metadata": {},
   "outputs": [
    {
     "data": {
      "text/plain": [
       "array([0., 0., 0., ..., 1., 1., 1.])"
      ]
     },
     "execution_count": 161,
     "metadata": {},
     "output_type": "execute_result"
    }
   ],
   "source": [
    "res = model_RFC.predict(X)\n",
    "res"
   ]
  },
  {
   "cell_type": "code",
   "execution_count": 162,
   "id": "8b0edbaa",
   "metadata": {},
   "outputs": [
    {
     "name": "stdout",
     "output_type": "stream",
     "text": [
      "              precision    recall  f1-score   support\n",
      "\n",
      "         0.0       0.97      0.98      0.97   1479357\n",
      "         1.0       0.98      0.97      0.97   1479357\n",
      "\n",
      "    accuracy                           0.97   2958714\n",
      "   macro avg       0.97      0.97      0.97   2958714\n",
      "weighted avg       0.97      0.97      0.97   2958714\n",
      "\n"
     ]
    }
   ],
   "source": [
    "print(classification_report(y,res))"
   ]
  },
  {
   "cell_type": "code",
   "execution_count": 163,
   "id": "40461f98",
   "metadata": {},
   "outputs": [],
   "source": [
    "X['depDel'] = res"
   ]
  },
  {
   "cell_type": "code",
   "execution_count": 164,
   "id": "3ee987a0",
   "metadata": {},
   "outputs": [],
   "source": [
    "df3 = X[X['depDel']==1]"
   ]
  },
  {
   "cell_type": "code",
   "execution_count": 165,
   "id": "6da70bcc",
   "metadata": {},
   "outputs": [
    {
     "data": {
      "text/plain": [
       "Index(['Year', 'Quarter', 'Month', 'DayofMonth', 'FlightDate',\n",
       "       'OriginAirportID', 'Origin', 'DestAirportID', 'Dest', 'CRSDepTime',\n",
       "       'DepTime', 'DepDelayMinutes', 'DepDel15', 'CRSArrTime', 'ArrTime',\n",
       "       'ArrDelayMinutes', 'ArrDel15', 'time', 'windspeedKmph', 'DewPointF',\n",
       "       'cloudcover', 'precipMM', 'pressure', 'WindGustKmph', 'visibility',\n",
       "       'weatherCode', 'tempF', 'WindChillF', 'winddirDegree', 'humidity',\n",
       "       'date', 'airport'],\n",
       "      dtype='object')"
      ]
     },
     "execution_count": 165,
     "metadata": {},
     "output_type": "execute_result"
    }
   ],
   "source": [
    "df2.columns"
   ]
  },
  {
   "cell_type": "code",
   "execution_count": 243,
   "id": "a62075df",
   "metadata": {},
   "outputs": [],
   "source": [
    "df4 = pd.merge(df3,df2[['DepDelayMinutes']], left_index=True, right_index=True)"
   ]
  },
  {
   "cell_type": "code",
   "execution_count": 244,
   "id": "4d1c4d8c",
   "metadata": {},
   "outputs": [],
   "source": [
    "df4=df4.dropna()"
   ]
  },
  {
   "cell_type": "code",
   "execution_count": 245,
   "id": "3332944e",
   "metadata": {},
   "outputs": [
    {
     "data": {
      "text/plain": [
       "array([[1.        , 0.72727273, 0.8       , ..., 0.89690722, 0.        ,\n",
       "        0.06828628],\n",
       "       [1.        , 0.72727273, 0.8       , ..., 0.6185567 , 0.        ,\n",
       "        0.01313198],\n",
       "       [1.        , 0.72727273, 0.8       , ..., 0.2371134 , 0.        ,\n",
       "        0.01641497],\n",
       "       ...,\n",
       "       [0.        , 0.27272727, 0.06666667, ..., 0.72164948, 0.        ,\n",
       "        0.03808273],\n",
       "       [0.        , 0.54545455, 0.7       , ..., 0.16494845, 0.        ,\n",
       "        0.04858831],\n",
       "       [0.        , 0.81818182, 0.7       , ..., 0.43298969, 0.        ,\n",
       "        0.        ]])"
      ]
     },
     "execution_count": 245,
     "metadata": {},
     "output_type": "execute_result"
    }
   ],
   "source": [
    "from sklearn.preprocessing import MinMaxScaler\n",
    "scl  = MinMaxScaler()\n",
    "temp = scl.fit_transform(df4)\n",
    "temp"
   ]
  },
  {
   "cell_type": "code",
   "execution_count": 246,
   "id": "df5cba4a",
   "metadata": {},
   "outputs": [],
   "source": [
    "X = df4.drop(['DepDelayMinutes'],axis=1)\n",
    "y = df4['DepDelayMinutes']"
   ]
  },
  {
   "cell_type": "code",
   "execution_count": 247,
   "id": "4b18070f",
   "metadata": {},
   "outputs": [
    {
     "data": {
      "text/plain": [
       "0"
      ]
     },
     "execution_count": 247,
     "metadata": {},
     "output_type": "execute_result"
    }
   ],
   "source": [
    "y.isnull().sum()"
   ]
  },
  {
   "cell_type": "markdown",
   "id": "5e494a7c",
   "metadata": {},
   "source": [
    "# Linear regression"
   ]
  },
  {
   "cell_type": "code",
   "execution_count": 248,
   "id": "59f72434",
   "metadata": {},
   "outputs": [],
   "source": [
    "X_train,X_test,y_train,y_test = train_test_split(X,y,test_size=0.2,random_state=10)"
   ]
  },
  {
   "cell_type": "code",
   "execution_count": 249,
   "id": "5c33a444",
   "metadata": {},
   "outputs": [],
   "source": [
    "model_LRG = LinearRegression()\n",
    "model_LRG.fit(X_train,y_train)\n",
    "res = model_LRG.predict(X_test)"
   ]
  },
  {
   "cell_type": "code",
   "execution_count": 250,
   "id": "3833f398",
   "metadata": {},
   "outputs": [
    {
     "data": {
      "text/plain": [
       "0.0003535471684654734"
      ]
     },
     "execution_count": 250,
     "metadata": {},
     "output_type": "execute_result"
    }
   ],
   "source": [
    "model_LRG.score(X_test,y_test)"
   ]
  },
  {
   "cell_type": "code",
   "execution_count": 251,
   "id": "8ecf1801",
   "metadata": {},
   "outputs": [
    {
     "data": {
      "text/html": [
       "<style>#sk-container-id-5 {color: black;background-color: white;}#sk-container-id-5 pre{padding: 0;}#sk-container-id-5 div.sk-toggleable {background-color: white;}#sk-container-id-5 label.sk-toggleable__label {cursor: pointer;display: block;width: 100%;margin-bottom: 0;padding: 0.3em;box-sizing: border-box;text-align: center;}#sk-container-id-5 label.sk-toggleable__label-arrow:before {content: \"▸\";float: left;margin-right: 0.25em;color: #696969;}#sk-container-id-5 label.sk-toggleable__label-arrow:hover:before {color: black;}#sk-container-id-5 div.sk-estimator:hover label.sk-toggleable__label-arrow:before {color: black;}#sk-container-id-5 div.sk-toggleable__content {max-height: 0;max-width: 0;overflow: hidden;text-align: left;background-color: #f0f8ff;}#sk-container-id-5 div.sk-toggleable__content pre {margin: 0.2em;color: black;border-radius: 0.25em;background-color: #f0f8ff;}#sk-container-id-5 input.sk-toggleable__control:checked~div.sk-toggleable__content {max-height: 200px;max-width: 100%;overflow: auto;}#sk-container-id-5 input.sk-toggleable__control:checked~label.sk-toggleable__label-arrow:before {content: \"▾\";}#sk-container-id-5 div.sk-estimator input.sk-toggleable__control:checked~label.sk-toggleable__label {background-color: #d4ebff;}#sk-container-id-5 div.sk-label input.sk-toggleable__control:checked~label.sk-toggleable__label {background-color: #d4ebff;}#sk-container-id-5 input.sk-hidden--visually {border: 0;clip: rect(1px 1px 1px 1px);clip: rect(1px, 1px, 1px, 1px);height: 1px;margin: -1px;overflow: hidden;padding: 0;position: absolute;width: 1px;}#sk-container-id-5 div.sk-estimator {font-family: monospace;background-color: #f0f8ff;border: 1px dotted black;border-radius: 0.25em;box-sizing: border-box;margin-bottom: 0.5em;}#sk-container-id-5 div.sk-estimator:hover {background-color: #d4ebff;}#sk-container-id-5 div.sk-parallel-item::after {content: \"\";width: 100%;border-bottom: 1px solid gray;flex-grow: 1;}#sk-container-id-5 div.sk-label:hover label.sk-toggleable__label {background-color: #d4ebff;}#sk-container-id-5 div.sk-serial::before {content: \"\";position: absolute;border-left: 1px solid gray;box-sizing: border-box;top: 0;bottom: 0;left: 50%;z-index: 0;}#sk-container-id-5 div.sk-serial {display: flex;flex-direction: column;align-items: center;background-color: white;padding-right: 0.2em;padding-left: 0.2em;position: relative;}#sk-container-id-5 div.sk-item {position: relative;z-index: 1;}#sk-container-id-5 div.sk-parallel {display: flex;align-items: stretch;justify-content: center;background-color: white;position: relative;}#sk-container-id-5 div.sk-item::before, #sk-container-id-5 div.sk-parallel-item::before {content: \"\";position: absolute;border-left: 1px solid gray;box-sizing: border-box;top: 0;bottom: 0;left: 50%;z-index: -1;}#sk-container-id-5 div.sk-parallel-item {display: flex;flex-direction: column;z-index: 1;position: relative;background-color: white;}#sk-container-id-5 div.sk-parallel-item:first-child::after {align-self: flex-end;width: 50%;}#sk-container-id-5 div.sk-parallel-item:last-child::after {align-self: flex-start;width: 50%;}#sk-container-id-5 div.sk-parallel-item:only-child::after {width: 0;}#sk-container-id-5 div.sk-dashed-wrapped {border: 1px dashed gray;margin: 0 0.4em 0.5em 0.4em;box-sizing: border-box;padding-bottom: 0.4em;background-color: white;}#sk-container-id-5 div.sk-label label {font-family: monospace;font-weight: bold;display: inline-block;line-height: 1.2em;}#sk-container-id-5 div.sk-label-container {text-align: center;}#sk-container-id-5 div.sk-container {/* jupyter's `normalize.less` sets `[hidden] { display: none; }` but bootstrap.min.css set `[hidden] { display: none !important; }` so we also need the `!important` here to be able to override the default hidden behavior on the sphinx rendered scikit-learn.org. See: https://github.com/scikit-learn/scikit-learn/issues/21755 */display: inline-block !important;position: relative;}#sk-container-id-5 div.sk-text-repr-fallback {display: none;}</style><div id=\"sk-container-id-5\" class=\"sk-top-container\"><div class=\"sk-text-repr-fallback\"><pre>Lasso()</pre><b>In a Jupyter environment, please rerun this cell to show the HTML representation or trust the notebook. <br />On GitHub, the HTML representation is unable to render, please try loading this page with nbviewer.org.</b></div><div class=\"sk-container\" hidden><div class=\"sk-item\"><div class=\"sk-estimator sk-toggleable\"><input class=\"sk-toggleable__control sk-hidden--visually\" id=\"sk-estimator-id-5\" type=\"checkbox\" checked><label for=\"sk-estimator-id-5\" class=\"sk-toggleable__label sk-toggleable__label-arrow\">Lasso</label><div class=\"sk-toggleable__content\"><pre>Lasso()</pre></div></div></div></div></div>"
      ],
      "text/plain": [
       "Lasso()"
      ]
     },
     "execution_count": 251,
     "metadata": {},
     "output_type": "execute_result"
    }
   ],
   "source": [
    "from sklearn.linear_model import Lasso\n",
    "model_LSR = Lasso()\n",
    "model_LSR.fit(X_train,y_train)"
   ]
  },
  {
   "cell_type": "code",
   "execution_count": 252,
   "id": "771741a9",
   "metadata": {},
   "outputs": [
    {
     "data": {
      "text/plain": [
       "0.00033783103658246993"
      ]
     },
     "execution_count": 252,
     "metadata": {},
     "output_type": "execute_result"
    }
   ],
   "source": [
    "res = model_LSR.predict(X_test)\n",
    "model_LSR.score(X_test,y_test)"
   ]
  },
  {
   "cell_type": "code",
   "execution_count": null,
   "id": "1b948739",
   "metadata": {},
   "outputs": [],
   "source": []
  },
  {
   "cell_type": "code",
   "execution_count": null,
   "id": "25ea07a0",
   "metadata": {},
   "outputs": [],
   "source": []
  }
 ],
 "metadata": {
  "kernelspec": {
   "display_name": "Python 3 (ipykernel)",
   "language": "python",
   "name": "python3"
  },
  "language_info": {
   "codemirror_mode": {
    "name": "ipython",
    "version": 3
   },
   "file_extension": ".py",
   "mimetype": "text/x-python",
   "name": "python",
   "nbconvert_exporter": "python",
   "pygments_lexer": "ipython3",
   "version": "3.9.12"
  }
 },
 "nbformat": 4,
 "nbformat_minor": 5
}
